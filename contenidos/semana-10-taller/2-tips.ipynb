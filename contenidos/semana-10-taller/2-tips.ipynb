{
 "cells": [
  {
   "cell_type": "markdown",
   "metadata": {},
   "source": [
    "Ejemplos de código"
   ]
  },
  {
   "cell_type": "markdown",
   "metadata": {
    "slideshow": {
     "slide_type": "subslide"
    }
   },
   "source": [
    "## Extracción de valores\n",
    "\n",
    "En ocasiones hacemos una consulta y obtenemos un resultado con múltiples valores, como una secuencia (lista, tupla). Es común utilizar el nombre de variable `_` cuando no queremos realmente utilizar el valor que está almacenado ahí, o es solamente una variable temporal sin ningún significa semántico.\n"
   ]
  },
  {
   "cell_type": "code",
   "execution_count": 1,
   "metadata": {},
   "outputs": [
    {
     "name": "stdout",
     "output_type": "stream",
     "text": [
      "A B\n"
     ]
    }
   ],
   "source": [
    "import random\n",
    "import string\n",
    "\n",
    "# Uso de variables \"insignificantes\" para valores no importantes\n",
    "# El valor de al medio no me interesa\n",
    "x, _, y = ['A', 'Valor que no importa', 'B']\n",
    "print(x, y)\n"
   ]
  },
  {
   "cell_type": "markdown",
   "metadata": {},
   "source": [
    "Podemos usar esto mismo en estructuras iterables, pero también en estructuras definidas por comprensión."
   ]
  },
  {
   "cell_type": "code",
   "execution_count": 2,
   "metadata": {},
   "outputs": [
    {
     "name": "stdout",
     "output_type": "stream",
     "text": [
      "A B\n"
     ]
    }
   ],
   "source": [
    "# Solo me interesan los dos primermos valores. El resto de los valores no me sirve.\n",
    "x, y, *_ = ['A', 'B', *[random.randint(1,10) for i in range(3)]]\n",
    "print(x, y)\n"
   ]
  },
  {
   "cell_type": "code",
   "execution_count": 3,
   "metadata": {},
   "outputs": [
    {
     "name": "stdout",
     "output_type": "stream",
     "text": [
      "A 8\n"
     ]
    }
   ],
   "source": [
    "# Los valores del medio no me sirven\n",
    "x, *_, y = ['A', 'B', *[random.randint(1,10) for i in range(3)]]\n",
    "print(x, y)\n"
   ]
  },
  {
   "cell_type": "code",
   "execution_count": 4,
   "metadata": {},
   "outputs": [
    {
     "name": "stdout",
     "output_type": "stream",
     "text": [
      "hxzrzubnnm\n"
     ]
    }
   ],
   "source": [
    "# No me interesa el valor en la iteracion.\n",
    "# Solo quiero ejecutarla 10 veces\n",
    "for _ in range(10):\n",
    "   print(random.choice(string.ascii_lowercase), end='')\n",
    "print('')\n"
   ]
  },
  {
   "cell_type": "code",
   "execution_count": 7,
   "metadata": {},
   "outputs": [
    {
     "name": "stdout",
     "output_type": "stream",
     "text": [
      "[24, 21, 15, 11, 11, 28, 13, 23, 10, 24]\n"
     ]
    }
   ],
   "source": [
    "# En lista por comprensión\n",
    "mi_comprehensible_lista = [random.randint(10, 30) for _ in range(10)]\n",
    "print(mi_comprehensible_lista)"
   ]
  },
  {
   "cell_type": "markdown",
   "metadata": {
    "slideshow": {
     "slide_type": "subslide"
    }
   },
   "source": [
    "## Creación de comprensiones"
   ]
  },
  {
   "cell_type": "markdown",
   "metadata": {},
   "source": [
    "Si bien no es obligatorio usarlos, Python permite definir estructuras de agrupación (como lista, conjuntos, diccionarios) utilizando definiciones por comprensión. Son equivalentes, en cuanto a resultado, a usar un `for` o un `while` pero en cuanto a claridad y a eficiencia del código pueden ser muy descriptivas y permiten construir agrupaciones con pocas líneas."
   ]
  },
  {
   "cell_type": "code",
   "execution_count": 36,
   "metadata": {},
   "outputs": [
    {
     "name": "stdout",
     "output_type": "stream",
     "text": [
      "{'nombre': 'Polea', 'edad': '52', 'comida_favorita': 'guacamole'}\n"
     ]
    }
   ],
   "source": [
    "# Comprehensible dicts\n",
    "keys = ['nombre', 'edad', 'comida_favorita']\n",
    "values = ['Polea', '52', 'guacamole']\n",
    "\n",
    "# Creación de un diccionario por comprensión. Recuerden que zip genera \"pares\" con un elemento de cada parámetro.\n",
    "mi_comprensible_dict = {k: v for k, v in zip(keys, values)}\n",
    "print(mi_comprensible_dict)"
   ]
  },
  {
   "cell_type": "code",
   "execution_count": 37,
   "metadata": {},
   "outputs": [
    {
     "name": "stdout",
     "output_type": "stream",
     "text": [
      "{'enzo', 'benja', 'pablo', 'iri', 'micha', 'juan', 'nico'}\n"
     ]
    }
   ],
   "source": [
    "# Comprehensible sets\n",
    "nombres = ['benja', 'nico', 'juan', 'juan', 'iri', 'pablo', 'enzo', 'micha','nico']\n",
    "\n",
    "# Creación de un conjunto usando una definición por comprensión\n",
    "mi_set = {n for n in nombres}\n",
    "print(mi_set)"
   ]
  },
  {
   "cell_type": "markdown",
   "metadata": {},
   "source": [
    "## IFs\n",
    "\n",
    "Las instrucciones condicionales reciben un valor de tipo `bool`. No necesitan comparar si es igual a `True` o distinto de `False`. Esto:"
   ]
  },
  {
   "cell_type": "code",
   "execution_count": 15,
   "metadata": {},
   "outputs": [
    {
     "name": "stdout",
     "output_type": "stream",
     "text": [
      "Verdadero\n"
     ]
    }
   ],
   "source": [
    "valor = 5 > 3\n",
    "\n",
    "if valor == True:\n",
    "    print(\"Verdadero\")\n",
    "else:\n",
    "    print(\"Falso\")"
   ]
  },
  {
   "cell_type": "markdown",
   "metadata": {},
   "source": [
    "es equivalente a esto:"
   ]
  },
  {
   "cell_type": "code",
   "execution_count": 16,
   "metadata": {},
   "outputs": [
    {
     "name": "stdout",
     "output_type": "stream",
     "text": [
      "Verdadero\n"
     ]
    }
   ],
   "source": [
    "valor = 5 > 3\n",
    "\n",
    "if valor:\n",
    "    print(\"Verdadero\")\n",
    "else:\n",
    "    print(\"Falso\")"
   ]
  },
  {
   "cell_type": "markdown",
   "metadata": {},
   "source": [
    "## Desempaquetamiento automático\n",
    "\n",
    "Al momento de recibir valores de una estructura iterable, es posible desempaquetarlos automáticamente."
   ]
  },
  {
   "cell_type": "code",
   "execution_count": 38,
   "metadata": {},
   "outputs": [
    {
     "name": "stdout",
     "output_type": "stream",
     "text": [
      "1 2 3\n"
     ]
    }
   ],
   "source": [
    "def devolver_coordenadas():\n",
    "    return 1, 2, 3 # Esto se retorna como una tupla\n",
    "\n",
    "x, y, z = devolver_coordenadas() \n",
    "print(x,y,z)"
   ]
  },
  {
   "cell_type": "code",
   "execution_count": 39,
   "metadata": {},
   "outputs": [
    {
     "name": "stdout",
     "output_type": "stream",
     "text": [
      "1 2 3\n"
     ]
    }
   ],
   "source": [
    "lista_ejemplo = [1, 2, 3]\n",
    "\n",
    "a, b, c = lista_ejemplo # desempaqueto los valores de la lista\n",
    "print(a,b,c)"
   ]
  },
  {
   "cell_type": "code",
   "execution_count": 40,
   "metadata": {},
   "outputs": [
    {
     "name": "stdout",
     "output_type": "stream",
     "text": [
      "[1, 2] [4, 5]\n"
     ]
    }
   ],
   "source": [
    "lista_compleja = [[1, 2], [4, 5]]\n",
    "\n",
    "lista_1, lista_2 = lista_compleja # funciona con elementos mutables\n",
    "print(lista_1, lista_2)"
   ]
  },
  {
   "cell_type": "markdown",
   "metadata": {},
   "source": [
    "## IFs con diccionarios\n",
    "\n",
    "Los diccionarios pueden ser muy útiles para hacer transformaciones. Si bien pueden importarse y usarse desde otro módulo tal como una función con múltiples ''if/elif/else'', el mecanismo de selección es más eficiente, son más flexibles ya que pueden recibir cualquier tipo de dato (no mutable) como _key_, y son más fáciles de actualizar. También son más fáciles y limpios de leer."
   ]
  },
  {
   "cell_type": "code",
   "execution_count": 23,
   "metadata": {},
   "outputs": [
    {
     "name": "stdout",
     "output_type": "stream",
     "text": [
      "Carga pixmap personaje/f/f_02.png\n"
     ]
    }
   ],
   "source": [
    "## Definir previamente\n",
    "def cual_archivo(tile):\n",
    "    ruta = \"\"\n",
    "    if tile == \"personaje_u\":\n",
    "        ruta = \"personaje/f/f_01.png\"\n",
    "    elif tile == \"personaje_d\":\n",
    "        ruta = \"personaje/f/f_02.png\"\n",
    "    elif tile == \"personaje_l\":\n",
    "        ruta = \"personaje/f/f_03.png\"\n",
    "    elif tile == \"personaje_r\":\n",
    "        ruta = \"personaje/f/f_03.png\"\n",
    "    return ruta\n",
    "\n",
    "\n",
    "## Al momento de usarlo  \n",
    "direccion = \"personaje_d\"\n",
    "print(f\"Carga pixmap {cual_archivo(direccion)}\")\n"
   ]
  },
  {
   "cell_type": "code",
   "execution_count": 24,
   "metadata": {},
   "outputs": [
    {
     "name": "stdout",
     "output_type": "stream",
     "text": [
      "Carga pixmap personaje/f/f_02.png\n"
     ]
    }
   ],
   "source": [
    "## Definir previamente\n",
    "dict_personaje = dict()\n",
    "dict_personaje[\"u\"] = \"personaje/f/f_01.png\"\n",
    "dict_personaje[\"d\"] = \"personaje/f/f_02.png\"\n",
    "dict_personaje[\"l\"] = \"personaje/f/f_03.png\"\n",
    "dict_personaje[\"r\"] = \"personaje/f/f_04.png\"\n",
    "\n",
    "\n",
    "## Al momento de usarlo\n",
    "direccion = \"d\"\n",
    "print(f\"Carga pixmap {dict_personaje[direccion]}\")\n",
    "\n",
    "\n",
    "\n"
   ]
  },
  {
   "cell_type": "markdown",
   "metadata": {},
   "source": [
    "## Construyendo rutas\n",
    "\n",
    "El módulo `os.path` es muy útil para trabajar con rutas, sobre todo si a veces trabajamos en Windows, a veces en Linux, a veces en macOS. Cada sistema tiene su simbología (``/``, ó ``\\``) preferida para trabajar con rutas, y no vale la pena crear un `if` para cada caso. "
   ]
  },
  {
   "cell_type": "code",
   "execution_count": 28,
   "metadata": {},
   "outputs": [
    {
     "name": "stdout",
     "output_type": "stream",
     "text": [
      "Ruta solo para Linux/Mac\n",
      "sprites/pinguino/normal/normal_18.png\n",
      "Ruta genérica. Se ven iguales, pero este manera es 'portable' entre distintos sistemas operativos\n",
      "sprites/pinguino/normal/normal_18.png\n"
     ]
    }
   ],
   "source": [
    "import os\n",
    "\n",
    "\n",
    "archivo = \"normal_18.png\"\n",
    "\n",
    "## SIN os.path\n",
    "## Esto funciona en Linux o Mac, pero puede fallar en Windows.\n",
    "## ¿En qué lo corregirá el ayudante? ... No nos debería importar\n",
    "print(\"Ruta solo para Linux/Mac\")\n",
    "ruta = \"sprites/pinguino/normal/\" + archivo\n",
    "print(ruta)\n",
    "\n",
    "## CON os.path\n",
    "## Esto funciona en cualquier sistema\n",
    "print(\"Ruta genérica. Se ven iguales, pero este manera es 'portable' entre distintos sistemas operativos\")\n",
    "ruta = os.path.join(\"sprites\",\"pinguino\",\"normal\",archivo)\n",
    "print(ruta)"
   ]
  },
  {
   "cell_type": "markdown",
   "metadata": {},
   "source": [
    "## NO a las rutas absolutas\n",
    "\n",
    "El intérprete de Python busca archivos a partir del directorio en que se ejecutó el archivo. Al momento de escribir la ruta en que se encuentra el archivo tengan en cuenta que **no deben usar rutas absolutas**.\n",
    "\n",
    "¿Qué es una ruta absoluta?, son las rutas que en Linux/macOS empiezan con un `/`, y en Windows empiezan con `C://` (o la letra que corresponda a la unidad de disco). Una ruta absoluta representa un camino único desde el inicio del directorio (ubicación raíz) hasta el directorio (carpeta) donde se encuentra el archivo.\n",
    "\n",
    "¿Por qué es mala idea usarla? Si escribes un ruta absoluta para encontrar un archivo, esto funcionará en tu computador, pero si mueves tu código a otro computador (por ejemplo al del ayudante), el programa esperará que el archivo se encuentre exactamente en la misma ubicación que estaba en el primer computador, y seguramente no lo encontrará. Es verdad que a ratos puede parecer que soluciona algunos problemas inmediatos, pero **NO**.\n",
    "\n",
    "¿Cómo evitarlo? Usar rutas **relativas**. Las rutas relativas empieza con un nombre de directorio que debe encontrarse en el mismo en que se encuentra el programa principal. \n"
   ]
  },
  {
   "cell_type": "code",
   "execution_count": 34,
   "metadata": {},
   "outputs": [
    {
     "name": "stdout",
     "output_type": "stream",
     "text": [
      "Ruta absoluta. Indica que, desde el directorio raíz debe. REQUIERE que todas las personas que ejecutan este código, tengan la misma estructura de directorio\n",
      "/Documents/cruz/PrograAvanzada/Taller/semana-10/ejemplo/sprites/pinguino/normal/normal_18.png\n",
      "\n",
      "Ruta relativa. Busca a partir del directorio actual. SIEMPRE usar este modo.\n",
      "sprites/pinguino/normal/normal_18.png\n"
     ]
    }
   ],
   "source": [
    "import os\n",
    "\n",
    "archivo = \"normal_18.png\"\n",
    "\n",
    "print(\"Ruta absoluta. Indica que, desde el directorio raíz debe. REQUIERE que todas las personas que ejecutan este código, tengan la misma estructura de directorio\")\n",
    "ruta = os.path.join(\"/Documents\",\"cruz\", \"PrograAvanzada\", \"Taller\", \"semana-10\", \"ejemplo\", \\\n",
    "                    \"sprites\",\"pinguino\",\"normal\",archivo)\n",
    "print(ruta)\n",
    "\n",
    "print(\"\\nRuta relativa. Busca a partir del directorio actual. SIEMPRE usar este modo.\")\n",
    "ruta = os.path.join(\"sprites\",\"pinguino\",\"normal\",archivo)\n",
    "print(ruta)"
   ]
  },
  {
   "cell_type": "code",
   "execution_count": null,
   "metadata": {},
   "outputs": [],
   "source": []
  }
 ],
 "metadata": {
  "kernelspec": {
   "display_name": "Python 3",
   "language": "python",
   "name": "python3"
  },
  "language_info": {
   "codemirror_mode": {
    "name": "ipython",
    "version": 3
   },
   "file_extension": ".py",
   "mimetype": "text/x-python",
   "name": "python",
   "nbconvert_exporter": "python",
   "pygments_lexer": "ipython3",
   "version": "3.6.8"
  }
 },
 "nbformat": 4,
 "nbformat_minor": 2
}
