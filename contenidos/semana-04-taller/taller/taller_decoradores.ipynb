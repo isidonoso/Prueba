{
 "cells": [
  {
   "cell_type": "markdown",
   "metadata": {
    "slideshow": {
     "slide_type": "slide"
    }
   },
   "source": [
    "# Semana 04: \n",
    "# Taller de decoradores"
   ]
  },
  {
   "cell_type": "markdown",
   "metadata": {
    "slideshow": {
     "slide_type": "slide"
    }
   },
   "source": [
    "## Anuncios"
   ]
  },
  {
   "cell_type": "markdown",
   "metadata": {
    "slideshow": {
     "slide_type": "fragment"
    }
   },
   "source": [
    "- Encuesta de carga académica: ¡Por favor responder!"
   ]
  },
  {
   "cell_type": "markdown",
   "metadata": {
    "slideshow": {
     "slide_type": "slide"
    }
   },
   "source": [
    "- Ya se publicaron las notas de la AC01 (😞)\n",
    "- El plazo de recorreción de la AC01 el martes 9 de abril a las 20:00"
   ]
  },
  {
   "cell_type": "markdown",
   "metadata": {
    "slideshow": {
     "slide_type": "slide"
    }
   },
   "source": [
    "- Esta semana se entrega la T01, ¿cómo van?\n",
    "- Ya se publicó el *feedback* general del avance, está en una [*issue* del Syllabus](https://github.com/IIC2233/syllabus/issues/93)"
   ]
  },
  {
   "cell_type": "markdown",
   "metadata": {
    "slideshow": {
     "slide_type": "slide"
    }
   },
   "source": [
    "## Repaso de funciones"
   ]
  },
  {
   "cell_type": "code",
   "execution_count": null,
   "metadata": {
    "ExecuteTime": {
     "end_time": "2019-04-04T15:23:55.714066Z",
     "start_time": "2019-04-04T15:23:55.706111Z"
    },
    "slideshow": {
     "slide_type": "fragment"
    }
   },
   "outputs": [],
   "source": [
    "def funcion(arg1, arg2, arg3):\n",
    "    # subrutina \n",
    "    print(f\"funcion fue llamada con argumentos: {arg1}, {arg2}, {arg3}\")\n",
    "    return arg1 + arg2 + arg3\n",
    "\n",
    "print(f\"print de funcion: {funcion}\")\n",
    "\n",
    "retorno = funcion(1, 2, 3)\n",
    "\n",
    "print(f\"print de retorno de funcion(1, 2, 3): {retorno}\")"
   ]
  },
  {
   "cell_type": "markdown",
   "metadata": {
    "slideshow": {
     "slide_type": "slide"
    }
   },
   "source": [
    "Sabemos que:\n",
    "\n",
    "* Todas las funciones retornan algo por definición. Podemos elegir qué retornar usando la *keyword* `return` (o no usándola)\n",
    "* Podemos renombrar una función guardandola en otra variable\n",
    "* Podemos pasar cualquier cantidad de argumentos a una función utiizando `*args` y `**kwargs`. ¿Cómo funcionan exactamente?"
   ]
  },
  {
   "cell_type": "code",
   "execution_count": null,
   "metadata": {
    "ExecuteTime": {
     "end_time": "2019-04-04T15:25:42.658189Z",
     "start_time": "2019-04-04T15:25:42.646432Z"
    },
    "slideshow": {
     "slide_type": "slide"
    }
   },
   "outputs": [],
   "source": [
    "def funcion(*args, **kwargs):\n",
    "    print(args)\n",
    "    print(kwargs)\n",
    "    # print(type(args))\n",
    "    # print(type(kwargs))\n",
    "    # for arg in args:\n",
    "    #     print(f\"arg: {arg}\")\n",
    "    # for kwarg in kwargs.items():\n",
    "    #     print(f\"kwarg: {kwarg}\")\n",
    "\n",
    "funcion(1, 2, 3)\n",
    "# funcion(\"Uno\", \"Dos\")\n",
    "# funcion(llave=\"valor\", otra_llave=\"otro valor\")"
   ]
  },
  {
   "cell_type": "markdown",
   "metadata": {
    "slideshow": {
     "slide_type": "slide"
    }
   },
   "source": [
    "Un pequeño ejemplo:"
   ]
  },
  {
   "cell_type": "code",
   "execution_count": null,
   "metadata": {
    "ExecuteTime": {
     "end_time": "2019-04-04T15:25:59.498478Z",
     "start_time": "2019-04-04T15:25:59.487524Z"
    },
    "slideshow": {
     "slide_type": "fragment"
    }
   },
   "outputs": [],
   "source": [
    "from functools import reduce\n",
    "\n",
    "def multiply_numbers(*numbers):\n",
    "    print(f\"*args: {numbers}\")\n",
    "    return reduce(lambda x, y: x*y, numbers)"
   ]
  },
  {
   "cell_type": "code",
   "execution_count": null,
   "metadata": {
    "ExecuteTime": {
     "end_time": "2019-04-04T15:26:17.805673Z",
     "start_time": "2019-04-04T15:26:17.792228Z"
    },
    "slideshow": {
     "slide_type": "fragment"
    }
   },
   "outputs": [],
   "source": [
    "multiply_numbers(42)\n",
    "# multiply_numbers(1, 2, 3)\n",
    "# multiply_numbers(*[6, 7])"
   ]
  },
  {
   "cell_type": "markdown",
   "metadata": {
    "slideshow": {
     "slide_type": "slide"
    }
   },
   "source": [
    "##  Ahora, un par de preguntas conceptuales:"
   ]
  },
  {
   "cell_type": "markdown",
   "metadata": {
    "slideshow": {
     "slide_type": "subslide"
    }
   },
   "source": [
    "### ¿Las funciones son objetos?"
   ]
  },
  {
   "cell_type": "markdown",
   "metadata": {
    "slideshow": {
     "slide_type": "subslide"
    }
   },
   "source": [
    "### ¿Las funciones tienen atributos?"
   ]
  },
  {
   "cell_type": "markdown",
   "metadata": {
    "slideshow": {
     "slide_type": "slide"
    }
   },
   "source": [
    "#### ¿Las funciones son objetos?\n",
    "##### R: Sí.\n",
    "#### ¿Las funciones tienen atributos?\n",
    "##### R: Como la mayoría de los objetos, sí."
   ]
  },
  {
   "cell_type": "markdown",
   "metadata": {
    "slideshow": {
     "slide_type": "slide"
    }
   },
   "source": [
    "### Funciones en Python\n",
    "Lo primero que es necesario entender (antes de continuar con el taller), es que todas las funciones en Python son [ciudadanos de primera clase](https://en.wikipedia.org/wiki/First-class_citizen) (*First-class citizens*). Esto quiere decir que son considerados como cualquier otro objeto en Python.\n",
    "\n",
    "Esto implica lo siguiente:"
   ]
  },
  {
   "cell_type": "markdown",
   "metadata": {
    "slideshow": {
     "slide_type": "slide"
    }
   },
   "source": [
    "1\\. Tienen atributos"
   ]
  },
  {
   "cell_type": "code",
   "execution_count": null,
   "metadata": {
    "ExecuteTime": {
     "end_time": "2019-04-04T15:28:13.942919Z",
     "start_time": "2019-04-04T15:28:13.932984Z"
    },
    "slideshow": {
     "slide_type": "fragment"
    }
   },
   "outputs": [],
   "source": [
    "def f():\n",
    "    \"\"\"Funcion que imprime algo.\"\"\"\n",
    "    print('algo')\n",
    "\n",
    "print(dir(f))"
   ]
  },
  {
   "cell_type": "markdown",
   "metadata": {
    "slideshow": {
     "slide_type": "slide"
    }
   },
   "source": [
    "2\\. Las funciones pueden ser asignadas a una variable, y luego usar esa variable igual que la función."
   ]
  },
  {
   "cell_type": "code",
   "execution_count": null,
   "metadata": {
    "ExecuteTime": {
     "end_time": "2019-04-04T15:28:23.543854Z",
     "start_time": "2019-04-04T15:28:23.537917Z"
    },
    "slideshow": {
     "slide_type": "fragment"
    }
   },
   "outputs": [],
   "source": [
    "def suma(x, y):\n",
    "    return x + y\n",
    "\n",
    "adicion = suma\n",
    "\n",
    "print(suma(3, 5))\n",
    "print(adicion(3, 5))"
   ]
  },
  {
   "cell_type": "markdown",
   "metadata": {
    "slideshow": {
     "slide_type": "slide"
    }
   },
   "source": [
    "3\\. Se pueden utilizar como argumentos de otras funciones"
   ]
  },
  {
   "cell_type": "code",
   "execution_count": null,
   "metadata": {
    "ExecuteTime": {
     "end_time": "2019-04-04T12:51:31.275302Z",
     "start_time": "2019-04-04T12:51:31.258296Z"
    },
    "slideshow": {
     "slide_type": "fragment"
    }
   },
   "outputs": [],
   "source": [
    "def func_name(function):\n",
    "    return function.__name__\n",
    "\n",
    "func_name(adicion)"
   ]
  },
  {
   "cell_type": "code",
   "execution_count": null,
   "metadata": {
    "ExecuteTime": {
     "end_time": "2019-04-04T15:28:51.257624Z",
     "start_time": "2019-04-04T15:28:51.244716Z"
    },
    "slideshow": {
     "slide_type": "fragment"
    }
   },
   "outputs": [],
   "source": [
    "def operacion(x, y, funcion):\n",
    "    return x + y + funcion(x + y)\n",
    "\n",
    "def cubo(x):\n",
    "    return x ** 3\n",
    "\n",
    "operacion(3, 5, cubo)  # 3 + 5 + (3 + 5) ** 3 = 8 + 512 = 520"
   ]
  },
  {
   "cell_type": "markdown",
   "metadata": {
    "slideshow": {
     "slide_type": "slide"
    }
   },
   "source": [
    "4\\. Pueden ser almacenadas en estructuras de datos"
   ]
  },
  {
   "cell_type": "code",
   "execution_count": null,
   "metadata": {
    "ExecuteTime": {
     "end_time": "2019-04-04T12:51:55.220522Z",
     "start_time": "2019-04-04T12:51:55.215732Z"
    },
    "slideshow": {
     "slide_type": "fragment"
    }
   },
   "outputs": [],
   "source": [
    "lista_de_funciones = [adicion, suma]\n",
    "for funcion in lista_de_funciones:\n",
    "    print(funcion(1,1))"
   ]
  },
  {
   "cell_type": "markdown",
   "metadata": {
    "slideshow": {
     "slide_type": "slide"
    }
   },
   "source": [
    "5\\. Por último, las funciones pueden retornar otras funciones. Estas pueden ser creadas dentro de la misma funcion."
   ]
  },
  {
   "cell_type": "code",
   "execution_count": null,
   "metadata": {
    "ExecuteTime": {
     "end_time": "2019-04-04T12:52:01.113231Z",
     "start_time": "2019-04-04T12:52:01.105374Z"
    },
    "slideshow": {
     "slide_type": "fragment"
    }
   },
   "outputs": [],
   "source": [
    "def fabricar_funcion():\n",
    "    def nueva_funcion(x, y):\n",
    "        return x * y\n",
    "    return nueva_funcion\n",
    "\n",
    "funcion = fabricar_funcion()\n",
    "print(funcion(3, 5))"
   ]
  },
  {
   "cell_type": "markdown",
   "metadata": {
    "slideshow": {
     "slide_type": "slide"
    }
   },
   "source": [
    "### Motivación\n",
    "Ahora que sabemos todo esto, nos pueden surgir dudas como\n",
    "- ¿Qué más puedo hacer con todo esto?\n",
    "- ¿Para qué puedo utilizar todo esto?\n",
    "- ¿Qué rayos hago en este taller? Debería estar programando mi tarea 😰 "
   ]
  },
  {
   "cell_type": "markdown",
   "metadata": {
    "slideshow": {
     "slide_type": "slide"
    }
   },
   "source": [
    "- Todas son preguntas válidas que trataremos de responder con las siguientes slides.\n",
    "- Veremos algo de la vida real, que puede ser llevado a código gracias a todo esto."
   ]
  },
  {
   "cell_type": "markdown",
   "metadata": {
    "slideshow": {
     "slide_type": "slide"
    }
   },
   "source": [
    "Primero, un par de preguntas:"
   ]
  },
  {
   "cell_type": "markdown",
   "metadata": {
    "slideshow": {
     "slide_type": "fragment"
    }
   },
   "source": [
    "¿Ustedes personalizan sus objetos personales?"
   ]
  },
  {
   "cell_type": "markdown",
   "metadata": {
    "slideshow": {
     "slide_type": "fragment"
    }
   },
   "source": [
    "¿Les ha pasado que algo funciona de una forma, pero quisieran que hiciera algo más? (Algo más personalizado)"
   ]
  },
  {
   "cell_type": "markdown",
   "metadata": {
    "slideshow": {
     "slide_type": "slide"
    }
   },
   "source": [
    "En la vida real siempre podemos modificar o personalizar nuestras pertenencias de forma que nos sea más cómoda su utilización. Siempre podemos \"decorar\" nuestros objetos."
   ]
  },
  {
   "cell_type": "markdown",
   "metadata": {
    "slideshow": {
     "slide_type": "fragment"
    }
   },
   "source": [
    "Hay veces en que quisieramos poder hacer lo mismo en nuestro código, pero... ¿podemos?"
   ]
  },
  {
   "cell_type": "markdown",
   "metadata": {
    "slideshow": {
     "slide_type": "subslide"
    }
   },
   "source": [
    "## Decoradores de funciones"
   ]
  },
  {
   "cell_type": "markdown",
   "metadata": {
    "slideshow": {
     "slide_type": "fragment"
    }
   },
   "source": [
    "Pueden entenderse como una composición de funciones, con el objetivo de añadir una funcionalidad a una función sin reescribir el código original.\n",
    "\n",
    "Los [decoradores](https://es.wikipedia.org/wiki/Decorator_(patr%C3%B3n_de_dise%C3%B1o)) son un concepto agnóstico al lenguaje de programación. Esto significa que si lo entienden pueden aplicarlo en Python, tanto como en Java o C++. "
   ]
  },
  {
   "cell_type": "code",
   "execution_count": null,
   "metadata": {
    "ExecuteTime": {
     "end_time": "2019-04-04T12:53:48.828299Z",
     "start_time": "2019-04-04T12:53:48.672183Z"
    },
    "slideshow": {
     "slide_type": "slide"
    }
   },
   "outputs": [],
   "source": [
    "def f():\n",
    "    print(\"Soy una funcion\")\n",
    "f_decorada = decorador(f)"
   ]
  },
  {
   "cell_type": "markdown",
   "metadata": {
    "slideshow": {
     "slide_type": "fragment"
    }
   },
   "source": [
    "Como podemos notar, estamos creando una nueva versión de la funcion `f` inmediatamente después de declararla. Esto quiere decir, que el decorador recibe una función y retorna una función: `decorador(f)`."
   ]
  },
  {
   "cell_type": "markdown",
   "metadata": {
    "slideshow": {
     "slide_type": "fragment"
    }
   },
   "source": [
    "Creemos nuestro primer decorador (básico)."
   ]
  },
  {
   "cell_type": "code",
   "execution_count": null,
   "metadata": {
    "ExecuteTime": {
     "end_time": "2019-04-04T12:53:53.433232Z",
     "start_time": "2019-04-04T12:53:53.425196Z"
    },
    "slideshow": {
     "slide_type": "slide"
    }
   },
   "outputs": [],
   "source": [
    "def f():\n",
    "    print(\"Soy una funcion\")\n",
    "\n",
    "def decorador(funcion):\n",
    "    pass # return None\n",
    "    # print(f\"Recibi la funcion: {funcion.__name__}\")\n",
    "    # return funcion\n",
    "    # def funcion...\n",
    "\n",
    "# Nuestra línea principal de código\n",
    "f_decorada = decorador(f)"
   ]
  },
  {
   "cell_type": "code",
   "execution_count": null,
   "metadata": {
    "ExecuteTime": {
     "end_time": "2019-04-04T12:53:55.434809Z",
     "start_time": "2019-04-04T12:53:55.418846Z"
    },
    "slideshow": {
     "slide_type": "fragment"
    }
   },
   "outputs": [],
   "source": [
    "# La funcion sigue funcionando como siempre\n",
    "f()\n",
    "# Esta es nuestra nueva version modificada\n",
    "f_decorada()"
   ]
  },
  {
   "cell_type": "markdown",
   "metadata": {
    "slideshow": {
     "slide_type": "slide"
    }
   },
   "source": [
    "Sin embargo, podemos hacer cosas más complejas, como crear un *wrapper* (o \"envoltorio\") sobre nuestra función, que se ejecutará junto a la función `f` cada vez que sea llamada."
   ]
  },
  {
   "cell_type": "code",
   "execution_count": null,
   "metadata": {
    "ExecuteTime": {
     "end_time": "2019-04-04T12:54:01.674590Z",
     "start_time": "2019-04-04T12:54:01.661062Z"
    },
    "slideshow": {
     "slide_type": "fragment"
    }
   },
   "outputs": [],
   "source": [
    "def wrapper():\n",
    "    print(\"wrapper: Antes de llamar a la funcion\")\n",
    "    f()\n",
    "    print(\"wrapper: Después de llamar a la funcion\")\n",
    "    \n",
    "wrapper() # Al llamar a 'wrapper' se ejecutará la funcion"
   ]
  },
  {
   "cell_type": "code",
   "execution_count": null,
   "metadata": {
    "ExecuteTime": {
     "end_time": "2019-04-04T12:54:04.038460Z",
     "start_time": "2019-04-04T12:54:04.030062Z"
    },
    "slideshow": {
     "slide_type": "slide"
    }
   },
   "outputs": [],
   "source": [
    "def decorador(funcion):\n",
    "    print(\"decorador: Antes de crear el wrapper\")\n",
    "    def wrapper(): \n",
    "        print(\"wrapper: Antes de llamar a la funcion\")\n",
    "        funcion()\n",
    "        print(\"wrapper: Después de llamar a la funcion\")\n",
    "    print(\"decorador: Después de crear el wrapper\")\n",
    "    return wrapper\n",
    "\n",
    "# Nuestra línea principal de código\n",
    "f_decorada = decorador(f)"
   ]
  },
  {
   "cell_type": "code",
   "execution_count": null,
   "metadata": {
    "ExecuteTime": {
     "end_time": "2019-04-04T12:54:11.720735Z",
     "start_time": "2019-04-04T12:54:11.715665Z"
    },
    "slideshow": {
     "slide_type": "fragment"
    }
   },
   "outputs": [],
   "source": [
    "f_decorada() # f_decorada.__name__"
   ]
  },
  {
   "cell_type": "markdown",
   "metadata": {
    "slideshow": {
     "slide_type": "slide"
    }
   },
   "source": [
    "Notar que podemos \"sobreescribir\" la funcion, almacenando la nueva versión con el nombre de la función original."
   ]
  },
  {
   "cell_type": "code",
   "execution_count": null,
   "metadata": {
    "ExecuteTime": {
     "end_time": "2019-04-04T15:34:54.757653Z",
     "start_time": "2019-04-04T15:34:54.511082Z"
    },
    "slideshow": {
     "slide_type": "fragment"
    }
   },
   "outputs": [],
   "source": [
    "f = decorador(f)"
   ]
  },
  {
   "cell_type": "code",
   "execution_count": null,
   "metadata": {
    "ExecuteTime": {
     "end_time": "2019-04-04T15:34:52.865602Z",
     "start_time": "2019-04-04T15:34:52.857127Z"
    },
    "scrolled": true,
    "slideshow": {
     "slide_type": "fragment"
    }
   },
   "outputs": [],
   "source": [
    "f()"
   ]
  },
  {
   "cell_type": "markdown",
   "metadata": {},
   "source": [
    "**¡Ojo** No es necesario que el *wrapper* llame a la función original. Esto significa que podemos reemplazar por completo a una función por una nueva versión, el *wrapper*."
   ]
  },
  {
   "cell_type": "markdown",
   "metadata": {
    "ExecuteTime": {
     "end_time": "2019-04-02T15:14:16.554070Z",
     "start_time": "2019-04-02T15:14:16.542953Z"
    },
    "slideshow": {
     "slide_type": "slide"
    }
   },
   "source": [
    "### `@decoradores`"
   ]
  },
  {
   "cell_type": "markdown",
   "metadata": {
    "slideshow": {
     "slide_type": "fragment"
    }
   },
   "source": [
    "Una forma equivalente pero más verbosa y legible de decorar funciones es utilizando una sintaxis especial de Python para los decoradores, que es la misma que usamos para definir una `property`."
   ]
  },
  {
   "cell_type": "code",
   "execution_count": null,
   "metadata": {
    "ExecuteTime": {
     "end_time": "2019-04-04T12:54:42.666923Z",
     "start_time": "2019-04-04T12:54:42.656622Z"
    },
    "scrolled": true,
    "slideshow": {
     "slide_type": "slide"
    }
   },
   "outputs": [],
   "source": [
    "@decorador\n",
    "def g():\n",
    "    print(\"Una nueva funcion\")"
   ]
  },
  {
   "cell_type": "code",
   "execution_count": null,
   "metadata": {
    "ExecuteTime": {
     "end_time": "2019-04-04T12:54:45.411660Z",
     "start_time": "2019-04-04T12:54:45.406433Z"
    },
    "slideshow": {
     "slide_type": "fragment"
    }
   },
   "outputs": [],
   "source": [
    "g()"
   ]
  },
  {
   "cell_type": "markdown",
   "metadata": {
    "slideshow": {
     "slide_type": "slide"
    }
   },
   "source": [
    "### Funciones con parámetros"
   ]
  },
  {
   "cell_type": "markdown",
   "metadata": {
    "slideshow": {
     "slide_type": "fragment"
    }
   },
   "source": [
    "Hasta ahora solo hemos estado trabajando con una función que no recibe parámetros. Sin embargo, la mayoría de las funciones que utilizamos sí los recibe."
   ]
  },
  {
   "cell_type": "code",
   "execution_count": null,
   "metadata": {
    "ExecuteTime": {
     "end_time": "2019-04-04T12:54:52.574065Z",
     "start_time": "2019-04-04T12:54:52.567674Z"
    },
    "slideshow": {
     "slide_type": "slide"
    }
   },
   "outputs": [],
   "source": [
    "@decorador\n",
    "def g(parametro):\n",
    "    print(\"Una nueva funcion\")\n",
    "    print(f\"Recibi: {parametro}\")"
   ]
  },
  {
   "cell_type": "code",
   "execution_count": null,
   "metadata": {
    "ExecuteTime": {
     "end_time": "2019-04-04T12:54:55.404485Z",
     "start_time": "2019-04-04T12:54:55.390593Z"
    },
    "slideshow": {
     "slide_type": "fragment"
    }
   },
   "outputs": [],
   "source": [
    "g(\"Hola\")"
   ]
  },
  {
   "cell_type": "markdown",
   "metadata": {
    "slideshow": {
     "slide_type": "slide"
    }
   },
   "source": [
    "Podemos resolver esto agregando el parámetro a la función `wrapper` que definimos dentro de `decorador`. Sin embargo, esto solo nos permitiría decorar funciones que reciban exactamente un argumento, y nosotros queremos decorar cualquier función."
   ]
  },
  {
   "cell_type": "markdown",
   "metadata": {
    "slideshow": {
     "slide_type": "fragment"
    }
   },
   "source": [
    "La mejor forma de resolver esto es recordar que existen `*args`y `**kwargs`, que nos permiten recibir y almacenar en una variable cualquier cantidad de argumentos."
   ]
  },
  {
   "cell_type": "code",
   "execution_count": null,
   "metadata": {
    "ExecuteTime": {
     "end_time": "2019-04-04T12:55:24.588740Z",
     "start_time": "2019-04-04T12:55:24.584485Z"
    },
    "slideshow": {
     "slide_type": "slide"
    }
   },
   "outputs": [],
   "source": [
    "def decorador_mejorado(funcion):\n",
    "    print(f\"decorador_mejorado: Antes de crear el wrapper para {funcion.__name__}\")\n",
    "    def wrapper_mejorado(*args, **kwargs): \n",
    "        print(f\"wrapper_mejorado: Antes de llamar a {funcion.__name__}\")\n",
    "        print(f\"*args: {args}, **kwargs: {kwargs}\")\n",
    "        funcion(*args, **kwargs)\n",
    "        print(f\"wrapper_mejorado: Después de llamar a {funcion.__name__}\")\n",
    "    print(f\"decorador_mejorado: Después de crear el wrapper para {funcion.__name__}\")\n",
    "    return wrapper_mejorado"
   ]
  },
  {
   "cell_type": "code",
   "execution_count": null,
   "metadata": {
    "ExecuteTime": {
     "end_time": "2019-04-04T12:55:31.494873Z",
     "start_time": "2019-04-04T12:55:31.487475Z"
    },
    "slideshow": {
     "slide_type": "fragment"
    }
   },
   "outputs": [],
   "source": [
    "@decorador_mejorado\n",
    "def h(parametro):\n",
    "    print(f\"Recibí un parámetro: {parametro}\")\n",
    "\n",
    "@decorador_mejorado\n",
    "def nueva_funcion(parametro, por_defecto=0):\n",
    "    print(f\"Recibí un parámetro: {parametro}\")\n",
    "    print(f\"Recibí un valor por defecto: {por_defecto}\")"
   ]
  },
  {
   "cell_type": "code",
   "execution_count": null,
   "metadata": {
    "ExecuteTime": {
     "end_time": "2019-04-04T12:55:39.558548Z",
     "start_time": "2019-04-04T12:55:39.553366Z"
    },
    "scrolled": true,
    "slideshow": {
     "slide_type": "slide"
    }
   },
   "outputs": [],
   "source": [
    "h(\"Hola alumnos\")\n",
    "# nueva_funcion(\"Hola de nuevo\")\n",
    "# nueva_funcion(\"Otra vez\", por_defecto=17)"
   ]
  },
  {
   "cell_type": "markdown",
   "metadata": {
    "slideshow": {
     "slide_type": "slide"
    }
   },
   "source": [
    "### Decoradores con parámetros"
   ]
  },
  {
   "cell_type": "markdown",
   "metadata": {
    "slideshow": {
     "slide_type": "fragment"
    }
   },
   "source": [
    "Como podemos notar, hemos estado definiendo un decorador como una función que recibe a la función decorada. Pero, al ser una función, podemos darle más parámetros, para crear un decorador en base a estos parámetros.\n",
    "\n",
    "Esto agrega un nuevo nivel de profundidad."
   ]
  },
  {
   "cell_type": "markdown",
   "metadata": {
    "slideshow": {
     "slide_type": "slide"
    }
   },
   "source": [
    "Los tres niveles con los que trabajamos son:\n",
    "\n",
    "* Una función externa que construye el decorador en base a los parámetros recibidos\n",
    "* Una función intermedia que es el decorador construido con los parámetros\n",
    "* Una función interna que es la función decorada modificada"
   ]
  },
  {
   "cell_type": "code",
   "execution_count": null,
   "metadata": {
    "ExecuteTime": {
     "end_time": "2019-04-04T12:56:16.682440Z",
     "start_time": "2019-04-04T12:56:16.678347Z"
    },
    "slideshow": {
     "slide_type": "slide"
    }
   },
   "outputs": [],
   "source": [
    "def constructor_de_decoradores(parametros_decorador):\n",
    "    def nuevo_decorador(funcion):\n",
    "        def wrapper(*args, **kwargs):\n",
    "            resultado = funcion(*args, **kwargs)\n",
    "            return resultado\n",
    "        return wrapper\n",
    "    return nuevo_decorador"
   ]
  },
  {
   "cell_type": "code",
   "execution_count": null,
   "metadata": {
    "ExecuteTime": {
     "end_time": "2019-04-04T12:56:19.250506Z",
     "start_time": "2019-04-04T12:56:19.247410Z"
    },
    "slideshow": {
     "slide_type": "fragment"
    }
   },
   "outputs": [],
   "source": [
    "def duplicar(numero):\n",
    "    return numero * 2"
   ]
  },
  {
   "cell_type": "code",
   "execution_count": null,
   "metadata": {
    "ExecuteTime": {
     "end_time": "2019-04-04T12:56:33.676489Z",
     "start_time": "2019-04-04T12:56:33.673185Z"
    },
    "slideshow": {
     "slide_type": "slide"
    }
   },
   "outputs": [],
   "source": [
    "duplicar = constructor_de_decoradores(\"Parametro\")(duplicar)\n",
    "\n",
    "# Equivalente a usar el decorador:\n",
    "# @constructor_de_decoradores(\"Parametro\")"
   ]
  },
  {
   "cell_type": "code",
   "execution_count": null,
   "metadata": {
    "ExecuteTime": {
     "end_time": "2019-04-04T12:56:42.728611Z",
     "start_time": "2019-04-04T12:56:42.722702Z"
    },
    "slideshow": {
     "slide_type": "slide"
    }
   },
   "outputs": [],
   "source": [
    "def print_n_times(times):\n",
    "    def decorator(function):\n",
    "        def wrapper(*args, **kwargs):\n",
    "            result = function(*args, **kwargs)\n",
    "            function_call = f\"{function.__name__}({args}, {kwargs})\"\n",
    "            for i in range(1, times + 1):\n",
    "                print(f\"({i}/{times}) {function_call} = {result}\")\n",
    "            return result\n",
    "        return wrapper\n",
    "    return decorator"
   ]
  },
  {
   "cell_type": "code",
   "execution_count": null,
   "metadata": {
    "ExecuteTime": {
     "end_time": "2019-04-04T12:56:45.563918Z",
     "start_time": "2019-04-04T12:56:45.556003Z"
    },
    "scrolled": true,
    "slideshow": {
     "slide_type": "slide"
    }
   },
   "outputs": [],
   "source": [
    "@print_n_times(3)\n",
    "def duplicar(numero):\n",
    "    return numero * 2\n",
    "\n",
    "duplicar(6)"
   ]
  },
  {
   "cell_type": "code",
   "execution_count": null,
   "metadata": {
    "ExecuteTime": {
     "end_time": "2019-04-04T12:56:48.773137Z",
     "start_time": "2019-04-04T12:56:48.759793Z"
    },
    "slideshow": {
     "slide_type": "slide"
    }
   },
   "outputs": [],
   "source": [
    "from collections import namedtuple\n",
    "\n",
    "Persona = namedtuple('Persona', ['nombre', 'profesion'])\n",
    "\n",
    "@print_n_times(2)\n",
    "def crear_persona(nombre, profesion=\"Estudiante\"):\n",
    "    return Persona(nombre, profesion)\n",
    "\n",
    "crear_persona(\"Fernando\")\n",
    "# crear_persona(\"Cristian\", profesion=\"Académico\")"
   ]
  },
  {
   "cell_type": "markdown",
   "metadata": {
    "slideshow": {
     "slide_type": "slide"
    }
   },
   "source": [
    "## Ejemplo aplicados"
   ]
  },
  {
   "cell_type": "code",
   "execution_count": null,
   "metadata": {
    "ExecuteTime": {
     "end_time": "2019-04-04T12:58:20.961923Z",
     "start_time": "2019-04-04T12:58:20.944420Z"
    },
    "slideshow": {
     "slide_type": "slide"
    }
   },
   "outputs": [],
   "source": [
    "def to_doc(decorated, level=0):\n",
    "    if isinstance(decorated, type):\n",
    "        print(f\"Class: {decorated.__name__}\")\n",
    "        print(decorated.__doc__)\n",
    "        for key, method in decorated.__dict__.items():\n",
    "            if callable(method):\n",
    "                to_doc(method, level=level+1)\n",
    "    elif callable(decorated) and decorated.__doc__:\n",
    "        indent = \"\\t\" * level\n",
    "        print(f\"{indent}Function: {decorated.__name__}\")\n",
    "        print(decorated.__doc__)\n",
    "    return decorated"
   ]
  },
  {
   "cell_type": "code",
   "execution_count": null,
   "metadata": {
    "ExecuteTime": {
     "end_time": "2019-04-04T12:58:24.423572Z",
     "start_time": "2019-04-04T12:58:24.414968Z"
    },
    "slideshow": {
     "slide_type": "slide"
    }
   },
   "outputs": [],
   "source": [
    "@to_doc\n",
    "def saludo(nombre):\n",
    "    \"\"\"\n",
    "    saludo(nombre)\n",
    "    Recibe un nombre y lo saluda\n",
    "    \"\"\"\n",
    "    print(f\"¡Hola {nombre}!\")"
   ]
  },
  {
   "cell_type": "code",
   "execution_count": null,
   "metadata": {
    "ExecuteTime": {
     "end_time": "2019-04-04T12:58:27.523505Z",
     "start_time": "2019-04-04T12:58:27.514744Z"
    },
    "slideshow": {
     "slide_type": "slide"
    }
   },
   "outputs": [],
   "source": [
    "@to_doc\n",
    "class Persona:\n",
    "    \"\"\"\n",
    "    Persona(nombre)\n",
    "    Modela una persona, identificada con un nombre\n",
    "    \"\"\"\n",
    "\n",
    "    def __init__(self, nombre):\n",
    "        self.nombre = nombre\n",
    "\n",
    "    def gritar(self):\n",
    "        \"\"\"\n",
    "        Persona.gritar(self)\n",
    "        Grita el nombre de la persona\n",
    "        \"\"\"\n",
    "        print(self.nombre.upper())"
   ]
  },
  {
   "cell_type": "code",
   "execution_count": null,
   "metadata": {
    "ExecuteTime": {
     "end_time": "2019-04-04T12:58:32.343855Z",
     "start_time": "2019-04-04T12:58:32.339411Z"
    },
    "slideshow": {
     "slide_type": "slide"
    }
   },
   "outputs": [],
   "source": [
    "saludo(\"Antonio\")\n",
    "p = Persona(\"Antonio\")\n",
    "p.gritar()"
   ]
  },
  {
   "cell_type": "markdown",
   "metadata": {
    "slideshow": {
     "slide_type": "slide"
    }
   },
   "source": [
    "## ¡Gracias por su atención! \n",
    "\n",
    "Pueden encontrar material de estudio sobre este tema en el repositorio del curso: `syllabus`."
   ]
  },
  {
   "cell_type": "markdown",
   "metadata": {
    "slideshow": {
     "slide_type": "slide"
    }
   },
   "source": [
    "## Esta semana\n",
    "\n",
    "- Se publicará el **material** para la actividad de la próxima semana mañana\n",
    "- La T01 se **entrega** el domingo a las 20:00\n",
    "\n",
    "## Próxima semana\n",
    "\n",
    "- El martes habrá ayudantía de **Estructuras nodales**\n",
    "- El jueves hay **actividad formativa (AC03)**"
   ]
  }
 ],
 "metadata": {
  "celltoolbar": "Slideshow",
  "kernelspec": {
   "display_name": "Python 3",
   "language": "python",
   "name": "python3"
  },
  "language_info": {
   "codemirror_mode": {
    "name": "ipython",
    "version": 3
   },
   "file_extension": ".py",
   "mimetype": "text/x-python",
   "name": "python",
   "nbconvert_exporter": "python",
   "pygments_lexer": "ipython3",
   "version": "3.6.6"
  },
  "varInspector": {
   "cols": {
    "lenName": 16,
    "lenType": 16,
    "lenVar": 40
   },
   "kernels_config": {
    "python": {
     "delete_cmd_postfix": "",
     "delete_cmd_prefix": "del ",
     "library": "var_list.py",
     "varRefreshCmd": "print(var_dic_list())"
    },
    "r": {
     "delete_cmd_postfix": ") ",
     "delete_cmd_prefix": "rm(",
     "library": "var_list.r",
     "varRefreshCmd": "cat(var_dic_list()) "
    }
   },
   "types_to_exclude": [
    "module",
    "function",
    "builtin_function_or_method",
    "instance",
    "_Feature"
   ],
   "window_display": false
  }
 },
 "nbformat": 4,
 "nbformat_minor": 2
}
