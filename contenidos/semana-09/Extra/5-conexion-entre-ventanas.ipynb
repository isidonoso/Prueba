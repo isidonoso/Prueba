{
 "cells": [
  {
   "cell_type": "markdown",
   "metadata": {},
   "source": [
    "<p>\n",
    "<font size='5' face='Georgia, Arial'>IIC-2233 Apunte Programación Avanzada</font><br>\n",
    "<font size='1'> Equipo Docente IIC2233 2019-1.</font>\n",
    "</p>"
   ]
  },
  {
   "cell_type": "markdown",
   "metadata": {},
   "source": [
    "# Conexiones entre múltiples ventanas  en PyQt\n",
    "\n",
    "Al crear interfaces con múltiples ventanas, que cambian entre una y otra. Uno puede verse tentado a intentar algo del siguiente estilo, utilizando la interfaz de `show` y `hide`:"
   ]
  },
  {
   "cell_type": "code",
   "execution_count": null,
   "metadata": {},
   "outputs": [],
   "source": [
    "import sys\n",
    "from PyQt5.QtWidgets import QApplication, QWidget, QPushButton\n",
    "\n",
    "\n",
    "class Ventana(QWidget):\n",
    "    def __init__(self, titulo, x, y, *args):\n",
    "        super().__init__(*args)\n",
    "        self.setWindowTitle(titulo)\n",
    "        self.setGeometry(x, y, 200, 50)\n",
    "        self.boton = QPushButton(\"Abrir otra ventana\", self)\n",
    "        self.boton.clicked.connect(self.abrir_otra_ventana)\n",
    "\n",
    "    def abrir_otra_ventana(self):\n",
    "        self.hide()\n",
    "        otra_ventana = Ventana(\"Otra ventana\", 300, 100)\n",
    "        otra_ventana.show()\n",
    "\n",
    "\n",
    "if __name__ == '__main__':\n",
    "    a = QApplication(sys.argv)\n",
    "    ventana = Ventana(\"Inicial\", 100, 100)\n",
    "    ventana.show()\n",
    "    sys.exit(a.exec())"
   ]
  },
  {
   "cell_type": "markdown",
   "metadata": {},
   "source": [
    "Al ejecutarlo, se observa un comportamiento innesperado: **no se muestra la segunda ventana**.\n",
    "Intentemos un ángulo distinto, instanciemos la segunda ventana antes y la pasamos como un argumento a la ventana inicial:"
   ]
  },
  {
   "cell_type": "code",
   "execution_count": null,
   "metadata": {},
   "outputs": [],
   "source": [
    "import sys\n",
    "from PyQt5.QtWidgets import QApplication, QWidget, QPushButton\n",
    "\n",
    "\n",
    "class Ventana(QWidget):\n",
    "    def __init__(self, titulo, x, y, otra_ventana=None, *args):\n",
    "        super().__init__(*args)\n",
    "        self.otra_ventana = otra_ventana\n",
    "        self.setWindowTitle(titulo)\n",
    "        self.setGeometry(x, y, 200, 50)\n",
    "        self.boton = QPushButton(\"Abrir otra ventana\", self)\n",
    "        self.boton.clicked.connect(self.abrir_otra_ventana)\n",
    "\n",
    "    def abrir_otra_ventana(self):\n",
    "        if self.otra_ventana:\n",
    "            self.hide()\n",
    "            self.otra_ventana.show()\n",
    "\n",
    "\n",
    "if __name__ == '__main__':\n",
    "    a = QApplication(sys.argv)\n",
    "    otra_ventana = Ventana(\"Otra ventana\", 300, 100)\n",
    "    ventana = Ventana(\"Inicial\", 100, 100, otra_ventana)\n",
    "    ventana.show()\n",
    "    sys.exit(a.exec())"
   ]
  },
  {
   "cell_type": "markdown",
   "metadata": {},
   "source": [
    "Este sí funciona. ¿Qué ocurrió en el primero entoncee? \n",
    "\n",
    "El detalle, es que al instanciar un *widget* como una variable dentro de un método, como toda **variable local** del método, cuando se termine dicho método, Python **descarta** la variable.\n",
    "\n",
    "```python\n",
    "def abrir_otra_ventana(self):\n",
    "    self.hide()\n",
    "    otra_ventana = Ventana(\"Otra ventana\", 300, 100)\n",
    "    otra_ventana.show()\n",
    "```\n",
    "\n",
    "El método `abrir_otra_ventana` guarda en la variable `otra_ventana` el nuevo *widget* a mostrar. Pero, como `otra_ventana` es una variable local del método, cuando termine de ejecutarse, `otra_ventana` será descartada completamente, eliminando incluso el *widget* recién creado (y mostrado).\n",
    "\n",
    "La diferencia en el segundo código, es que `otra_ventana` existe fuera de la definición del método, por lo que el hecho de que termine el método, no genera que se descarte la variable y objeto.\n",
    "\n",
    "Siguiendo esa misma idea, entonces, almacenar la variable `otra_ventana` como un atributo de instancia debería también arreglar el problema. Y es cierto:"
   ]
  },
  {
   "cell_type": "code",
   "execution_count": null,
   "metadata": {},
   "outputs": [],
   "source": [
    "import sys\n",
    "from PyQt5.QtWidgets import QApplication, QWidget, QPushButton\n",
    "\n",
    "\n",
    "class Ventana(QWidget):\n",
    "    def __init__(self, titulo, x, y, *args):\n",
    "        super().__init__(*args)\n",
    "        self.setWindowTitle(titulo)\n",
    "        self.setGeometry(x, y, 200, 50)\n",
    "        self.boton = QPushButton(\"Abrir otra ventana\", self)\n",
    "        self.boton.clicked.connect(self.abrir_otra_ventana)\n",
    "\n",
    "    def abrir_otra_ventana(self):\n",
    "        self.hide()\n",
    "        self.otra_ventana = Ventana(\"Otra ventana\", 300, 100)\n",
    "        self.otra_ventana.show()\n",
    "\n",
    "\n",
    "if __name__ == '__main__':\n",
    "    a = QApplication(sys.argv)\n",
    "    ventana = Ventana(\"Inicial\", 100, 100)\n",
    "    ventana.show()\n",
    "    sys.exit(a.exec())"
   ]
  },
  {
   "cell_type": "markdown",
   "metadata": {},
   "source": [
    "¿Por qué? Porque si se almacena la segunda instancia de ventana como un atributo de la primera, al salir del método `abrir_otra_ventana` no se descarta al objeto ventana; este quedó referenciado en un nivel mayor al método: en la  instancia de la primera ventana.."
   ]
  },
  {
   "cell_type": "markdown",
   "metadata": {},
   "source": [
    "# ¿Es esa la mejor manera de modelar este comportamiento?\n",
    "\n",
    "La solución anterior funciona. Y para casos pequeños, basta. El problema es en aplicaciones más grandes. Dónde múltiples ventanas pueden llamarse y hacerse aparecer. Es más, la modelación anterior muestra una relación de **composición** entre las ventanas, es decir, la segunda solo existe bajo la existencia de la primera. Y esta modelación no aplica para todos los casos. \n",
    "\n",
    "Múltiples ventanas pueden ser independientes pero aún así puede gatillarse un evento que haga aparecer una desde otra. ¿Cómo puede modelarse esto? \n",
    "\n",
    "## ¡Señales!"
   ]
  },
  {
   "cell_type": "code",
   "execution_count": null,
   "metadata": {},
   "outputs": [],
   "source": [
    "import sys\n",
    "from PyQt5.QtWidgets import QApplication, QWidget, QPushButton\n",
    "from PyQt5.QtCore import pyqtSignal\n",
    "\n",
    "class Ventana(QWidget):\n",
    "    \n",
    "    senal_abrir_ventana = pyqtSignal()\n",
    "    \n",
    "    def __init__(self, titulo, x, y, *args):\n",
    "        super().__init__(*args)\n",
    "        self.setWindowTitle(titulo)\n",
    "        self.setGeometry(x, y, 200, 50)\n",
    "        \n",
    "        self.senal_abrir_otra_ventana = None\n",
    "        \n",
    "        self.boton = QPushButton(\"Abrir otra ventana\", self)\n",
    "        self.boton.clicked.connect(self.abrir_otra_ventana)\n",
    "        \n",
    "        self.senal_abrir_ventana.connect(self.show)\n",
    "\n",
    "    def abrir_otra_ventana(self):\n",
    "        if self.senal_abrir_otra_ventana:\n",
    "            self.hide()\n",
    "            self.senal_abrir_otra_ventana.emit()\n",
    "\n",
    "\n",
    "if __name__ == '__main__':\n",
    "    a = QApplication(sys.argv)\n",
    "    \n",
    "    # Instanciamos dos ventanas\n",
    "    ventana_1 = Ventana(\"Inicial\", 100, 100)\n",
    "    ventana_2 = Ventana(\"Alternativa\", 500, 100)\n",
    "    \n",
    "    # Conectamos las señales correspondientes\n",
    "    ventana_1.senal_abrir_otra_ventana = ventana_2.senal_abrir_ventana\n",
    "    \n",
    "    # Con esta también vinculamos que la segunda ventana nos devuelva a la primera\n",
    "    ventana_2.senal_abrir_otra_ventana = ventana_1.senal_abrir_ventana\n",
    "    \n",
    "    ventana_1.show()\n",
    "    \n",
    "    sys.exit(a.exec())"
   ]
  },
  {
   "cell_type": "markdown",
   "metadata": {},
   "source": [
    "Así, cada instancia de `Ventana` es independiente. Es mediante señales que se comunican que una ventana debe aparecer luego de la otra, sin contener directamente una instancia dentro de otra instancia de `Ventana`."
   ]
  }
 ],
 "metadata": {
  "kernelspec": {
   "display_name": "Python 3",
   "language": "python",
   "name": "python3"
  },
  "language_info": {
   "codemirror_mode": {
    "name": "ipython",
    "version": 3
   },
   "file_extension": ".py",
   "mimetype": "text/x-python",
   "name": "python",
   "nbconvert_exporter": "python",
   "pygments_lexer": "ipython3",
   "version": "3.6.6"
  }
 },
 "nbformat": 4,
 "nbformat_minor": 2
}
