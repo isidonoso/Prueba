{
 "cells": [
  {
   "cell_type": "markdown",
   "metadata": {},
   "source": [
    "<p>\n",
    "<font size='5' face='Georgia, Arial'>IIC-2233 Apunte Programación Avanzada</font><br>\n",
    "<font size='1'>&copy; 2015 Karim Pichara - Christian Pieringer. Todos los derechos reservados. Editado el 2018-1, 2018-2 y 2019-1 por Equipo Docente IIC2233.</font>\n",
    "</p>"
   ]
  },
  {
   "cell_type": "markdown",
   "metadata": {},
   "source": [
    "## Introducción"
   ]
  },
  {
   "cell_type": "markdown",
   "metadata": {},
   "source": [
    "Los sistemas operativos modernos tienen muchos procesos corriendo en paralelo, donde nuestro programa en Python es solo uno de esos tantos procesos. Esto también ocurre en computadores con un sólo procesador, ¿cómo es posible? En realidad, el paralelismo que observamos es solo una ilusión. Lo que hace el sistema operativo es **compartir la CPU entre todos los procesos**, que consiste en tomar un proceso, hacerlo avanzar unas cuantas operaciones, dejarlo en pausa, y volver a repetir lo mismo con otro proceso. Esto ocurre tan rápido que parece que todos los procesos avanzan al mismo tiempo.\n",
    "\n",
    "En la actualidad, la mayoría de los computadores tiene procesadores con más de un núcleo (__dualcore__, __quadcore__, __octacore__, etc), por lo que en realidad sí pueden ejecutar más de una operación simultánea. No obstante, la cantidad de procesos es mucho más grande que la de núcleos, por lo que el sistema de igual forma tiene que compartir las CPUs entre todos los procesos.\n",
    "\n",
    "En esta unidad, aprenderemos a hacer correr dos o más tareas – dentro de nuestro programa – como si fueran simultáneas. Para ello, usamos _**threads**_."
   ]
  },
  {
   "cell_type": "markdown",
   "metadata": {},
   "source": [
    "## Threading"
   ]
  },
  {
   "cell_type": "markdown",
   "metadata": {},
   "source": [
    "Los **_threads_** (o hilos) son las unidades más pequeñas que pueden ser programadas para ser ejecutadas en un sistema operativo. Son una especie de proceso liviano, que están dentro de un programa o de un proceso mayor. Los _threads_ que están dentro de un mismo proceso comparten la memoria y el estado de las variables. Este uso compartido de los recursos permite a los _threads_ ejecutarse más rápido que correr varias instancias del mismo programa.\n",
    "\n",
    "Un proceso puede tener uno o varios _threads_. En el momento en que se crea un proceso se crea un _thread_ con él, que llamamos _thread_ principal. Un _thread_ puede crear otros _threads_, los que serán ejecutados **como si fueran tareas en paralelo**.\n",
    "\n",
    "Como dijimos antes, este paralelismo no es real. Para simular el paralelismo se realiza _thread scheduling_ o _time slicing_, que funciona – en general – turnando los _threads_ de la siguiente manera:\n",
    "\n",
    "- Se toma un _thread_ de los que están en espera.\n",
    "- Se ejecuta un cierto número de instrucciones de ese _thread_.\n",
    "- Se deja el _thread_ en espera.\n",
    "- Se repite lo mismo con otro _thread_ que está en espera.\n",
    "\n",
    "Cuando hay un sólo procesador, no existe un verdadero aumento de la velocidad de ejecución, pero sí de la manera en que el programa responde. En máquinas con más procesadores, efectivamente se logra la ejecución en paralelo de varios _threads_, que tiene como resultado una ejecución más rápida del programa. La siguiente figura muestra un esquema de la interacción de los _threads_ con el proceso principal."
   ]
  },
  {
   "cell_type": "markdown",
   "metadata": {},
   "source": [
    "![thread](imgs/thread.png)"
   ]
  },
  {
   "cell_type": "markdown",
   "metadata": {},
   "source": [
    "Algunos ejemplos donde resulta útil implementar _threads_ son:\n",
    "\n",
    "- Interfaces de rápida respuesta, donde se necesita interactuar con el usuario mientras se ejecuta algún proceso de cómputo pesado. Por ejemplo, las interfaces gráficas en un computador.\n",
    "- Delegación de trabajos que siguen el patrón _consumidor-productor_, en donde existen procesos que se ejecutan secuencialmente, pero que son independientes entre ellos. Como por ejemplo, un _thread_ que se encargue de poner los _frames_ capturados desde una cámara de video en una cola, y otro _thread_ que procese estos cuadros y los saque de la cola.\n",
    "- Aplicaciones multiusuario, en donde cada _thread_ se encargaría de las peticiones de cada usuario independientemente. Por ejemplo, un servidor de páginas web debe atender a varios clientes a la vez."
   ]
  },
  {
   "cell_type": "markdown",
   "metadata": {},
   "source": [
    "### Creación de _threads_"
   ]
  },
  {
   "cell_type": "markdown",
   "metadata": {},
   "source": [
    "En Python 3, el manejo de _threads_ se realiza mediante la librería `threading`, en donde los _threads_ son representados por objetos. Muchas de las funcionalidades necesarias están implementadas en esta librería. "
   ]
  },
  {
   "cell_type": "code",
   "execution_count": 1,
   "metadata": {
    "ExecuteTime": {
     "end_time": "2019-05-02T23:35:41.327299Z",
     "start_time": "2019-05-02T23:35:41.321773Z"
    }
   },
   "outputs": [],
   "source": [
    "import threading"
   ]
  },
  {
   "cell_type": "markdown",
   "metadata": {},
   "source": [
    "La clase `Thread` representa un hilo. Para crear un _thread_, se requiere especificar la función que ejecutará ese _thread_ a través del parámetro `target`. Para ejecutar el _thread_, se debe llamar al método `start()`. La clase `Thread` también admite el argumento `name`, que es el nombre que le queremos dar al hilo. "
   ]
  },
  {
   "cell_type": "code",
   "execution_count": 2,
   "metadata": {
    "ExecuteTime": {
     "end_time": "2019-05-02T23:35:42.490290Z",
     "start_time": "2019-05-02T23:35:42.477020Z"
    }
   },
   "outputs": [],
   "source": [
    "def saludar():\n",
    "    thread_actual = threading.current_thread()\n",
    "    print(f\"Hola desde {thread_actual.name}\")\n",
    "\n",
    "\n",
    "mi_hilo = threading.Thread(target=saludar, name=\"Mi thread\")"
   ]
  },
  {
   "cell_type": "code",
   "execution_count": 3,
   "metadata": {
    "ExecuteTime": {
     "end_time": "2019-05-02T23:35:45.419269Z",
     "start_time": "2019-05-02T23:35:45.408790Z"
    }
   },
   "outputs": [
    {
     "name": "stdout",
     "output_type": "stream",
     "text": [
      "Hola desde Mi threadHola desde MainThread\n",
      "\n"
     ]
    }
   ],
   "source": [
    "# Llamaremos a saludar() desde el thread en mi_hilo\n",
    "mi_hilo.start()\n",
    "# Ahora llamaremos a saludar() desde el thread principal\n",
    "saludar()"
   ]
  },
  {
   "cell_type": "markdown",
   "metadata": {},
   "source": [
    "En el siguiente ejemplo, crearemos tres _threads_ `t1`, `w1`, y `w2`, que ejecutarán distintas instancias de las funciones `fast_worker` y `slow_worker`."
   ]
  },
  {
   "cell_type": "code",
   "execution_count": 4,
   "metadata": {
    "ExecuteTime": {
     "end_time": "2019-05-02T23:35:56.964603Z",
     "start_time": "2019-05-02T23:35:46.936758Z"
    }
   },
   "outputs": [
    {
     "name": "stdout",
     "output_type": "stream",
     "text": [
      "Thread principal: Fueron creados 3 threads\n",
      "Thread 2 (2s) partiendo...\n",
      "Thread-4 partiendo...\n",
      "Thread 1 (6s) partiendo...Thread principal: Fueron iniciados 3 threads\n",
      "\n",
      "Thread principal: Segundo actual: 0\n",
      "\n",
      "Thread principal: Segundo actual: 1\n",
      "Thread 2 (2s) terminando...Thread-4 terminando...\n",
      "\n",
      "Thread principal: Segundo actual: 2\n",
      "Thread principal: Segundo actual: 3\n",
      "Thread principal: Segundo actual: 4\n",
      "Thread principal: Segundo actual: 5\n",
      "Thread 1 (6s) terminando...\n",
      "Thread principal: Segundo actual: 6\n",
      "Thread principal: Segundo actual: 7\n",
      "Thread principal: Segundo actual: 8\n",
      "Thread principal: Segundo actual: 9\n"
     ]
    }
   ],
   "source": [
    "import threading\n",
    "import time\n",
    "\n",
    "\n",
    "def fast_worker():\n",
    "    # Función rápida, que toma 2 segundos\n",
    "    current_thread = threading.current_thread()\n",
    "    print(f\"{current_thread.name} partiendo...\")\n",
    "    # Pondremos a dormir el thread por 2 segundos simulando \n",
    "    # que ocurre algun proceso dentro de la función\n",
    "    time.sleep(2) \n",
    "    print(f\"{current_thread.name} terminando...\")\n",
    "\n",
    "def slow_worker():\n",
    "    # Función lenta, que toma 6 segundos\n",
    "    current_thread = threading.current_thread()\n",
    "    print(f\"{current_thread.name} partiendo...\")\n",
    "    # Ponemos a dormir el thread por 6 segundos simulando\n",
    "    # un proceso más largo que el anterior dentro de la función\n",
    "    time.sleep(6) \n",
    "    print(f\"{current_thread.name} terminando...\")\n",
    "\n",
    "\n",
    "# Creamos los threads usando la clase Thread\n",
    "t1 = threading.Thread(name=\"Thread 1 (6s)\", target=slow_worker)\n",
    "w1 = threading.Thread(name=\"Thread 2 (2s)\", target=fast_worker)\n",
    "w2 = threading.Thread(target=fast_worker)  # Usa el nombre asignado por defecto\n",
    "print(\"Thread principal: Fueron creados 3 threads\")\n",
    "\n",
    "# Se inicializan los threads creados\n",
    "w1.start() # Dormirá por 2 segundos\n",
    "w2.start() # Dormirá por 2 segundos\n",
    "t1.start() # Dormirá por 6 segundos\n",
    "print(\"Thread principal: Fueron iniciados 3 threads\")\n",
    "# Todas estas líneas serán ejecutadas mientras los threads se ejecutan\n",
    "# independientemente del programa principal\n",
    "\n",
    "print()\n",
    "# El thread principal ejecutará lo que queda código\n",
    "# mientras los otros 3 threads hacen lo suyo\n",
    "for i in range(10):\n",
    "    print(f\"Thread principal: Segundo actual: {i}\")\n",
    "    time.sleep(1)"
   ]
  },
  {
   "cell_type": "markdown",
   "metadata": {},
   "source": [
    "En el ejemplo, vemos que una vez inicializados los _threads_, el programa principal continúa con el resto de instrucciones mientras los _threads_ se ejecutan. Luego los tres _threads_ terminan independientemente en distintos momentos. El programa principal esperará a que todos los _threads_ hayan terminado correctamente.\n",
    "\n",
    "También es posible, mediante el atributo `args` o `kwargs`, pasar los argumentos a la función definida como `target` del _thread_."
   ]
  },
  {
   "cell_type": "code",
   "execution_count": 5,
   "metadata": {
    "ExecuteTime": {
     "end_time": "2019-05-02T23:35:58.067084Z",
     "start_time": "2019-05-02T23:35:58.044100Z"
    }
   },
   "outputs": [
    {
     "name": "stdout",
     "output_type": "stream",
     "text": [
      "Worker 1 partiendo con tiempo=3\n",
      "Worker 2 partiendo con tiempo=5\n"
     ]
    }
   ],
   "source": [
    "import threading\n",
    "import time\n",
    "\n",
    "\n",
    "def worker(tiempo):\n",
    "    current_thread = threading.current_thread()\n",
    "    print(f\"{current_thread.name} partiendo con tiempo={tiempo}\")\n",
    "    time.sleep(tiempo)\n",
    "    print(f\"{current_thread.name} terminando...\")\n",
    "\n",
    "\n",
    "# Se crean los threads usando la clase Thread, asociada a la función objetivo para \n",
    "# ser ejecutada por el thread, y los atributos de la función son ingresados n \n",
    "# args o kwargs\n",
    "\n",
    "w1 = threading.Thread(name=\"Worker 1\", target=worker, args=(3,))\n",
    "w2 = threading.Thread(name=\"Worker 2\", target=worker, kwargs={\"tiempo\": 5})\n",
    "w1.start()\n",
    "w2.start()"
   ]
  },
  {
   "cell_type": "markdown",
   "metadata": {},
   "source": [
    "En concordancia con el modelamiento basado en OOP, podemos crear también un _thread_ heredando desde la clase `Thread` y redefiniendo el método `run()`, el cual se ejecuta luego de hacer `Thread.start()`."
   ]
  },
  {
   "cell_type": "code",
   "execution_count": 6,
   "metadata": {
    "ExecuteTime": {
     "end_time": "2019-05-02T23:36:11.184487Z",
     "start_time": "2019-05-02T23:36:00.782329Z"
    }
   },
   "outputs": [
    {
     "name": "stdout",
     "output_type": "stream",
     "text": [
      "Thread principal: Fueron creados 3 threads\n",
      "Thread-6 partiendo...\n",
      "Thread-7 partiendo...\n",
      "Thread-5 partiendo...Thread principal: Fueron iniciados 3 threads\n",
      "\n",
      "\n",
      "Thread principal: Segundo actual: 0\n",
      "Thread principal: Segundo actual: 1\n",
      "Thread principal: Segundo actual: 2\n",
      "Worker 1 terminando...\n",
      "Thread-5 terminando después de 3.004241943359375 seg.\n",
      "Thread principal: Segundo actual: 3\n",
      "Thread-6 terminando después de 4.002341985702515 seg.\n",
      "Thread principal: Segundo actual: 4\n",
      "Worker 2 terminando...\n",
      "Thread-7 terminando después de 5.005306959152222 seg.\n",
      "Thread principal: Segundo actual: 5\n",
      "Thread principal: Segundo actual: 6\n",
      "Thread principal: Segundo actual: 7\n",
      "Thread principal: Segundo actual: 8\n",
      "Thread principal: Segundo actual: 9\n"
     ]
    }
   ],
   "source": [
    "import threading\n",
    "import time\n",
    "\n",
    "\n",
    "class Worker(threading.Thread):\n",
    "    \"\"\"Este será nuestro nuevo Worker basado en Thread\"\"\"\n",
    "    def __init__(self, tiempo):\n",
    "        # En el caso de los threads, lo primero es invocar al init original.\n",
    "        super().__init__()\n",
    "        self.tiempo = tiempo\n",
    "    \n",
    "    def run(self):\n",
    "        # Este metodo inicia el trabajo de este thread\n",
    "        # cuando lo ejecutamos el metodo start()\n",
    "        print(f\"{self.name} partiendo...\")\n",
    "        tiempo_partida = time.time()\n",
    "        time.sleep(self.tiempo) \n",
    "        print(f\"{self.name} terminando después de {time.time() - tiempo_partida} seg.\")\n",
    "\n",
    "        \n",
    "class Service(threading.Thread):\n",
    "    \"\"\"Este sera el nuevo Service basado en Thread\"\"\"\n",
    "    def __init__(self, tiempo):\n",
    "        super().__init__()\n",
    "        self.tiempo = tiempo\n",
    "    \n",
    "    def run(self):\n",
    "        print(f\"{self.name} partiendo...\")\n",
    "        tiempo_partida = time.time()\n",
    "        time.sleep(self.tiempo) \n",
    "        print(f\"{self.name} terminando después de {time.time() - tiempo_partida} seg.\")\n",
    "        \n",
    "\n",
    "# Se crean los threads\n",
    "t1 = Service(3)\n",
    "w1 = Worker(4)\n",
    "w2 = Worker(5)\n",
    "print(\"Thread principal: Fueron creados 3 threads\")\n",
    "\n",
    "# Se inicializan los threads creados\n",
    "w1.start()\n",
    "w2.start()\n",
    "t1.start()\n",
    "print(\"Thread principal: Fueron iniciados 3 threads\")\n",
    "# Todas estas líneas serán ejecutadas mientras los threads se ejecutan\n",
    "# independientemente del programa principal\n",
    "    \n",
    "print()\n",
    "# El thread principal ejecutará lo que queda código\n",
    "# mientras los otros 3 threads hacen lo suyo\n",
    "for i in range(10):\n",
    "    print(f\"Thread principal: Segundo actual: {i}\")\n",
    "    time.sleep(1)"
   ]
  },
  {
   "cell_type": "markdown",
   "metadata": {},
   "source": [
    "### `join()`"
   ]
  },
  {
   "cell_type": "markdown",
   "metadata": {},
   "source": [
    "Si necesitamos que el programa principal espere a que termine la ejecución de algún _thread_ (o grupo de _threads_), debemos usar el método `join(timeout=None)` después de que el _thread_ ha sido iniciado mediante `start()`.\n",
    "\n",
    "Al usar `join()`, el programa principal queda bloqueado hasta que los _threads_ referenciados terminen correctamente. No obstante, si se especifica un `timeout` (en segundos) el programa esperará al _thread_ referenciado solo por ese tiempo. \n",
    "\n",
    "La figura siguiente explica gráficamente la ejecución del programa usando `join()`.\n",
    "\n",
    "![join](imgs/join.png)\n",
    "\n",
    "Veamos ahora el mismo ejemplo anterior pero con la incorporación de `join()`."
   ]
  },
  {
   "cell_type": "code",
   "execution_count": 7,
   "metadata": {
    "ExecuteTime": {
     "end_time": "2019-05-02T23:36:21.490617Z",
     "start_time": "2019-05-02T23:36:13.463290Z"
    }
   },
   "outputs": [
    {
     "name": "stdout",
     "output_type": "stream",
     "text": [
      "Thread-8 partiendo...\n",
      "Thread-9 partiendo...\n",
      "Thread-10 partiendo...\n",
      "Thread principal: Fueron creados 3 threads\n",
      "Thread-8 terminando después de 1.0043096542358398 seg.\n",
      "Thread-9 terminando después de 6.003904104232788 seg.\n",
      "Thread-10 terminando después de 8.004354000091553 seg.\n",
      "Thread principal: Fueron iniciados 3 threads\n",
      "0\n",
      "1\n",
      "2\n",
      "3\n",
      "4\n",
      "5\n",
      "6\n",
      "7\n",
      "8\n",
      "9\n"
     ]
    }
   ],
   "source": [
    "import threading\n",
    "import time\n",
    "\n",
    "# Usamos la definicion de los Thread declarados en el ejemplo anterior\n",
    "# Se crean los threads usando la clase Thread.\n",
    "t1 = Service(1)\n",
    "w1 = Worker(6)\n",
    "w2 = Worker(8)\n",
    "\n",
    "# Se inicializan los threads creados\n",
    "t1.start()\n",
    "w1.start()\n",
    "w2.start()\n",
    "print(\"Thread principal: Fueron creados 3 threads\")\n",
    "\n",
    "# Aquí incorporamos el método join() para bloquear el programa principal\n",
    "t1.join()     # No especificamos timeout, esperará lo que sea necesario\n",
    "w1.join()     # Esperaremos lo que sea necesario.\n",
    "w2.join(8.8)  # Esperaremos máximo 8.8 segundos.\n",
    "print(\"Thread principal: Fueron iniciados 3 threads\")\n",
    "\n",
    "# En este punto, el programa ha esperado por los tres threads que creamos\n",
    "# Estas líneas serán ejecutadas después de que los threads hayan terminado\n",
    "for i in range(10):\n",
    "    print(i)\n",
    "    # No haremos sleep porque ya esperamos suficiente..."
   ]
  },
  {
   "cell_type": "markdown",
   "metadata": {},
   "source": [
    "### `is_alive()`"
   ]
  },
  {
   "cell_type": "markdown",
   "metadata": {},
   "source": [
    "Es posible identificar si un _thread_ todavía está en funcionamiento mediante el uso del método `is_alive()`. Por lo general este método se implementa para saber el estado del _thread_ después del uso de `join()`, al cual se le ha definido su tiempo máximo de espera. Usando `Service` y `Worker` podemos hacer lo siguiente:"
   ]
  },
  {
   "cell_type": "code",
   "execution_count": 8,
   "metadata": {
    "ExecuteTime": {
     "end_time": "2019-05-02T23:36:28.367185Z",
     "start_time": "2019-05-02T23:36:24.349682Z"
    },
    "scrolled": true
   },
   "outputs": [
    {
     "name": "stdout",
     "output_type": "stream",
     "text": [
      "Thread-11 partiendo...\n",
      "Thread-12 partiendo...\n",
      "Thread-11 terminando después de 2.0006232261657715 seg.\n",
      "Thread principal: El thread Thread-11 ha terminado :)\n",
      "Thread principal: El thread Thread-12 sigue activo :(\n"
     ]
    }
   ],
   "source": [
    "import threading\n",
    "import time\n",
    "\n",
    "# Se crean los threads usando la clase Thread\n",
    "t1 = Service(2)\n",
    "w1 = Worker(10)\n",
    "\n",
    "# Se inicializan los threads\n",
    "t1.start()\n",
    "w1.start()\n",
    "\n",
    "# Esperaremos a que t1 termine, por 2 segundos\n",
    "t1.join(2)\n",
    "# Esperaremos a que w1 termine, por 2 segundos más\n",
    "w1.join(2)\n",
    "\n",
    "# Dado como definimos Service y Worker, es muy probable que Service\n",
    "# haya terminado en los 2 segundos, pero poco probable que \n",
    "# Worker haya terminado.\n",
    "\n",
    "# Podemos comprobar si los threads están activos o no\n",
    "\n",
    "for thread in [t1, w1]:\n",
    "    if thread.is_alive():\n",
    "        print(f\"Thread principal: El thread {thread.name} sigue activo :(\")\n",
    "    else:\n",
    "        print(f\"Thread principal: El thread {thread.name} ha terminado :)\")"
   ]
  },
  {
   "cell_type": "code",
   "execution_count": 13,
   "metadata": {
    "ExecuteTime": {
     "end_time": "2019-05-02T23:36:58.081479Z",
     "start_time": "2019-05-02T23:36:55.073650Z"
    }
   },
   "outputs": [
    {
     "name": "stdout",
     "output_type": "stream",
     "text": [
      "El thread Service ha terminado :)\n",
      "El thread Worker ha terminado :)\n"
     ]
    }
   ],
   "source": [
    "# Dejemos pasar 5 segundos más... Ambos deberian haber terminado\n",
    "time.sleep(5)\n",
    "for thread in [t1, w1]:\n",
    "    if thread.is_alive():\n",
    "        print(f\"El thread {thread.name} sigue activo :(\")\n",
    "    else:\n",
    "        print(f\"El thread {thread.name} ha terminado :)\")"
   ]
  },
  {
   "cell_type": "markdown",
   "metadata": {},
   "source": [
    "### _Daemons_\n",
    "\n",
    "En los ejemplos anteriores, el programa espera a que todos los _threads_ terminen su trabajo antes de terminar su ejecución. Los **_daemon threads_** son los que, a pesar de que estén aún corriendo, no impiden que el programa principal termine.\n",
    "\n",
    "Si no existieran los _daemon threads_, tendríamos que preocuparnos de tener en cuenta todos nuestros _threads_ y preocuparnos de terminarlos a todos para que el programa principal pueda terminar. Con los _daemon threads_, podemos ponerlos a correr y olvidarnos de ellos, y cuando el programa termina, los _daemon threads_ serán terminados inmediatamente. El programa principal terminará cuando todos los _threads no-daemon_ hayan finalizado.\n",
    "\n",
    "Para especificar que un _thread_ debe ser _daemon_, se especifica el parámetro `daemon` en el constructor del _thread_. Una forma alternativa es escribir el atributo `daemon` del _thread_, después de haberlo creado."
   ]
  },
  {
   "cell_type": "code",
   "execution_count": 10,
   "metadata": {
    "ExecuteTime": {
     "end_time": "2019-05-02T23:37:08.426413Z",
     "start_time": "2019-05-02T23:37:08.107467Z"
    }
   },
   "outputs": [
    {
     "name": "stdout",
     "output_type": "stream",
     "text": [
      "Worker partiendo...\n",
      "Service partiendo...\n"
     ]
    }
   ],
   "source": [
    "import threading\n",
    "import time\n",
    "\n",
    "\n",
    "def worker():\n",
    "    print(f\"{threading.current_thread().name} partiendo...\")\n",
    "    time.sleep(2)\n",
    "    print(f\"{threading.current_thread().name} saliendo...\")\n",
    "\n",
    "    \n",
    "def service():\n",
    "    print(f\"{threading.current_thread().name} partiendo...\")\n",
    "    time.sleep(4)\n",
    "    print(f\"{threading.current_thread().name} saliendo...\")\n",
    "\n",
    "\n",
    "# Forma 1 de hacer un thread daemon\n",
    "t1 = threading.Thread(name=\"Service\", target=service, daemon=True)\n",
    "# Forma 2 de hacer un thread daemon\n",
    "w1 = threading.Thread(name=\"Worker\", target=worker)\n",
    "w1.daemon = True\n",
    "\n",
    "# Se inicializan los threads\n",
    "w1.start()\n",
    "t1.start()"
   ]
  },
  {
   "cell_type": "markdown",
   "metadata": {},
   "source": [
    "La siguiente figura muestra la salida en la consola para el programa **con** los _threads_ configurados como `Daemon`. Los _threads_ se interrumpen abruptamente, luego de que el programa principal termina su ejecución.\n",
    "\n",
    "![daemon](imgs/daemon.png)\n",
    "\n",
    "Comparemos el resultado anterior con la salida en la consola para el programa **sin** los _threads_ configurados como `Daemon`, como muestra la imagen siguiente. Podemos ver que la ejecución de los _threads_ fue completada y que el programa no se cierra hasta que los _threads_ terminan.\n",
    "\n",
    "![non_daemon](imgs/non-daemon.png)"
   ]
  },
  {
   "cell_type": "markdown",
   "metadata": {},
   "source": [
    "En la celda anterior, podemos apreciar que el programa principal termina antes que el _daemon thread_. Es posible hacer que el programa espere a un _daemon thread_ mediante el uso de `join()`, lo que tendría sentido cuando debemos esperar algún resultado del _thread_ para el resto del programa.\n",
    "\n",
    "**Nota:** El archivo `threads.py` está en la misma carpeta que se subió este material."
   ]
  },
  {
   "cell_type": "code",
   "execution_count": 11,
   "metadata": {
    "ExecuteTime": {
     "end_time": "2019-05-02T23:37:18.218081Z",
     "start_time": "2019-05-02T23:37:15.967487Z"
    }
   },
   "outputs": [
    {
     "name": "stdout",
     "output_type": "stream",
     "text": [
      "Worker partiendo...Service partiendo...\n",
      "\n",
      "Thread-12 terminando después de 10.002875804901123 seg.\n",
      "Worker saliendo...\n",
      "Worker saliendo...\n"
     ]
    }
   ],
   "source": [
    "import threading\n",
    "import time\n",
    "\n",
    "\n",
    "def worker():\n",
    "    print(f\"{threading.current_thread().name} partiendo...\")\n",
    "    time.sleep(2)\n",
    "    print(f\"{threading.current_thread().name} saliendo...\")\n",
    "\n",
    "    \n",
    "def service():\n",
    "    print(f\"{threading.current_thread().name} partiendo...\")\n",
    "    time.sleep(4)\n",
    "    print(f\"{threading.current_thread().name} saliendo...\")\n",
    "\n",
    "\n",
    "# Forma 1 de hacer un thread daemon\n",
    "t1 = threading.Thread(name=\"Service\", target=service, daemon=True)\n",
    "# Forma 2 de hacer un thread daemon\n",
    "w1 = threading.Thread(name=\"Worker\", target=worker)\n",
    "w1.daemon = True\n",
    "\n",
    "# Se inicializan los threads\n",
    "w1.start()\n",
    "t1.start()\n",
    "\n",
    "# Esperamos los threads.\n",
    "# Lo esperamos por una cantidad indefinida de tiempo\n",
    "w1.join()\n",
    "# Esperamos sólo 5 segundos\n",
    "w2.join(5)"
   ]
  },
  {
   "cell_type": "markdown",
   "metadata": {},
   "source": [
    "Una cosa importante a notar es que una vez que se ha llamado el método `start()` un _thread_ no puede cambiar desde _daemon_ a _no-daemon_, o vicecersa. Si tratamos de hacerlo, se lanza una excepción del tipo `RuntimeError`."
   ]
  },
  {
   "cell_type": "code",
   "execution_count": 12,
   "metadata": {
    "ExecuteTime": {
     "end_time": "2019-05-02T23:37:22.890154Z",
     "start_time": "2019-05-02T23:37:22.292727Z"
    }
   },
   "outputs": [
    {
     "name": "stdout",
     "output_type": "stream",
     "text": [
      "Service partiendo...\n"
     ]
    },
    {
     "ename": "RuntimeError",
     "evalue": "cannot set daemon status of active thread",
     "output_type": "error",
     "traceback": [
      "\u001b[0;31m---------------------------------------------------------------------------\u001b[0m",
      "\u001b[0;31mRuntimeError\u001b[0m                              Traceback (most recent call last)",
      "\u001b[0;32m<ipython-input-12-aa903af99977>\u001b[0m in \u001b[0;36m<module>\u001b[0;34m\u001b[0m\n\u001b[1;32m      3\u001b[0m \u001b[0;34m\u001b[0m\u001b[0m\n\u001b[1;32m      4\u001b[0m \u001b[0;31m# Noo!\u001b[0m\u001b[0;34m\u001b[0m\u001b[0;34m\u001b[0m\u001b[0;34m\u001b[0m\u001b[0m\n\u001b[0;32m----> 5\u001b[0;31m \u001b[0mt1\u001b[0m\u001b[0;34m.\u001b[0m\u001b[0mdaemon\u001b[0m \u001b[0;34m=\u001b[0m \u001b[0;32mFalse\u001b[0m\u001b[0;34m\u001b[0m\u001b[0;34m\u001b[0m\u001b[0m\n\u001b[0m\u001b[1;32m      6\u001b[0m \u001b[0;34m\u001b[0m\u001b[0m\n\u001b[1;32m      7\u001b[0m \u001b[0mt1\u001b[0m\u001b[0;34m.\u001b[0m\u001b[0mjoin\u001b[0m\u001b[0;34m(\u001b[0m\u001b[0;34m)\u001b[0m\u001b[0;34m\u001b[0m\u001b[0;34m\u001b[0m\u001b[0m\n",
      "\u001b[0;32m/opt/local/Library/Frameworks/Python.framework/Versions/3.6/lib/python3.6/threading.py\u001b[0m in \u001b[0;36mdaemon\u001b[0;34m(self, daemonic)\u001b[0m\n\u001b[1;32m   1139\u001b[0m             \u001b[0;32mraise\u001b[0m \u001b[0mRuntimeError\u001b[0m\u001b[0;34m(\u001b[0m\u001b[0;34m\"Thread.__init__() not called\"\u001b[0m\u001b[0;34m)\u001b[0m\u001b[0;34m\u001b[0m\u001b[0;34m\u001b[0m\u001b[0m\n\u001b[1;32m   1140\u001b[0m         \u001b[0;32mif\u001b[0m \u001b[0mself\u001b[0m\u001b[0;34m.\u001b[0m\u001b[0m_started\u001b[0m\u001b[0;34m.\u001b[0m\u001b[0mis_set\u001b[0m\u001b[0;34m(\u001b[0m\u001b[0;34m)\u001b[0m\u001b[0;34m:\u001b[0m\u001b[0;34m\u001b[0m\u001b[0;34m\u001b[0m\u001b[0m\n\u001b[0;32m-> 1141\u001b[0;31m             \u001b[0;32mraise\u001b[0m \u001b[0mRuntimeError\u001b[0m\u001b[0;34m(\u001b[0m\u001b[0;34m\"cannot set daemon status of active thread\"\u001b[0m\u001b[0;34m)\u001b[0m\u001b[0;34m\u001b[0m\u001b[0;34m\u001b[0m\u001b[0m\n\u001b[0m\u001b[1;32m   1142\u001b[0m         \u001b[0mself\u001b[0m\u001b[0;34m.\u001b[0m\u001b[0m_daemonic\u001b[0m \u001b[0;34m=\u001b[0m \u001b[0mdaemonic\u001b[0m\u001b[0;34m\u001b[0m\u001b[0;34m\u001b[0m\u001b[0m\n\u001b[1;32m   1143\u001b[0m \u001b[0;34m\u001b[0m\u001b[0m\n",
      "\u001b[0;31mRuntimeError\u001b[0m: cannot set daemon status of active thread"
     ]
    }
   ],
   "source": [
    "t1 = threading.Thread(name=\"Service\", target=service, daemon=True)\n",
    "t1.start()\n",
    "\n",
    "# Noo!\n",
    "t1.daemon = False\n",
    "\n",
    "t1.join()"
   ]
  },
  {
   "cell_type": "markdown",
   "metadata": {},
   "source": [
    "Al hacer una subclase de `Thread`, que queremos que sea _daemon_, podemos indicar que el _thread_ es _daemon_ durante su inicialización, usando el atributo `daemon`."
   ]
  },
  {
   "cell_type": "code",
   "execution_count": 14,
   "metadata": {
    "ExecuteTime": {
     "end_time": "2019-05-02T23:37:29.648316Z",
     "start_time": "2019-05-02T23:37:27.616097Z"
    }
   },
   "outputs": [
    {
     "name": "stdout",
     "output_type": "stream",
     "text": [
      "Daemon thread: Empezando...\n",
      "Daemou thread: Terminando...\n"
     ]
    }
   ],
   "source": [
    "class Daemon(threading.Thread):\n",
    "    \n",
    "    def __init__(self):\n",
    "        super().__init__()\n",
    "        # Cuando inicializamos el thread lo declaramos como daemon\n",
    "        self.daemon = True\n",
    "    \n",
    "    def run(self):\n",
    "        print(\"Daemon thread: Empezando...\")\n",
    "        time.sleep(2)\n",
    "        print(\"Daemou thread: Terminando...\")\n",
    "\n",
    "daemon = Daemon()\n",
    "daemon.start()\n",
    "daemon.join()"
   ]
  },
  {
   "cell_type": "markdown",
   "metadata": {},
   "source": [
    "### _Timers_\n",
    "\n",
    "La clase `Timer` es una subclase de la clase `Thread` y permite ejecutar un proceso o acción después que ha pasado un determinado tiempo. `Timer` requiere, como parámetros básicos, el tiempo en segundos después del cual debe ejecutarse el _thread_, la función a ejecutar, y los argumentos de la función a ejecutar.\n",
    "\n",
    "El método `cancel()` permite, si se requiere, cancelar la ejecución del _timer_ antes que este sea ejecuctado."
   ]
  },
  {
   "cell_type": "code",
   "execution_count": 15,
   "metadata": {
    "ExecuteTime": {
     "end_time": "2019-05-02T23:37:33.083325Z",
     "start_time": "2019-05-02T23:37:33.052920Z"
    }
   },
   "outputs": [
    {
     "name": "stdout",
     "output_type": "stream",
     "text": [
      "Hola :) acabas de ejecutar el timer 2\n",
      "\n",
      "¡Hola!, acabas de ejecutar el timer 1\n"
     ]
    }
   ],
   "source": [
    "def mi_timer(archivo):\n",
    "    with open(archivo) as fid:\n",
    "        for linea in fid:\n",
    "            print(linea)\n",
    "\n",
    "t1 = threading.Timer(10.0, mi_timer, args=(\"files/mensaje_01.txt\",))\n",
    "t2 = threading.Timer(5.0, mi_timer, kwargs={\"archivo\": \"files/mensaje_02.txt\"})\n",
    "\n",
    "t1.start() # el thread t comenzará después de 10 seconds\n",
    "t2.start() # el thread t comenzará después de 5 seconds"
   ]
  }
 ],
 "metadata": {
  "kernelspec": {
   "display_name": "Python 3",
   "language": "python",
   "name": "python3"
  },
  "language_info": {
   "codemirror_mode": {
    "name": "ipython",
    "version": 3
   },
   "file_extension": ".py",
   "mimetype": "text/x-python",
   "name": "python",
   "nbconvert_exporter": "python",
   "pygments_lexer": "ipython3",
   "version": "3.6.8"
  },
  "varInspector": {
   "cols": {
    "lenName": 16,
    "lenType": 16,
    "lenVar": 40
   },
   "kernels_config": {
    "python": {
     "delete_cmd_postfix": "",
     "delete_cmd_prefix": "del ",
     "library": "var_list.py",
     "varRefreshCmd": "print(var_dic_list())"
    },
    "r": {
     "delete_cmd_postfix": ") ",
     "delete_cmd_prefix": "rm(",
     "library": "var_list.r",
     "varRefreshCmd": "cat(var_dic_list()) "
    }
   },
   "types_to_exclude": [
    "module",
    "function",
    "builtin_function_or_method",
    "instance",
    "_Feature"
   ],
   "window_display": false
  }
 },
 "nbformat": 4,
 "nbformat_minor": 1
}
