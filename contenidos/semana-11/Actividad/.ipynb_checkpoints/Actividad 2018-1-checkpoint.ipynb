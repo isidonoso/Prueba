{
 "cells": [
  {
   "cell_type": "markdown",
   "metadata": {},
   "source": [
    "# Actividad 11 2018-1, I/O: archivos y bytes"
   ]
  },
  {
   "cell_type": "markdown",
   "metadata": {},
   "source": [
    "Ocuparemos [esta actividad](https://github.com/IIC2233/Syllabus-2018-1/blob/master/Actividades/AC11/AC11.pdf) de hace algunos semestres para guiarlos en el proceso de leer y entender un enunciado, decidir dónde aplicar la materia y, finalmente, implementar. Recuerden el orden en que se hace este proceso: leer, entender, aplicar la materia y programar."
   ]
  },
  {
   "cell_type": "markdown",
   "metadata": {},
   "source": [
    "## Leyendo el enunciado"
   ]
  },
  {
   "cell_type": "markdown",
   "metadata": {},
   "source": [
    "Blabla"
   ]
  },
  {
   "cell_type": "markdown",
   "metadata": {},
   "source": [
    "## Parte 1: Encontrar archivos"
   ]
  },
  {
   "cell_type": "markdown",
   "metadata": {},
   "source": [
    "1. Ejecutar el archivo `esconder.py`, lo podemos hacer desde nuestro editor o de cualquier otra parte.\n",
    "2. Se crearán las carpetas, lo que genera algo como lo de la imagen:\n",
    "\n",
    "![](img/folders.jpg)\n",
    "\n",
    "3. En alguna de las carpetas se esconderán los archivos corruptos (`marciano64.png` y `marcianozurdo.pep`).\n",
    "4. Encontrar automáticamente la ruta a cada archivo"
   ]
  },
  {
   "cell_type": "markdown",
   "metadata": {},
   "source": [
    "En esta parte, estamos trabajando con archivos y rutas, por lo que debemos recurrir a la materia de *paths*. Lo que queremos hacer es entrar a cada una de esas carpetas, que dentro tendrán otras carpetas, hasta encontrar los archivos buscados: "
   ]
  },
  {
   "cell_type": "code",
   "execution_count": 1,
   "metadata": {
    "ExecuteTime": {
     "end_time": "2019-05-24T15:03:47.790871Z",
     "start_time": "2019-05-24T15:03:47.786868Z"
    }
   },
   "outputs": [],
   "source": [
    "import os"
   ]
  },
  {
   "cell_type": "markdown",
   "metadata": {},
   "source": [
    "Nuestra idea se ve algo así:\n",
    "\n",
    "0. A partir del directorio actual (\".\")\n",
    "1. Mira los elementos dentro de cada carpeta\n",
    "    1. Si el elemento es un archivo, comparar si es el buscado\n",
    "    2. Si el elemento es una carpeta, mirar sus contenidos (repetir 1, 1A y 1B)"
   ]
  },
  {
   "cell_type": "code",
   "execution_count": 2,
   "metadata": {
    "ExecuteTime": {
     "end_time": "2019-05-24T15:03:47.887538Z",
     "start_time": "2019-05-24T15:03:47.807560Z"
    }
   },
   "outputs": [
    {
     "name": "stdout",
     "output_type": "stream",
     "text": [
      "./potato3/potato3/marcianozurdo.pep\n",
      "./potato4/potato3/marciano64.png\n"
     ]
    }
   ],
   "source": [
    "def mirar_contenidos(carpeta):\n",
    "    # `os.listdir` solo nos da el nombre...\n",
    "    for elemento in os.listdir(carpeta):\n",
    "        # ... asi que para tener la ruta ocupamos `os.path.join`\n",
    "        ruta = os.path.join(carpeta, elemento)\n",
    "        if os.path.isfile(ruta):\n",
    "            # Ahora que sabemos que es un archivo, podemos extraer su nombre\n",
    "            nombre = os.path.basename(ruta)\n",
    "            if nombre in [\"marciano64.png\", \"marcianozurdo.pep\"]:\n",
    "                # Si su nombre está entre los buscados, imprimimos la ruta\n",
    "                print(ruta)\n",
    "        elif os.path.isdir(ruta):\n",
    "            mirar_contenidos(ruta)\n",
    "\n",
    "mirar_contenidos(\".\")"
   ]
  },
  {
   "cell_type": "markdown",
   "metadata": {},
   "source": [
    "Para esta parte, también podemos ocupar el método `os.walk(raiz)`, que nos permite recorrer las carpetas y archivos a partir de una raíz. En este caso, podemos partir desde el directorio actual (ya que las carpetas estarán junto a este archivo .py) y mirar dentro de las carpetas creadas si es que están los archivos buscados."
   ]
  },
  {
   "cell_type": "code",
   "execution_count": 3,
   "metadata": {
    "ExecuteTime": {
     "end_time": "2019-05-24T15:03:47.957723Z",
     "start_time": "2019-05-24T15:03:47.898212Z"
    }
   },
   "outputs": [
    {
     "name": "stdout",
     "output_type": "stream",
     "text": [
      "./potato3/potato3/marcianozurdo.pep\n",
      "./potato4/potato3/marciano64.png\n"
     ]
    }
   ],
   "source": [
    "# Subcarpeta es una subcarpeta dentro del directorio actual (\".\")\n",
    "# Carpetas son las carpetas dentro de \"subcarpeta\"\n",
    "# Archivos son los archivos dentro de \"subcarpeta\"\n",
    "for subcarpeta, carpetas, archivos in os.walk(\".\"):\n",
    "    # Para este problema solo nos interesa revisar los archivos\n",
    "    for archivo in archivos:\n",
    "        # Si el archivo se llama \"marciano64.png\" o \"marcianozurdo.pep\"\n",
    "        # es el archivo que estamos buscando\n",
    "        if archivo in [\"marciano64.png\", \"marcianozurdo.pep\"]:\n",
    "            # Imprimimos la ruta relativa al archivo\n",
    "            print(os.path.join(subcarpeta, archivo))\n"
   ]
  },
  {
   "cell_type": "markdown",
   "metadata": {
    "ExecuteTime": {
     "end_time": "2019-05-24T14:40:09.110203Z",
     "start_time": "2019-05-24T14:40:09.102026Z"
    }
   },
   "source": [
    "**Importante:** Lo importante en esta parte es que se puede hacer de muchas formas, ocupando métodos que conozcan (que están en los contenidos) y métodos que no conozcan tanto pero que encuentren buscando en internet. Por ejemplo, si yo busco `python iterate folder` (tanto en Google como en DuckDuckGo) el primer resultado es [esta pregunta en StackOverflow](https://stackoverflow.com/questions/10377998/how-can-i-iterate-over-files-in-a-given-directory) donde hay muchas respuestas posibles, entre ellas la opción de utilizar `os.listdir` y un poco más abajo la de utilizar `os.walk`, entre otras que no se muestran aquí. Lo importante es que busquen, encuentren y prueben. Usar internet durante una actividad está permitido."
   ]
  }
 ],
 "metadata": {
  "kernelspec": {
   "display_name": "Python 3",
   "language": "python",
   "name": "python3"
  },
  "language_info": {
   "codemirror_mode": {
    "name": "ipython",
    "version": 3
   },
   "file_extension": ".py",
   "mimetype": "text/x-python",
   "name": "python",
   "nbconvert_exporter": "python",
   "pygments_lexer": "ipython3",
   "version": "3.7.0"
  },
  "varInspector": {
   "cols": {
    "lenName": 16,
    "lenType": 16,
    "lenVar": 40
   },
   "kernels_config": {
    "python": {
     "delete_cmd_postfix": "",
     "delete_cmd_prefix": "del ",
     "library": "var_list.py",
     "varRefreshCmd": "print(var_dic_list())"
    },
    "r": {
     "delete_cmd_postfix": ") ",
     "delete_cmd_prefix": "rm(",
     "library": "var_list.r",
     "varRefreshCmd": "cat(var_dic_list()) "
    }
   },
   "types_to_exclude": [
    "module",
    "function",
    "builtin_function_or_method",
    "instance",
    "_Feature"
   ],
   "window_display": false
  }
 },
 "nbformat": 4,
 "nbformat_minor": 2
}
