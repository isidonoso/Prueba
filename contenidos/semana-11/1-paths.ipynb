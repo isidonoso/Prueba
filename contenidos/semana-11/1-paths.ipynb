{
 "cells": [
  {
   "cell_type": "markdown",
   "metadata": {},
   "source": [
    "<p>\n",
    "<font size='5' face='Georgia, Arial'>IIC-2233 Apunte Programación Avanzada</font><br>\n",
    "<font size='1'> Modificado en 2019-1 por Equipo Docente IIC2233. </font>\n",
    "</p>"
   ]
  },
  {
   "cell_type": "markdown",
   "metadata": {},
   "source": [
    "# Archivos y representaciones para _Input_/_Output_\n",
    "\n",
    "Esta semana estudiaremos detalles del uso de archivos y de la representación de _strings_ en Python. Aprenderemos que no solamente podemos almacenar _strings_ como caracteres que podemos ver en la pantalla, sino que podemos también manipular representación de más bajo nivel en el lenguaje que habla el computador: bytes."
   ]
  },
  {
   "cell_type": "markdown",
   "metadata": {},
   "source": [
    "## Módulo `os`\n",
    "\n",
    "El módulo [`os`](https://docs.python.org/3.6/library/os.html) nos provee una interfaz portable para ejecutar operaciones relacionadas al sistema operativo. En lo inmediato lo utilizaremos para ejecutar operaciones sobre las rutas (_path_) de los archivos, utilizando `os.path`. El manejo apropiado de los _path_ usando este módulo nos ayudará a hacer nuestro código más portable entre distintos sistemas operativos."
   ]
  },
  {
   "cell_type": "markdown",
   "metadata": {},
   "source": [
    "## _Paths_ y nombres de archivos"
   ]
  },
  {
   "cell_type": "code",
   "execution_count": null,
   "metadata": {},
   "outputs": [],
   "source": [
    "import os"
   ]
  },
  {
   "cell_type": "markdown",
   "metadata": {},
   "source": [
    "Un _path_ nos indica el lugar donde se encuentra un archivo o un directorio dentro de un árbol que representa nuestro sistema de archivos. Un _path_ puede ser **absoluto** o **relativo**.\n",
    "\n",
    " - Un **_path_ absoluto** comienza **siempre** con con el caracter `/` e indica una ubicación a partir del directorio principal o directorio raíz (_root_) del sistema de archivos. Este directorio se representa por la ruta más básica: `/`. Un _path_ absoluto tiene el mismo significado de manera independiente del directorio en cual se está ejecutando el programa. Tiene la ventaja que la ruta no presenta ambigüedades, pero desde el punto de vista de la portabilidad, requiere que la ruta exista en todos los sistema de archivos en que se ejecuta el programa.\n",
    " - Un **_path_ relativo** **nunca** comienza con el caracter `/` e indica una dirección relativa al directorio donde se está ejecutando. Un _path_ relativo se interpreta a partir del directorio en el cual se está ejecutando el programa actual. Tiene la ventaja que permite acceder a un directorio de manera portable ya que no requiere que el programa se encuentra en un directorio específico, sin embargo requiere más cuidado al momento de ejecutar en un directorio distinto al esperado.\n"
   ]
  },
  {
   "cell_type": "code",
   "execution_count": null,
   "metadata": {},
   "outputs": [],
   "source": [
    "# Path absoluto\n",
    "\n",
    "absolute_path = '/home/archivo.txt'\n",
    "\n",
    "with open(os.path.normpath(absolute_path), 'rb') as f:\n",
    "    lineas = f.readlines()\n",
    "    \n",
    "lineas"
   ]
  },
  {
   "cell_type": "markdown",
   "metadata": {},
   "source": [
    "El método `normpath` permite obtener una representación uniforme de una ruta. Tengamos en cuenta los sistemas operativos Windows y los basados en Unix (como Linux y macOS), representan las rutas en un directorio de manera distinta. Usando `normapath` obtenemos una representación, de manera independiente del sistema operativo en que nos encontremos.\n",
    "\n",
    "En el código anterior, se intenta abrir un archivo llamado `archivo.txt` una carpeta llamada `home`, ubicada en el directorio raíz (`/`) del sistema de archivos del computador donde se está ejecutando el código. Este código lanzará una excepción, a menos que esta carpeta y este archivo existan."
   ]
  },
  {
   "cell_type": "code",
   "execution_count": null,
   "metadata": {},
   "outputs": [],
   "source": [
    "## Path relativo\n",
    "\n",
    "relative_path = 'data/archivo.txt'\n",
    "\n",
    "with open(os.path.normpath(relative_path), 'rb') as f:\n",
    "    lineas = f.readlines()\n",
    "    \n",
    "lineas"
   ]
  },
  {
   "cell_type": "markdown",
   "metadata": {},
   "source": [
    "En este código, se intenta abrir un archivo llamado `archivo.txt` que está dentro de una carpeta llamada `data`, que está ubicada en la carpeta donde se está ejecutando este código Python. Este archivo debería leerse sin problemas, ya que el repositorio donde se encuentra este material incluye a esta carpeta y a este archivo."
   ]
  },
  {
   "cell_type": "markdown",
   "metadata": {},
   "source": [
    "Un *path* se divide en dos partes:\n",
    " - El nombre del directorio o `dirname`, que es la carpeta donde se encuentra el archivo.\n",
    " - El nombre de archivo, *filename* o `basename`, que es el nombre del archivo, incluyendo su extensión.\n",
    " \n",
    "En el siguiente código, el módulo `os.path` permite separar un _path_ en `dirname` y `basename`."
   ]
  },
  {
   "cell_type": "markdown",
   "metadata": {},
   "source": [
    "path1 = '/carpeta1/carpeta2/imagen.jpg'\n",
    "\n",
    "dirname1 = os.path.dirname(path1)\n",
    "basename1 = os.path.basename(path1)\n",
    "\n",
    "print(f'dirname: {dirname1}\\npathname: {basename1}')"
   ]
  },
  {
   "cell_type": "code",
   "execution_count": null,
   "metadata": {},
   "outputs": [],
   "source": [
    "path2 = 'f1/f2/archivo_de_texto.txt'\n",
    "\n",
    "dirname2 = os.path.dirname(path2)\n",
    "basename2 = os.path.basename(path2)\n",
    "\n",
    "print(f'dirname: {dirname2}\\npathname: {basename2}')"
   ]
  },
  {
   "cell_type": "markdown",
   "metadata": {},
   "source": [
    "## Navegación entre directorios"
   ]
  },
  {
   "cell_type": "markdown",
   "metadata": {},
   "source": [
    "La librería `os` también nos provee de una función `walk` generadora que nos permite poder obtener las rutas de un directorio, de sus subdirectorios y de sus archivos. Esto nos permite poder navegar dentro de una carpeta y ver todo lo que contiene mediante código. \n",
    "\n",
    "El siguiente código muestra como se utiliza"
   ]
  },
  {
   "cell_type": "code",
   "execution_count": null,
   "metadata": {},
   "outputs": [],
   "source": [
    "for raiz, directorios, archivos in os.walk(\".\", topdown=True):\n",
    "    print(\"Raíz:\",raiz)\n",
    "    print(\"-\"*30)\n",
    "    for archivo in archivos:\n",
    "        print(os.path.join(raiz, archivo))\n",
    "    print(\"-\"*30)\n",
    "    for directorio in directorios:\n",
    "        print(os.path.join(raiz, directorio))\n",
    "    print(\"*\"*30)\n"
   ]
  },
  {
   "cell_type": "markdown",
   "metadata": {},
   "source": [
    "El parámetro `topdown` nos permite decidir si la navegación sobre una carpeta será desde el directorio raíz (`topdown = True`) o desde sus elementos hojas (`topdown = False`).\n",
    "\n",
    "El método `os.path.join(path_base,path_hijo)` nos permite unir dos rutas de forma sencilla, generando un nuevo path con la unión de las dos."
   ]
  },
  {
   "cell_type": "markdown",
   "metadata": {},
   "source": [
    "## Extensiones de archivo"
   ]
  },
  {
   "cell_type": "markdown",
   "metadata": {},
   "source": [
    "Los nombres de archivo suelen terminar con una secuencia, típicamente de tres caracteres, que aparece despues de un punto, por ejemplo `.txt`, `.jpg`, `.pdf`, `.mp3` y `.avi`. Esta secuencia de letras se conoce como **extensión** del archivo y sirve para dos objetivos:\n",
    "1. Darle una _pista_ al usuario sobre el tipo de archivo de que se trata, para saber qué hacer con él. Por ejemplo, cómo abrirlo.\n",
    "1. Darle una _pista_ al sistema operativo para saber con qué programa leer el archivo. "
   ]
  },
  {
   "cell_type": "code",
   "execution_count": null,
   "metadata": {},
   "outputs": [],
   "source": [
    "# podemos usar splitext para separar la extension del resto del nombre de archivo\n",
    "\n",
    "nombre_sin_extension, extension = os.path.splitext(basename1)\n",
    "print(nombre_sin_extension)\n",
    "print(extension)"
   ]
  },
  {
   "cell_type": "markdown",
   "metadata": {},
   "source": [
    "Hay que tener en cuenta que si bien la extensión del archivo sirve para darnos información acerca del tipo de archivo, ésta es **parte del nombre de archivo** y es **sólo una convención**. Una extensión informa del tipo de archivo, pero no determina el tipo del archivo.\n",
    "\n",
    "Por ejemplo, a continuación escribiremos un archivo de texto y lo guardaremos con extensión `.jpg`, que indica que el archivo es una imagen en formato JPEG. Para un usuario puede verse extraño que un archivo de texto tenga una extensión de imagen, sin embargo, el archivo seguirá siendo un archivo de texto."
   ]
  },
  {
   "cell_type": "code",
   "execution_count": null,
   "metadata": {},
   "outputs": [],
   "source": [
    "path = 'data/archivo_de_texto.jpg'\n",
    "\n",
    "with open(path, 'w') as f:\n",
    "    f.writelines(['línea 1\\n','línea 2\\n','línea 3\\n'])"
   ]
  },
  {
   "cell_type": "markdown",
   "metadata": {},
   "source": [
    "Si intentas abrir el archivo generado, puede que tu sistema operativo intente erróneamente abrirlo con un visor de imágenes. Sin embargo, si lo abres con tu editor de texto favorito, deberías poder leerlo adecuadamente, ya que es un archivo de texto."
   ]
  },
  {
   "cell_type": "markdown",
   "metadata": {},
   "source": [
    "Algunos sistemas operativos vienen configurados por defecto para ocultar la extensión de los archivos. Se recomienda fuertemente cambiar esta configuración para poder ver el nombre de archivo completo y evitar confusiones al leer y escribir archivos."
   ]
  }
 ],
 "metadata": {
  "kernelspec": {
   "display_name": "Python 3",
   "language": "python",
   "name": "python3"
  },
  "language_info": {
   "codemirror_mode": {
    "name": "ipython",
    "version": 3
   },
   "file_extension": ".py",
   "mimetype": "text/x-python",
   "name": "python",
   "nbconvert_exporter": "python",
   "pygments_lexer": "ipython3",
   "version": "3.7.0"
  }
 },
 "nbformat": 4,
 "nbformat_minor": 2
}
