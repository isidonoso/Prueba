{
 "cells": [
  {
   "cell_type": "markdown",
   "metadata": {
    "ExecuteTime": {
     "end_time": "2019-04-05T19:09:20.231800Z",
     "start_time": "2019-04-05T19:09:20.218679Z"
    }
   },
   "source": [
    "<p>\n",
    "<font size='5' face='Georgia, Arial'>IIC-2233 Apunte Programación Avanzada</font><br>\n",
    "<font size='1'>Editado por Equipo Docente IIC2233 2019-1. </font><br>\n",
    "<font size='1'>Material confeccionado por Fernando Florenzano y Antonio Ossa en 2019.</font>\n",
    "<br>\n",
    "</p>"
   ]
  },
  {
   "cell_type": "markdown",
   "metadata": {},
   "source": [
    "## Ejemplo de estructuras nodales\n",
    "\n",
    "### Árbol de operaciones\n",
    "\n",
    "Acá trabajaremos con una representación de operaciones matemáticas. Podemos representar una operacion como un árbol donde la raíz contiene la operación o función matemática en sí y esta se aplica sobre sus hijos. \n",
    "\n",
    "Por ejemplo, `suma(1, 2)` se representaría con 3 nodos:\n",
    "* `suma` sería el nodo raíz\n",
    "* 1 sería un nodo hijo del nodo raíz\n",
    "* 2 sería otro nodo hijo del nodo raíz"
   ]
  },
  {
   "cell_type": "markdown",
   "metadata": {},
   "source": [
    "Lo importante en este modealamiento es que los nodos hijos pueden ser otras operaciones, no solamente números. Supongamos que queremos realizar la siguiente operación: `((3+7)*5)*2**1`. Notamos que esto es una composición de distintas operaciones. Primero definiremos cuáles son las operaciones que podemos utilizar:"
   ]
  },
  {
   "cell_type": "code",
   "execution_count": 1,
   "metadata": {
    "ExecuteTime": {
     "end_time": "2019-04-05T19:27:03.952388Z",
     "start_time": "2019-04-05T19:27:03.943778Z"
    }
   },
   "outputs": [],
   "source": [
    "def sumar(x, y):\n",
    "    \"\"\"Suma de x e y, es decir, x + y\"\"\"\n",
    "    return x + y\n",
    "\n",
    "\n",
    "def multiplicar(x, y):\n",
    "    \"\"\"Multiplica a x e y, es decir, x * y\"\"\"\n",
    "    return x * y\n",
    "\n",
    "\n",
    "def mi_operador(x, y, z):\n",
    "    \"\"\"Este es un operador que calcula x*(y^z)\"\"\"\n",
    "    return x * (y ** z)"
   ]
  },
  {
   "cell_type": "markdown",
   "metadata": {},
   "source": [
    "Ahora, recordemos que para calcular algo como `((3+7)*5)*2**1` necesitamos operar de adentro hacia afuera:\n",
    "* Primero sumamos 3 + 7\n",
    "* Este resultado lo multiplicamos por 5\n",
    "* Y luego a este resultado le aplicamos el operador `mi_operador` junto con 2 y 1 como argumentos.\n",
    "\n",
    "Como se puede notar, la cantidad de argumentos sobre los que se aplica una operación puede cambiar, por lo que aprovecharemos de ocupar `*args` para recibir cualquier cantidad de argumentos en el constructor de un operador."
   ]
  },
  {
   "cell_type": "code",
   "execution_count": 2,
   "metadata": {
    "ExecuteTime": {
     "end_time": "2019-04-05T19:27:04.019090Z",
     "start_time": "2019-04-05T19:27:03.961601Z"
    }
   },
   "outputs": [],
   "source": [
    "class Operacion:\n",
    "\n",
    "    def __init__(self, operacion, *factores):\n",
    "        # Operacion es la raiz\n",
    "        self.operacion = operacion\n",
    "        # Los factores son los nodos hijos\n",
    "        self.factores = factores\n",
    "\n",
    "    def calcular(self):\n",
    "        factores = []\n",
    "        # Iteramos sobre cada factor\n",
    "        for factor in self.factores:\n",
    "            # Si el factor es una operación\n",
    "            if type(factor) is Operacion:\n",
    "                # ... calculamos el resultado de esa operacion\n",
    "                factor = factor.calcular()\n",
    "            # Cada factor (ya calculado) lo guardamos para darselo a la funcion\n",
    "            factores.append(factor)\n",
    "        # Podemos hacer esto con programacion funcional en una línea!\n",
    "        # factores = map(lambda f: f.calcular() if type(f) is Operacion else f, self.factores)\n",
    "        return self.operacion(*factores)"
   ]
  },
  {
   "cell_type": "markdown",
   "metadata": {},
   "source": [
    "Ahora que tenemos nuestra propia representación de una operación, podemos ocupar el código para resolver `((3+7)*5)*2**1` tal como se comentó antes."
   ]
  },
  {
   "cell_type": "code",
   "execution_count": 3,
   "metadata": {
    "ExecuteTime": {
     "end_time": "2019-04-05T19:27:04.094055Z",
     "start_time": "2019-04-05T19:27:04.024416Z"
    }
   },
   "outputs": [
    {
     "data": {
      "text/plain": [
       "100"
      ]
     },
     "execution_count": 3,
     "metadata": {},
     "output_type": "execute_result"
    }
   ],
   "source": [
    "a = Operacion(sumar, 3, 7)  # 10\n",
    "# a es un arbol con valor \"+\" y con hijos [3, 7]\n",
    "\n",
    "b = Operacion(multiplicar, a, 5)  # 10 * 5 = 50\n",
    "# b es un arbol con valor \"*\" y con hijos [a, 5]\n",
    "\n",
    "c = Operacion(mi_operador, b, 2, 1)  # 50 * 2 ** 1 = 100\n",
    "# c es un arbol con valor \"* **\" y con hijos [b, 2, 1]\n",
    "\n",
    "# También podemos ocupar funciones lambda\n",
    "# Operacion(lambda x, y: x + y, 3, 7)\n",
    "    \n",
    "# El resultado deberia ser 100\n",
    "c.calcular()\n"
   ]
  }
 ],
 "metadata": {
  "kernelspec": {
   "display_name": "Python 3",
   "language": "python",
   "name": "python3"
  },
  "language_info": {
   "codemirror_mode": {
    "name": "ipython",
    "version": 3
   },
   "file_extension": ".py",
   "mimetype": "text/x-python",
   "name": "python",
   "nbconvert_exporter": "python",
   "pygments_lexer": "ipython3",
   "version": "3.6.6"
  },
  "varInspector": {
   "cols": {
    "lenName": 16,
    "lenType": 16,
    "lenVar": 40
   },
   "kernels_config": {
    "python": {
     "delete_cmd_postfix": "",
     "delete_cmd_prefix": "del ",
     "library": "var_list.py",
     "varRefreshCmd": "print(var_dic_list())"
    },
    "r": {
     "delete_cmd_postfix": ") ",
     "delete_cmd_prefix": "rm(",
     "library": "var_list.r",
     "varRefreshCmd": "cat(var_dic_list()) "
    }
   },
   "types_to_exclude": [
    "module",
    "function",
    "builtin_function_or_method",
    "instance",
    "_Feature"
   ],
   "window_display": false
  }
 },
 "nbformat": 4,
 "nbformat_minor": 2
}
