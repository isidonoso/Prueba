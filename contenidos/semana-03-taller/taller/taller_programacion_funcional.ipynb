{
 "cells": [
  {
   "cell_type": "markdown",
   "metadata": {
    "slideshow": {
     "slide_type": "slide"
    }
   },
   "source": [
    "# Semana 03: \n",
    "# Taller de programación funcional"
   ]
  },
  {
   "cell_type": "markdown",
   "metadata": {
    "slideshow": {
     "slide_type": "slide"
    }
   },
   "source": [
    "## Anuncios"
   ]
  },
  {
   "cell_type": "markdown",
   "metadata": {
    "slideshow": {
     "slide_type": "fragment"
    }
   },
   "source": [
    "- Encuesta de carga académica: ¡Por favor responder!"
   ]
  },
  {
   "cell_type": "markdown",
   "metadata": {
    "slideshow": {
     "slide_type": "fragment"
    }
   },
   "source": [
    "- 172 alumnos recibieron décimas de AC02. 🎉🎉🎉\n",
    "- Pero de los de los que no, 116 no respondieron la **auto-evalaución**. 😞"
   ]
  },
  {
   "cell_type": "markdown",
   "metadata": {
    "slideshow": {
     "slide_type": "slide"
    }
   },
   "source": [
    "- El plazo de correción de la AC01 termina la próxima semana.\n",
    "- La correción general de la AC02 se las haremos llegar pronto (tal vez mañana)."
   ]
  },
  {
   "cell_type": "markdown",
   "metadata": {
    "slideshow": {
     "slide_type": "slide"
    }
   },
   "source": [
    "- T01 publicada. ¿Cómo van?"
   ]
  },
  {
   "cell_type": "markdown",
   "metadata": {
    "slideshow": {
     "slide_type": "fragment"
    }
   },
   "source": [
    "- Se entregaron casi 200 **avances** de la T01. 🎉🎉🎉\n",
    "- Este se revisará lo antes posible y se entregará *feedback* general de sus modelaciones."
   ]
  },
  {
   "cell_type": "markdown",
   "metadata": {
    "slideshow": {
     "slide_type": "slide"
    }
   },
   "source": [
    "## Repaso de funciones\n",
    "¿Qué eran las funciones? ¿Para que sirven?"
   ]
  },
  {
   "cell_type": "code",
   "execution_count": null,
   "metadata": {
    "slideshow": {
     "slide_type": "fragment"
    }
   },
   "outputs": [],
   "source": [
    "def funcion(arg1, arg2, arg3):\n",
    "    # subrutina \n",
    "    print(f\"funcion fue llamada con argumentos: {arg1}, {arg2}, {arg3}\")\n",
    "    return arg1 + arg2 + arg3"
   ]
  },
  {
   "cell_type": "code",
   "execution_count": null,
   "metadata": {
    "ExecuteTime": {
     "end_time": "2019-03-28T03:49:25.944496Z",
     "start_time": "2019-03-28T03:49:25.931386Z"
    },
    "slideshow": {
     "slide_type": "fragment"
    }
   },
   "outputs": [],
   "source": [
    "print(f\"print de funcion: {funcion}\")\n",
    "\n",
    "retorno = funcion(1, 2, 3)\n",
    "\n",
    "print(f\"print de retorno de funcion(1, 2, 3): {retorno}\")"
   ]
  },
  {
   "cell_type": "markdown",
   "metadata": {
    "slideshow": {
     "slide_type": "slide"
    }
   },
   "source": [
    "Todas las funciones **retornan algo**, por definición.\n",
    "\n",
    "Qué retornan, es definido por la *keyword*: `return`."
   ]
  },
  {
   "cell_type": "code",
   "execution_count": null,
   "metadata": {
    "ExecuteTime": {
     "end_time": "2019-03-28T03:49:26.146076Z",
     "start_time": "2019-03-28T03:49:25.998708Z"
    },
    "slideshow": {
     "slide_type": "fragment"
    }
   },
   "outputs": [],
   "source": [
    "def suma_cinco(numero):\n",
    "    return numero + 5\n",
    "  \n",
    "def separa_por_espacios(string_con_espacios):\n",
    "    return string_con_espacios.split(\" \")\n",
    "\n",
    "print(suma_cinco(10))\n",
    "print(separa_por_espacios(\"¿Qué retorna esta función?\"))"
   ]
  },
  {
   "cell_type": "markdown",
   "metadata": {
    "slideshow": {
     "slide_type": "slide"
    }
   },
   "source": [
    "### ¿Y si escribo varios `return`? 🤔"
   ]
  },
  {
   "cell_type": "markdown",
   "metadata": {
    "slideshow": {
     "slide_type": "fragment"
    }
   },
   "source": [
    "Cuando una función llega a una sentencia `return`, entonces retorna ese valor y **termina de ejecutar** la función. \n",
    "\n",
    "El `return` es también la vía de salida de la subrutina de la función."
   ]
  },
  {
   "cell_type": "code",
   "execution_count": null,
   "metadata": {
    "ExecuteTime": {
     "end_time": "2019-03-28T03:49:26.259914Z",
     "start_time": "2019-03-28T03:49:26.175130Z"
    },
    "slideshow": {
     "slide_type": "slide"
    }
   },
   "outputs": [],
   "source": [
    "def dos_retornos():\n",
    "    print(\"Antes de return 1\")\n",
    "    return 1\n",
    "    \n",
    "    print(\"Antes de return 2\")\n",
    "    return 2\n",
    "\n",
    "retorno = dos_retornos()\n",
    "\n",
    "print(f\"retorno = {retorno}\")"
   ]
  },
  {
   "cell_type": "code",
   "execution_count": null,
   "metadata": {
    "ExecuteTime": {
     "end_time": "2019-03-28T03:49:26.326357Z",
     "start_time": "2019-03-28T03:49:26.265279Z"
    },
    "slideshow": {
     "slide_type": "slide"
    }
   },
   "outputs": [],
   "source": [
    "def busca_un_3(lista):\n",
    "    for elemento in lista:\n",
    "        print(elemento) # print elemento actual\n",
    "        if elemento == 3:\n",
    "            return elemento\n",
    "    \n",
    "    # for completo ya fue recorrido\n",
    "    return \"No lo encontré\"\n",
    "\n",
    "retorno = busca_un_3([1, 2, 3, 4, 5])\n",
    "\n",
    "print(f\"retorno = {retorno}\")"
   ]
  },
  {
   "cell_type": "code",
   "execution_count": null,
   "metadata": {
    "ExecuteTime": {
     "end_time": "2019-03-28T03:49:26.383624Z",
     "start_time": "2019-03-28T03:49:26.333480Z"
    },
    "slideshow": {
     "slide_type": "slide"
    }
   },
   "outputs": [],
   "source": [
    "retorno = busca_un_3([6, 7, 8, 9, 10])\n",
    "\n",
    "print(f\"retorno = {retorno}\")"
   ]
  },
  {
   "cell_type": "markdown",
   "metadata": {
    "slideshow": {
     "slide_type": "slide"
    }
   },
   "source": [
    "### ¿Y si no escribo `return`? 🤔"
   ]
  },
  {
   "cell_type": "markdown",
   "metadata": {
    "slideshow": {
     "slide_type": "fragment"
    }
   },
   "source": [
    "Entonces por defecto, la función retorna `None`."
   ]
  },
  {
   "cell_type": "code",
   "execution_count": null,
   "metadata": {
    "ExecuteTime": {
     "end_time": "2019-03-28T03:49:26.434199Z",
     "start_time": "2019-03-28T03:49:26.392946Z"
    },
    "slideshow": {
     "slide_type": "fragment"
    }
   },
   "outputs": [],
   "source": [
    "def funcion(arg1, arg2, arg3):\n",
    "    # subrutina\n",
    "    print(f\"funcion fue llamada con argumentos: {arg1}, {arg2}, {arg3}\") \n",
    "\n",
    "retorno = funcion(1, 2, 3)\n",
    "\n",
    "print(f\"print de retorno de funcion(1, 2, 3): {retorno}\")"
   ]
  },
  {
   "cell_type": "markdown",
   "metadata": {
    "slideshow": {
     "slide_type": "slide"
    }
   },
   "source": [
    "### ¿Y eso está bien? 🤔"
   ]
  },
  {
   "cell_type": "markdown",
   "metadata": {
    "slideshow": {
     "slide_type": "fragment"
    }
   },
   "source": [
    "¡Sí! Una función no tiene que retornar algo necesariamente. Está el método `append` de `list`, por ejemplo."
   ]
  },
  {
   "cell_type": "code",
   "execution_count": null,
   "metadata": {
    "ExecuteTime": {
     "end_time": "2019-03-28T03:49:26.546749Z",
     "start_time": "2019-03-28T03:49:26.458640Z"
    },
    "slideshow": {
     "slide_type": "fragment"
    }
   },
   "outputs": [],
   "source": [
    "lista_de_pi = [3, 1, 4, 1, 5]\n",
    "\n",
    "retorno_de_append = lista_de_pi.append(9)\n",
    "\n",
    "print(retorno_de_append)\n",
    "print(lista_de_pi)"
   ]
  },
  {
   "cell_type": "code",
   "execution_count": null,
   "metadata": {
    "ExecuteTime": {
     "end_time": "2019-03-28T03:49:26.805353Z",
     "start_time": "2019-03-28T03:49:26.556702Z"
    },
    "slideshow": {
     "slide_type": "slide"
    }
   },
   "outputs": [],
   "source": [
    "lista_de_pi = [3, 1, 4, 1, 5]\n",
    "\n",
    "lista_de_pi.append(9) #error común\n",
    "\n",
    "print(lista_de_pi[0])\n"
   ]
  },
  {
   "cell_type": "markdown",
   "metadata": {
    "slideshow": {
     "slide_type": "slide"
    }
   },
   "source": [
    "## Programación funcional"
   ]
  },
  {
   "cell_type": "markdown",
   "metadata": {
    "slideshow": {
     "slide_type": "fragment"
    }
   },
   "source": [
    "La **programación funcional** es un paradigma de programación. ¿Qué era un paradigma de programación? ¿Conocen otro?"
   ]
  },
  {
   "cell_type": "markdown",
   "metadata": {
    "slideshow": {
     "slide_type": "fragment"
    }
   },
   "source": [
    "Es programación procedimental de **alto nivel**. La solución del problema se estructura como un conjunto de **funciones**, y el programa como la secuencia de aplicar y componer estas funciones. "
   ]
  },
  {
   "cell_type": "markdown",
   "metadata": {
    "slideshow": {
     "slide_type": "slide"
    }
   },
   "source": [
    "Estas funciones reciben **entradas** y generan **salidas** y cumplen con algunas **condiciones especiales**:"
   ]
  },
  {
   "cell_type": "markdown",
   "metadata": {
    "slideshow": {
     "slide_type": "fragment"
    }
   },
   "source": [
    "- Las funciones no tienen **estado**, su *output* depende exclusivamente de los datos de entrada, y no de variables o parametros externos. Es **idempotente**."
   ]
  },
  {
   "cell_type": "code",
   "execution_count": null,
   "metadata": {
    "ExecuteTime": {
     "end_time": "2019-03-28T03:49:26.810396Z",
     "start_time": "2019-03-28T03:49:26.412Z"
    },
    "slideshow": {
     "slide_type": "slide"
    }
   },
   "outputs": [],
   "source": [
    "def funcion_que_altera_estado(lista_de_entrada):\n",
    "    print(\"¡Llamada a función!\")\n",
    "    print()\n",
    "    global numero_de_llamadas\n",
    "    numero_de_llamadas += 1 # ❌❌❌\n",
    "    \n",
    "    for indice in range(len(lista_de_entrada)):\n",
    "        elemento = lista_de_entrada[indice]\n",
    "        lista_de_entrada[indice] = elemento * 10 # ❌❌❌\n",
    "    \n",
    "    return lista_de_entrada"
   ]
  },
  {
   "cell_type": "code",
   "execution_count": null,
   "metadata": {
    "ExecuteTime": {
     "end_time": "2019-03-28T03:49:26.812367Z",
     "start_time": "2019-03-28T03:49:26.422Z"
    },
    "slideshow": {
     "slide_type": "slide"
    }
   },
   "outputs": [],
   "source": [
    "numero_de_llamadas = 0\n",
    "entrada = [3, 1, 4, 1, 5]\n",
    "\n",
    "print(\"Estado de programa:\")\n",
    "print(f\"numero_de_llamadas = {numero_de_llamadas}\")\n",
    "print(f\"entrada = {entrada}\")\n",
    "print()\n",
    "\n",
    "resultado = funcion_que_altera_estado(entrada)\n",
    "\n",
    "print(\"Estado de programa:\")\n",
    "print(f\"numero_de_llamadas = {numero_de_llamadas}\")\n",
    "print(f\"entrada = {entrada}\")\n",
    "print(\"❌❌❌\")"
   ]
  },
  {
   "cell_type": "markdown",
   "metadata": {
    "slideshow": {
     "slide_type": "slide"
    }
   },
   "source": [
    "Estas funciones reciben **entradas** y generan **salidas** y cumplen con algunas **condiciones especiales**:\n",
    "- Las funciones no alteran nada del resto del programa. Son libres de efectos secundarios."
   ]
  },
  {
   "cell_type": "code",
   "execution_count": null,
   "metadata": {
    "ExecuteTime": {
     "end_time": "2019-03-28T03:49:26.814499Z",
     "start_time": "2019-03-28T03:49:26.445Z"
    },
    "slideshow": {
     "slide_type": "slide"
    }
   },
   "outputs": [],
   "source": [
    "def funcion_que_no_altera_estado(lista_de_entrada):\n",
    "    print(\"¡Llamada a función!\")\n",
    "    print()\n",
    "    \n",
    "    salida = [] # ✅✅✅\n",
    "    for elemento in lista_de_entrada:\n",
    "        salida.append(elemento * 10) # ✅✅✅\n",
    "        \n",
    "    return salida"
   ]
  },
  {
   "cell_type": "code",
   "execution_count": null,
   "metadata": {
    "ExecuteTime": {
     "end_time": "2019-03-28T03:49:26.816395Z",
     "start_time": "2019-03-28T03:49:26.462Z"
    },
    "slideshow": {
     "slide_type": "slide"
    }
   },
   "outputs": [],
   "source": [
    "numero_de_llamadas = 0\n",
    "entrada = [3, 1, 4, 1, 5]\n",
    "\n",
    "print(\"Estado de programa:\")\n",
    "print(f\"numero_de_llamadas = {numero_de_llamadas}\")\n",
    "print(f\"entrada = {entrada}\")\n",
    "print()\n",
    "\n",
    "funcion_que_no_altera_estado(entrada)\n",
    "\n",
    "print(\"Estado de programa:\")\n",
    "print(f\"numero_de_llamadas = {numero_de_llamadas}\")\n",
    "print(f\"entrada = {entrada}\")\n",
    "print(\"✅✅✅\")"
   ]
  },
  {
   "cell_type": "markdown",
   "metadata": {
    "slideshow": {
     "slide_type": "slide"
    }
   },
   "source": [
    "### ¿Para qué estas condiciones?"
   ]
  },
  {
   "cell_type": "markdown",
   "metadata": {
    "slideshow": {
     "slide_type": "fragment"
    }
   },
   "source": [
    "El que las funciones no tengan efectos secundarios sobre el resto del programa, hace que sea mucho más **fácil predecir y entender** el comportamiento de un programa."
   ]
  },
  {
   "cell_type": "markdown",
   "metadata": {
    "slideshow": {
     "slide_type": "slide"
    }
   },
   "source": [
    "Python es un lenguaje multiparadigma: **procedimental**, **orientada a objetos** o **funcional**. \n",
    "\n",
    "Por la misma razón, escribir programas **puramente** funcionales en Python es complicado.\n",
    "\n",
    "Hoy aprenderemos sobre los *built-ins* de Python que nos permiten escribir porciones de código funcional que nos permitirá **mejorar** nuestro código. ✨✨✨"
   ]
  },
  {
   "cell_type": "markdown",
   "metadata": {
    "slideshow": {
     "slide_type": "slide"
    }
   },
   "source": [
    "## `map`, `filter` y `reduce`"
   ]
  },
  {
   "cell_type": "markdown",
   "metadata": {
    "slideshow": {
     "slide_type": "fragment"
    }
   },
   "source": [
    "Son las funciones **famosas** de programación funcional. Las tres cumplen las condiciones del paradigma: aplican funciones sobre datos **sin alterar los originales**."
   ]
  },
  {
   "cell_type": "markdown",
   "metadata": {
    "slideshow": {
     "slide_type": "slide"
    }
   },
   "source": [
    "Si tengo una colección de datos y quiero obtener el resultado de aplicar una misma función sobre todos. **¿Cómo lo hago?**"
   ]
  },
  {
   "cell_type": "code",
   "execution_count": null,
   "metadata": {
    "ExecuteTime": {
     "end_time": "2019-03-28T03:49:26.822100Z",
     "start_time": "2019-03-28T03:49:26.633Z"
    },
    "slideshow": {
     "slide_type": "slide"
    }
   },
   "outputs": [],
   "source": [
    "nombres = [\"FERNANDO\", \"Cristian\", \"VICENTE\", \"Antonio\"]\n",
    "\n",
    "nombres_en_mayuscula = []\n",
    "for nombre in nombres:\n",
    "    nombres_en_mayuscula.append(nombre.upper())\n",
    "\n",
    "print(nombres_en_mayuscula)"
   ]
  },
  {
   "cell_type": "code",
   "execution_count": null,
   "metadata": {
    "ExecuteTime": {
     "end_time": "2019-03-28T03:49:26.823782Z",
     "start_time": "2019-03-28T03:49:26.644Z"
    },
    "slideshow": {
     "slide_type": "fragment"
    }
   },
   "outputs": [],
   "source": [
    "numeros = [3, 1, 4, 1, 5]\n",
    "\n",
    "cuadrados = []\n",
    "for numero in numeros:\n",
    "    cuadrados.append(numero ** 2)\n",
    "\n",
    "print(cuadrados)"
   ]
  },
  {
   "cell_type": "markdown",
   "metadata": {
    "slideshow": {
     "slide_type": "slide"
    }
   },
   "source": [
    "## `map`"
   ]
  },
  {
   "cell_type": "markdown",
   "metadata": {
    "slideshow": {
     "slide_type": "fragment"
    }
   },
   "source": [
    "La función `map` permite aplicar una función sobre todos los elementos de una lista (y también sobre otras cosas) y nos permite trabajar con el resultado."
   ]
  },
  {
   "cell_type": "code",
   "execution_count": null,
   "metadata": {
    "ExecuteTime": {
     "end_time": "2019-03-28T03:49:26.825817Z",
     "start_time": "2019-03-28T03:49:26.691Z"
    },
    "slideshow": {
     "slide_type": "slide"
    }
   },
   "outputs": [],
   "source": [
    "def mayus(nombre):\n",
    "    return nombre.upper()\n",
    "\n",
    "nombres = [\"FERNANDO\", \"Cristian\", \"VICENTE\", \"Antonio\"]\n",
    "\n",
    "mapeo = map(mayus, nombres) # ¿Qué retorna? Lo veremos después\n",
    "\n",
    "resultado = list(mapeo)\n",
    "print(f\"Resultado: {resultado}\")\n",
    "print(f\"Nombres originales: {nombres}\")"
   ]
  },
  {
   "cell_type": "code",
   "execution_count": null,
   "metadata": {
    "ExecuteTime": {
     "end_time": "2019-03-28T03:49:26.827227Z",
     "start_time": "2019-03-28T03:49:26.699Z"
    },
    "slideshow": {
     "slide_type": "slide"
    }
   },
   "outputs": [],
   "source": [
    "def al_cuadrado(numero):\n",
    "    return numero ** 2\n",
    "\n",
    "numeros = [3, 1, 4, 1, 5]\n",
    "\n",
    "mapeo = map(al_cuadrado, numeros) # ¿Qué retorna? Lo veremos después\n",
    "\n",
    "resultado = list(mapeo)\n",
    "print(f\"Resultado: {resultado}\")\n",
    "print(f\"Nombres originales: {numeros}\")"
   ]
  },
  {
   "cell_type": "markdown",
   "metadata": {
    "slideshow": {
     "slide_type": "slide"
    }
   },
   "source": [
    "Si tengo una colección de datos y quiero obtener solo aquellos elementos que cumplan cierta condición. **¿Cómo lo hago?**"
   ]
  },
  {
   "cell_type": "code",
   "execution_count": null,
   "metadata": {
    "ExecuteTime": {
     "end_time": "2019-03-28T03:49:26.828690Z",
     "start_time": "2019-03-28T03:49:26.715Z"
    },
    "slideshow": {
     "slide_type": "fragment"
    }
   },
   "outputs": [],
   "source": [
    "numeros = [3, 1, 4, 1, 5, 9, 2, 6, 5, 3, 5, 9]\n",
    "\n",
    "filtrado = []\n",
    "for numero in numeros:\n",
    "    if numero >= 5:\n",
    "        filtrado.append(numero)\n",
    "\n",
    "print(filtrado)"
   ]
  },
  {
   "cell_type": "markdown",
   "metadata": {
    "slideshow": {
     "slide_type": "slide"
    }
   },
   "source": [
    "## `filter`"
   ]
  },
  {
   "cell_type": "markdown",
   "metadata": {
    "slideshow": {
     "slide_type": "fragment"
    }
   },
   "source": [
    "La función `filter` permite evaluar una condición sobre elementos de una lista (y también sobre otras cosas) y nos permite trabajar con el resultado de aquellos elementos que **cumplen** la condición."
   ]
  },
  {
   "cell_type": "code",
   "execution_count": null,
   "metadata": {
    "ExecuteTime": {
     "end_time": "2019-03-28T03:49:26.830148Z",
     "start_time": "2019-03-28T03:49:26.741Z"
    },
    "slideshow": {
     "slide_type": "slide"
    }
   },
   "outputs": [],
   "source": [
    "def mayor_a_cuatro(numero):\n",
    "    return numero >= 5\n",
    "\n",
    "numeros = [3, 1, 4, 1, 5, 9, 2, 6, 5, 3, 5, 9]\n",
    "\n",
    "filtrado = filter(mayor_a_cuatro, numeros) # ¿Qué retorna? Lo veremos después\n",
    "\n",
    "resultado = list(filtrado)\n",
    "print(f\"Resultado: {resultado}\")\n",
    "print(f\"Nombres originales: {numeros}\")"
   ]
  },
  {
   "cell_type": "markdown",
   "metadata": {
    "slideshow": {
     "slide_type": "slide"
    }
   },
   "source": [
    "Si tengo una colección de datos y quiero la acumulación de cierta función sobre mi colección. **¿Cómo lo hago?**"
   ]
  },
  {
   "cell_type": "code",
   "execution_count": null,
   "metadata": {
    "ExecuteTime": {
     "end_time": "2019-03-28T03:49:26.832148Z",
     "start_time": "2019-03-28T03:49:26.760Z"
    },
    "slideshow": {
     "slide_type": "fragment"
    }
   },
   "outputs": [],
   "source": [
    "numeros = [3, 1, 4, 1, 5, 9, 2, 6, 5, 3, 5, 9]\n",
    "\n",
    "suma_de_cuadrados = 0\n",
    "for numero in numeros:\n",
    "    suma_de_cuadrados += numero ** 2\n",
    "\n",
    "print(suma_de_cuadrados)"
   ]
  },
  {
   "cell_type": "markdown",
   "metadata": {
    "slideshow": {
     "slide_type": "slide"
    }
   },
   "source": [
    "## `reduce`"
   ]
  },
  {
   "cell_type": "markdown",
   "metadata": {
    "slideshow": {
     "slide_type": "fragment"
    }
   },
   "source": [
    "La función `reduce` de la librería `functools` permite generar un resultado acumulado a partir de aplicar una función sobre elementos de una lista (y también sobre otras cosas)."
   ]
  },
  {
   "cell_type": "code",
   "execution_count": null,
   "metadata": {
    "ExecuteTime": {
     "end_time": "2019-03-28T03:49:26.837409Z",
     "start_time": "2019-03-28T03:49:26.787Z"
    },
    "slideshow": {
     "slide_type": "slide"
    }
   },
   "outputs": [],
   "source": [
    "from functools import reduce\n",
    "\n",
    "def suma_cuadrado(acumulado, elemento):\n",
    "    return acumulado + (elemento ** 2)\n",
    "\n",
    "numeros = [3, 1, 4, 1, 5, 9, 2, 6, 5, 3, 5, 9]\n",
    "\n",
    "resultado = reduce(suma_cuadrado, numeros, 0) # ¿Tercer argumento?\n",
    "\n",
    "print(f\"Resultado: {resultado}\")\n",
    "print(f\"Nombres originales: {numeros}\")"
   ]
  },
  {
   "cell_type": "markdown",
   "metadata": {
    "slideshow": {
     "slide_type": "slide"
    }
   },
   "source": [
    "## Funciones `lambda` "
   ]
  },
  {
   "cell_type": "markdown",
   "metadata": {
    "slideshow": {
     "slide_type": "fragment"
    }
   },
   "source": [
    "Las `funciones lambda` son una forma **alternativa** de definir funciones en Python."
   ]
  },
  {
   "cell_type": "code",
   "execution_count": null,
   "metadata": {
    "ExecuteTime": {
     "end_time": "2019-03-28T03:49:26.947763Z",
     "start_time": "2019-03-28T03:49:26.941425Z"
    },
    "slideshow": {
     "slide_type": "fragment"
    }
   },
   "outputs": [],
   "source": [
    "def sucesor(x):\n",
    "    return x + 1\n",
    "\n",
    "sucesor_lambda = lambda x: x + 1\n",
    "\n",
    "print(sucesor(1))\n",
    "print(sucesor_lambda(1))"
   ]
  },
  {
   "cell_type": "markdown",
   "metadata": {
    "slideshow": {
     "slide_type": "slide"
    }
   },
   "source": [
    "¿Diferencias?\n",
    "- No hay que escribir la sentencia `return`, se retorna el valor derecho de la expesión `lambda`.\n",
    "- Son funciones sin nombre para Python, de modo que no pueden ser referenciadas si no se guarda en una variable."
   ]
  },
  {
   "cell_type": "code",
   "execution_count": null,
   "metadata": {
    "ExecuteTime": {
     "end_time": "2019-03-28T03:49:26.998447Z",
     "start_time": "2019-03-28T03:49:26.950479Z"
    },
    "slideshow": {
     "slide_type": "slide"
    }
   },
   "outputs": [],
   "source": [
    "def resta(x, y):\n",
    "    return x - y\n",
    "\n",
    "resta_lambda = lambda x, y: x - y\n",
    "\n",
    "print(resta.__name__)\n",
    "print(resta_lambda.__name__)"
   ]
  },
  {
   "cell_type": "markdown",
   "metadata": {
    "slideshow": {
     "slide_type": "slide"
    }
   },
   "source": [
    "### ¿Y para qué me sirven?\n",
    "¡Son buenas para combinar con `map`, `filter` y `reduce`!"
   ]
  },
  {
   "cell_type": "code",
   "execution_count": null,
   "metadata": {
    "ExecuteTime": {
     "end_time": "2019-03-28T03:49:27.037991Z",
     "start_time": "2019-03-28T03:49:27.008475Z"
    },
    "slideshow": {
     "slide_type": "slide"
    }
   },
   "outputs": [],
   "source": [
    "nombres = [\"FERNANDO\", \"Cristian\", \"VICENTE\", \"Antonio\"]\n",
    "\n",
    "nombres_en_mayuscula = []\n",
    "for nombre in nombres:\n",
    "    nombres_en_mayuscula.append(nombre.upper()) # tres líneas\n",
    "print(nombres_en_mayuscula)\n",
    "\n",
    "\n",
    "nombres_en_mayuscula = list(map(lambda nombre: nombre.upper(), nombres)) # una línea\n",
    "print(nombres_en_mayuscula)"
   ]
  },
  {
   "cell_type": "code",
   "execution_count": null,
   "metadata": {
    "ExecuteTime": {
     "end_time": "2019-03-28T03:49:27.075234Z",
     "start_time": "2019-03-28T03:49:27.043895Z"
    },
    "slideshow": {
     "slide_type": "slide"
    }
   },
   "outputs": [],
   "source": [
    "numeros = [3, 1, 4, 1, 5, 9, 2, 6, 5, 3, 5, 9]\n",
    "\n",
    "filtrado = []\n",
    "for numero in numeros:\n",
    "    if numero >= 5:\n",
    "        filtrado.append(numero) # cuatro líneas\n",
    "print(filtrado)\n",
    "\n",
    "\n",
    "filtrado = list(filter(lambda numero: numero >= 5, numeros)) # una línea\n",
    "print(filtrado)"
   ]
  },
  {
   "cell_type": "code",
   "execution_count": null,
   "metadata": {
    "ExecuteTime": {
     "end_time": "2019-03-28T03:49:27.129949Z",
     "start_time": "2019-03-28T03:49:27.078270Z"
    },
    "slideshow": {
     "slide_type": "slide"
    }
   },
   "outputs": [],
   "source": [
    "# Quiero tener la suma de los cuadrados de los dígitos de PI mayores o iguales a 5\n",
    "\n",
    "numeros = [3, 1, 4, 1, 5, 9, 2, 6, 5, 3, 5, 9]\n",
    "\n",
    "numeros_grandes = filter(lambda x: x >= 5, numeros)\n",
    "\n",
    "cuadrados_grandes = map(lambda x: x ** 2, numeros_grandes)\n",
    "\n",
    "suma = reduce(lambda x, y: x + y, cuadrados_grandes)\n",
    "\n",
    "print(suma)"
   ]
  },
  {
   "cell_type": "code",
   "execution_count": null,
   "metadata": {
    "ExecuteTime": {
     "end_time": "2019-03-28T03:49:27.137273Z",
     "start_time": "2019-03-28T03:49:26.860Z"
    },
    "slideshow": {
     "slide_type": "slide"
    }
   },
   "outputs": [],
   "source": [
    "from collections import namedtuple\n",
    "\n",
    "Alumno = namedtuple('Alumno', 'nombre esta_despierto hp')\n",
    "alumnos = [\n",
    "    Alumno('Elisa', True, 100),\n",
    "    Alumno('Juan', False, 20),\n",
    "    Alumno('Martín', False, 100),\n",
    "    Alumno('Francisco', True, 150)\n",
    "]\n",
    "\n",
    "alumnos_despiertos = filter(lambda alumno: alumno.esta_despierto, alumnos)\n",
    "\n",
    "hp_alumnos = map(lambda alumno: alumno.hp, alumnos_despiertos)\n",
    "\n",
    "hp_clase = reduce(lambda x, y: x + y, hp_alumnos)\n",
    "\n",
    "print(f\"El hp de la clase es: {hp_clase}\")"
   ]
  },
  {
   "cell_type": "markdown",
   "metadata": {
    "slideshow": {
     "slide_type": "slide"
    }
   },
   "source": [
    "## Estructuras por comprensión"
   ]
  },
  {
   "cell_type": "markdown",
   "metadata": {
    "slideshow": {
     "slide_type": "fragment"
    }
   },
   "source": [
    "*\"Colección de elementos que siguen un concepto\"*"
   ]
  },
  {
   "cell_type": "code",
   "execution_count": null,
   "metadata": {
    "ExecuteTime": {
     "end_time": "2019-03-28T03:49:27.142162Z",
     "start_time": "2019-03-28T03:49:26.880Z"
    },
    "slideshow": {
     "slide_type": "slide"
    }
   },
   "outputs": [],
   "source": [
    "lista = ['1', '4', '55', '65', '4', '15', '90']\n",
    "\n",
    "int_lista = []\n",
    "for c in lista:\n",
    "    int_lista.append(int(c)) # tres líneas\n",
    "    \n",
    "print(int_lista)"
   ]
  },
  {
   "cell_type": "code",
   "execution_count": null,
   "metadata": {
    "ExecuteTime": {
     "end_time": "2019-03-28T03:49:27.144974Z",
     "start_time": "2019-03-28T03:49:26.884Z"
    },
    "slideshow": {
     "slide_type": "fragment"
    }
   },
   "outputs": [],
   "source": [
    "int_lista = [int(c) for c in lista] # una línea\n",
    "print(int_lista)"
   ]
  },
  {
   "cell_type": "code",
   "execution_count": null,
   "metadata": {
    "ExecuteTime": {
     "end_time": "2019-03-28T03:49:27.147437Z",
     "start_time": "2019-03-28T03:49:26.892Z"
    },
    "slideshow": {
     "slide_type": "slide"
    }
   },
   "outputs": [],
   "source": [
    "int_lista_dos_dígitos = [int(c) for c in lista if len(c) > 1]\n",
    "print(int_lista_dos_dígitos)"
   ]
  },
  {
   "cell_type": "markdown",
   "metadata": {
    "slideshow": {
     "slide_type": "fragment"
    }
   },
   "source": [
    "¡También permiten condiciones! ¿A qué es equivalente lo anterior?"
   ]
  },
  {
   "cell_type": "code",
   "execution_count": null,
   "metadata": {
    "ExecuteTime": {
     "end_time": "2019-03-28T03:49:27.148983Z",
     "start_time": "2019-03-28T03:49:26.910Z"
    },
    "slideshow": {
     "slide_type": "fragment"
    }
   },
   "outputs": [],
   "source": [
    "filtrado_dos_digitos = filter(lambda c: len(c) > 1, lista)\n",
    "int_lista_dos_digitos = list(map(lambda c: int(c), filtrado_dos_digitos))\n",
    "print(int_lista_dos_digitos)"
   ]
  },
  {
   "cell_type": "code",
   "execution_count": null,
   "metadata": {
    "ExecuteTime": {
     "end_time": "2019-03-28T03:49:27.154692Z",
     "start_time": "2019-03-28T03:49:26.913Z"
    },
    "slideshow": {
     "slide_type": "slide"
    }
   },
   "outputs": [],
   "source": [
    "alumnos = [\n",
    "    Alumno('Elisa', True, 100),\n",
    "    Alumno('Juan', False, 20),\n",
    "    Alumno('Martín', False, 100),\n",
    "    Alumno('Francisco', True, 150)\n",
    "]\n",
    "\n",
    "alumnos_despiertos = [alumno.nombre for alumno in alumnos if alumno.esta_despierto]\n",
    "\n",
    "print(alumnos_despiertos)"
   ]
  },
  {
   "cell_type": "code",
   "execution_count": null,
   "metadata": {
    "ExecuteTime": {
     "end_time": "2019-03-28T03:49:27.156996Z",
     "start_time": "2019-03-28T03:49:26.917Z"
    },
    "slideshow": {
     "slide_type": "slide"
    }
   },
   "outputs": [],
   "source": [
    "diccionario_consciencia = {alumno.nombre : alumno.esta_despierto for alumno in alumnos}\n",
    "\n",
    "print(f\"¿Está Martín despierto? {diccionario_consciencia['Martín']}\")"
   ]
  },
  {
   "cell_type": "code",
   "execution_count": null,
   "metadata": {
    "ExecuteTime": {
     "end_time": "2019-03-28T03:49:27.158597Z",
     "start_time": "2019-03-28T03:49:26.925Z"
    },
    "slideshow": {
     "slide_type": "fragment"
    }
   },
   "outputs": [],
   "source": [
    "conjunto_de_hps = {alumno.hp for alumno in alumnos}\n",
    "\n",
    "print(conjunto_de_hps)"
   ]
  },
  {
   "cell_type": "markdown",
   "metadata": {
    "slideshow": {
     "slide_type": "slide"
    }
   },
   "source": [
    "# *Break*\n",
    "\n",
    "Antes de continuar tomémonos una pausa 😌"
   ]
  },
  {
   "cell_type": "markdown",
   "metadata": {
    "slideshow": {
     "slide_type": "slide"
    }
   },
   "source": [
    "## Funciones *built-in* de Python"
   ]
  },
  {
   "cell_type": "markdown",
   "metadata": {
    "slideshow": {
     "slide_type": "fragment"
    }
   },
   "source": [
    "Existen muchas funciones que ya vienen implementadas en Python, principalmente con el propósito de simplificar y abstraer cálculos que pueden aplicar a objetos de clases distintas (_duck typing_)."
   ]
  },
  {
   "cell_type": "markdown",
   "metadata": {
    "slideshow": {
     "slide_type": "slide"
    }
   },
   "source": [
    "## `len`"
   ]
  },
  {
   "cell_type": "markdown",
   "metadata": {
    "slideshow": {
     "slide_type": "fragment"
    }
   },
   "source": [
    "La función `len`  nos permite conocer el número de elementos que posee un contenedor (lista, diccionario, etc.). Al usar `len` sobre un objeto en particular (`objeto`), Python hace un llamado a `objeto.__len__()`. "
   ]
  },
  {
   "cell_type": "markdown",
   "metadata": {
    "slideshow": {
     "slide_type": "fragment"
    }
   },
   "source": [
    "¡Esto significa que podemos crear nuestras propias versiones de `len` a través de *overriding*!"
   ]
  },
  {
   "cell_type": "code",
   "execution_count": null,
   "metadata": {
    "ExecuteTime": {
     "end_time": "2019-03-28T03:49:27.160138Z",
     "start_time": "2019-03-28T03:49:26.987Z"
    },
    "slideshow": {
     "slide_type": "slide"
    }
   },
   "outputs": [],
   "source": [
    "class ListaEspecial(list):\n",
    "    \"\"\"Tipo especial de lista, donde len(lista)\n",
    "    retorna el largo sin considerar repetidos\"\"\"\n",
    "\n",
    "    def __len__(self):\n",
    "        # Creamos un set con los datos que creamos\n",
    "        set_ = set(self)\n",
    "        # Retornamos el largo del set, ya que no tiene duplicados\n",
    "        return len(set_)\n",
    "\n",
    "\n",
    "mi_lista = ListaEspecial([1, 2, 3, 4, 5, 6, 6, 7, 7, 7, 7, 2, 2, 3, 3, 1, 1])\n",
    "len(mi_lista)"
   ]
  },
  {
   "cell_type": "markdown",
   "metadata": {
    "slideshow": {
     "slide_type": "slide"
    }
   },
   "source": [
    "## `__getitem__`"
   ]
  },
  {
   "cell_type": "markdown",
   "metadata": {
    "slideshow": {
     "slide_type": "fragment"
    }
   },
   "source": [
    "La función `__getitem__` nos permite acceder a los elementos de un contenedor mediante algún tipo de índice, usando `objeto[valor]`. Además, al definir esta función, nuestro objeto podrá ser recorrido por un `for`."
   ]
  },
  {
   "cell_type": "markdown",
   "metadata": {
    "slideshow": {
     "slide_type": "fragment"
    }
   },
   "source": [
    "¡Esto significa que podemos crear nuestras propias versiones de `__getitem__` a través de *overriding*!"
   ]
  },
  {
   "cell_type": "code",
   "execution_count": null,
   "metadata": {
    "ExecuteTime": {
     "end_time": "2019-03-28T03:49:27.161438Z",
     "start_time": "2019-03-28T03:49:27.022Z"
    },
    "slideshow": {
     "slide_type": "slide"
    }
   },
   "outputs": [],
   "source": [
    "class Edificio:\n",
    "    def __init__(self, pisos):\n",
    "        self._oficinas = pisos\n",
    "\n",
    "    def __getitem__(self, piso):\n",
    "        return self._oficinas[piso]"
   ]
  },
  {
   "cell_type": "code",
   "execution_count": null,
   "metadata": {
    "ExecuteTime": {
     "end_time": "2019-03-28T03:49:27.162919Z",
     "start_time": "2019-03-28T03:49:27.027Z"
    },
    "slideshow": {
     "slide_type": "fragment"
    }
   },
   "outputs": [],
   "source": [
    "# Construimos un edificio con 4 pisos\n",
    "edificio = Edificio([\n",
    "    \"Recepcion\",\n",
    "    \"Oficina de profes del DCC\",\n",
    "    \"Oficina de Cristian Ruz\",\n",
    "    \"QuickDeli\",\n",
    "])\n",
    "\n",
    "for piso in edificio:\n",
    "    print(piso)"
   ]
  },
  {
   "cell_type": "markdown",
   "metadata": {
    "slideshow": {
     "slide_type": "slide"
    }
   },
   "source": [
    "## `reversed`"
   ]
  },
  {
   "cell_type": "markdown",
   "metadata": {
    "slideshow": {
     "slide_type": "fragment"
    }
   },
   "source": [
    "La función `reversed` nos permite tomar una secuencia cualquiera, copiarla e invertirla. Al usar `reversed` sobre un objeto en particular (`objeto`), Python hace un llamado a `objeto.__reversed__()`, que iterará `__len__` veces sobre el objeto usando `__getitem__` hacia atrás. "
   ]
  },
  {
   "cell_type": "markdown",
   "metadata": {
    "slideshow": {
     "slide_type": "fragment"
    }
   },
   "source": [
    "¡Esto significa que podemos crear nuestras propias versiones de `__reversed__` a través de *overriding*!"
   ]
  },
  {
   "cell_type": "code",
   "execution_count": null,
   "metadata": {
    "ExecuteTime": {
     "end_time": "2019-03-28T03:49:27.164458Z",
     "start_time": "2019-03-28T03:49:27.058Z"
    },
    "slideshow": {
     "slide_type": "slide"
    }
   },
   "outputs": [],
   "source": [
    "class ListaEspecial(list):\n",
    "    \"\"\"Tipo especial de lista, donde reversed(lista)\n",
    "    intercambia la primera mitad con la segunda mitad\"\"\"\n",
    "\n",
    "    def __reversed__(self):\n",
    "        # Buscamos la posicion del medio de la lista\n",
    "        mitad = len(self) // 2\n",
    "        # Intercambiamos el orden usando slicing\n",
    "        return self[mitad:] + self[:mitad]\n",
    "\n",
    "\n",
    "mi_lista = ListaEspecial([1, 2, 3, 4, 5, 6])\n",
    "reversed(mi_lista)"
   ]
  },
  {
   "cell_type": "markdown",
   "metadata": {
    "slideshow": {
     "slide_type": "slide"
    }
   },
   "source": [
    "## `enumerate`"
   ]
  },
  {
   "cell_type": "markdown",
   "metadata": {
    "slideshow": {
     "slide_type": "fragment"
    }
   },
   "source": [
    "La función `enumerate` crea una lista de tuplas, donde el primer elemento de cada tupla es el índice y el segundo es el elemento original."
   ]
  },
  {
   "cell_type": "code",
   "execution_count": null,
   "metadata": {
    "ExecuteTime": {
     "end_time": "2019-03-28T03:49:27.175440Z",
     "start_time": "2019-03-28T03:49:27.080Z"
    },
    "slideshow": {
     "slide_type": "slide"
    }
   },
   "outputs": [],
   "source": [
    "lista = [\"a\", \"b\", \"c\", \"d\"]"
   ]
  },
  {
   "cell_type": "code",
   "execution_count": null,
   "metadata": {
    "ExecuteTime": {
     "end_time": "2019-03-28T03:49:27.177155Z",
     "start_time": "2019-03-28T03:49:27.088Z"
    },
    "scrolled": true,
    "slideshow": {
     "slide_type": "fragment"
    }
   },
   "outputs": [],
   "source": [
    "for indice in range(len(lista)):\n",
    "    elemento = lista[indice]\n",
    "    print(f\"{indice}: {elemento}\")"
   ]
  },
  {
   "cell_type": "code",
   "execution_count": null,
   "metadata": {
    "ExecuteTime": {
     "end_time": "2019-03-28T03:49:27.178376Z",
     "start_time": "2019-03-28T03:49:27.094Z"
    },
    "slideshow": {
     "slide_type": "fragment"
    }
   },
   "outputs": [],
   "source": [
    "for indice, elemento in enumerate(lista):\n",
    "    print(f\"{indice}: {elemento}\")"
   ]
  },
  {
   "cell_type": "markdown",
   "metadata": {
    "slideshow": {
     "slide_type": "slide"
    }
   },
   "source": [
    "## `zip`"
   ]
  },
  {
   "cell_type": "markdown",
   "metadata": {
    "slideshow": {
     "slide_type": "fragment"
    }
   },
   "source": [
    "La función `zip` recibe una o más secuencias. Crea una lista de tuplas, donde el primer elemento de cada tupla es un elemento de la primera secuencia recibida. El segundo elemento de la tupla es el elemento en la misma posición de la segunda secuencia, y así sucesivamente."
   ]
  },
  {
   "cell_type": "code",
   "execution_count": null,
   "metadata": {
    "ExecuteTime": {
     "end_time": "2019-03-28T03:49:27.307998Z",
     "start_time": "2019-03-28T03:49:27.282050Z"
    },
    "slideshow": {
     "slide_type": "slide"
    }
   },
   "outputs": [],
   "source": [
    "campos = ('nombre', 'apellido', 'email')\n",
    "persona = ('Juan', 'Perez', 'jp1@hotmail.com')\n",
    "\n",
    "list(zip(campos, persona))"
   ]
  },
  {
   "cell_type": "code",
   "execution_count": null,
   "metadata": {
    "ExecuteTime": {
     "end_time": "2019-03-28T03:49:27.356840Z",
     "start_time": "2019-03-28T03:49:27.310736Z"
    },
    "slideshow": {
     "slide_type": "slide"
    }
   },
   "outputs": [],
   "source": [
    "campos = ('nombre', 'apellido', 'email')\n",
    "personas = [\n",
    "            ('Juan', 'Perez', 'jp1@hotmail.com'), \n",
    "            ('Gonzalo', 'Aldunate', 'gan@gmail.com'),\n",
    "            ('Alberto', 'Gomez', 'agomez@yahoo.com')\n",
    "           ]\n",
    "\n",
    "# Al usar el asterisco (*) para desempaquetar tenemos:\n",
    "# zip(campos, personas[0], personas[1], personas[2])\n",
    "list(zip(campos, *personas))"
   ]
  },
  {
   "cell_type": "code",
   "execution_count": null,
   "metadata": {
    "ExecuteTime": {
     "end_time": "2019-03-28T03:49:27.396280Z",
     "start_time": "2019-03-28T03:49:27.362003Z"
    },
    "slideshow": {
     "slide_type": "slide"
    }
   },
   "outputs": [],
   "source": [
    "lista = [\"a\", \"b\", \"c\", \"d\"]\n",
    "\n",
    "list(zip(range(len(lista)), lista))"
   ]
  },
  {
   "cell_type": "code",
   "execution_count": null,
   "metadata": {
    "ExecuteTime": {
     "end_time": "2019-03-28T03:49:27.441959Z",
     "start_time": "2019-03-28T03:49:27.398745Z"
    },
    "slideshow": {
     "slide_type": "fragment"
    }
   },
   "outputs": [],
   "source": [
    "lista = [\"a\", \"b\", \"c\", \"d\"]\n",
    "\n",
    "list(enumerate(lista))"
   ]
  },
  {
   "cell_type": "markdown",
   "metadata": {
    "slideshow": {
     "slide_type": "slide"
    }
   },
   "source": [
    "## Iterables"
   ]
  },
  {
   "cell_type": "markdown",
   "metadata": {
    "slideshow": {
     "slide_type": "fragment"
    }
   },
   "source": [
    "Utilizamos un iterable cuando queremos que una estructura pueda ser recorrida utilizando `for`. Un **iterable** es cualquier objeto sobre el cual se puede iterar. Por lo mismo, cualquier iterable podría aparecer al lado derecho de un _for loop_ (`for i in iterable:`).\n",
    "\n",
    "Un iterable implementa el método **`__iter__()`**, y podemos recorrerlo todas las veces que queramos."
   ]
  },
  {
   "cell_type": "markdown",
   "metadata": {
    "slideshow": {
     "slide_type": "slide"
    }
   },
   "source": [
    "**¡Ojo!** Tanto `map`, `filter`, `reduce`, `zip`, `enumerate`, `list`, `set`, etc...  reciben **iterables**,\n",
    "\n",
    "¡no solo listas!"
   ]
  },
  {
   "cell_type": "code",
   "execution_count": null,
   "metadata": {
    "ExecuteTime": {
     "end_time": "2019-03-28T03:49:27.479726Z",
     "start_time": "2019-03-28T03:49:27.444589Z"
    },
    "slideshow": {
     "slide_type": "slide"
    }
   },
   "outputs": [],
   "source": [
    "iterable = {1, 3, 5, 7}\n",
    "\n",
    "for elemento in iterable:\n",
    "    print(elemento)"
   ]
  },
  {
   "cell_type": "code",
   "execution_count": null,
   "metadata": {
    "ExecuteTime": {
     "end_time": "2019-03-28T03:49:27.525175Z",
     "start_time": "2019-03-28T03:49:27.482810Z"
    },
    "slideshow": {
     "slide_type": "fragment"
    }
   },
   "outputs": [],
   "source": [
    "iterable = [1, 2, 3, 4]\n",
    "\n",
    "for elemento in iterable:\n",
    "    print(elemento)"
   ]
  },
  {
   "cell_type": "markdown",
   "metadata": {
    "slideshow": {
     "slide_type": "slide"
    }
   },
   "source": [
    "## Iterador"
   ]
  },
  {
   "cell_type": "markdown",
   "metadata": {
    "slideshow": {
     "slide_type": "fragment"
    }
   },
   "source": [
    "Un **iterador** es un objeto que itera sobre un iterable, y es el objeto retornado por el método `__iter__()`. El objeto iterador implementa el método `__next__()`, que nos retorna uno a uno los elementos de la estructura cada vez que se invoca a esta función. \n",
    "\n",
    "Además, si no quedan objetos por recorrer el iterador **debe** levantar una excepción de tipo `StopIteration`. "
   ]
  },
  {
   "cell_type": "code",
   "execution_count": null,
   "metadata": {
    "ExecuteTime": {
     "end_time": "2019-03-28T03:49:27.561384Z",
     "start_time": "2019-03-28T03:49:27.530309Z"
    },
    "slideshow": {
     "slide_type": "slide"
    }
   },
   "outputs": [],
   "source": [
    "iterable = {1, 3, 5, 7}\n",
    "iterador = iter(iterable)\n",
    "\n",
    "print(next(iterador))\n",
    "print(next(iterador))\n",
    "print(next(iterador))"
   ]
  },
  {
   "cell_type": "code",
   "execution_count": null,
   "metadata": {
    "ExecuteTime": {
     "end_time": "2019-03-28T03:49:27.599960Z",
     "start_time": "2019-03-28T03:49:27.564434Z"
    },
    "scrolled": false,
    "slideshow": {
     "slide_type": "fragment"
    }
   },
   "outputs": [],
   "source": [
    "print(next(iterador))\n",
    "print(next(iterador))"
   ]
  },
  {
   "cell_type": "markdown",
   "metadata": {
    "slideshow": {
     "slide_type": "slide"
    }
   },
   "source": [
    "**Iterable**\n",
    "* Cualquier objeto sobre el cual se puede iterar\n",
    "* Aparece al lado derecho de un `for`\n",
    "* Implementa el método `__iter__()` o `__getitem__()`"
   ]
  },
  {
   "cell_type": "markdown",
   "metadata": {
    "slideshow": {
     "slide_type": "slide"
    }
   },
   "source": [
    "**Iterador**\n",
    "* Es un objeto que recuerda en qué punto va de la iteración\n",
    "* Es el objeto retornado por el método `iter()`\n",
    "* Implementa el método `__next__()`, que retorna el próximo elemento de iteración"
   ]
  },
  {
   "cell_type": "markdown",
   "metadata": {
    "slideshow": {
     "slide_type": "slide"
    }
   },
   "source": [
    "Por lo tanto, **un iterador también es un iterable** 😱."
   ]
  },
  {
   "cell_type": "markdown",
   "metadata": {
    "slideshow": {
     "slide_type": "fragment"
    }
   },
   "source": [
    "Porque tiene un método `__iter__`."
   ]
  },
  {
   "cell_type": "code",
   "execution_count": null,
   "metadata": {
    "ExecuteTime": {
     "end_time": "2019-03-28T03:49:27.614540Z",
     "start_time": "2019-03-28T03:49:27.253Z"
    },
    "slideshow": {
     "slide_type": "slide"
    }
   },
   "outputs": [],
   "source": [
    "class IteradorInverso:\n",
    "    \"\"\"Este iterador recorre una secuencia en el\n",
    "    sentido opuesto, de atras hacia adelante\"\"\"\n",
    "    \n",
    "    def __init__(self, contenido):\n",
    "        self.contenido = contenido\n",
    "        # Recuerda en que punto va de la iteracion\n",
    "        self.indice = len(contenido)\n",
    "        \n",
    "    def __iter__(self):\n",
    "        # Este iterador es un iterable\n",
    "        return self\n",
    "    \n",
    "    def __next__(self):\n",
    "        # Implementa __next__\n",
    "        if self.indice == 0:\n",
    "            raise StopIteration\n",
    "        self.indice -= 1\n",
    "        return self.contenido[self.indice]"
   ]
  },
  {
   "cell_type": "code",
   "execution_count": null,
   "metadata": {
    "ExecuteTime": {
     "end_time": "2019-03-28T03:49:27.616915Z",
     "start_time": "2019-03-28T03:49:27.259Z"
    },
    "slideshow": {
     "slide_type": "slide"
    }
   },
   "outputs": [],
   "source": [
    "iterador = IteradorInverso(\"¡Ejemplo!\")\n",
    "for elemento in iterador:\n",
    "    print(elemento)"
   ]
  },
  {
   "cell_type": "markdown",
   "metadata": {
    "slideshow": {
     "slide_type": "slide"
    }
   },
   "source": [
    "## Generadores"
   ]
  },
  {
   "cell_type": "markdown",
   "metadata": {
    "slideshow": {
     "slide_type": "fragment"
    }
   },
   "source": [
    "Los **generadores** son un caso especial de los **iteradores**. Los generadores nos permiten iterar sobre secuencias de datos sin la necesidad de almacenarlos en alguna estructura especial sino que calculandolos cuando se necesitan, evitando el uso innecesario de memoria.\n",
    "\n",
    "Una vez que terminamos de iterar sobre un generador, el generador desaparece. Esto es muy útil cuando queremos realizar cálculos sobre secuencias que sólo nos sirven para un cálculo en particular."
   ]
  },
  {
   "cell_type": "markdown",
   "metadata": {
    "slideshow": {
     "slide_type": "slide"
    }
   },
   "source": [
    "Por ejemplo, así se ve un generador para los números pares del 0 al 18."
   ]
  },
  {
   "cell_type": "code",
   "execution_count": null,
   "metadata": {
    "ExecuteTime": {
     "end_time": "2019-03-28T03:49:27.619831Z",
     "start_time": "2019-03-28T03:49:27.291Z"
    },
    "slideshow": {
     "slide_type": "fragment"
    }
   },
   "outputs": [],
   "source": [
    "# Por el solo hecho de usar paréntesis estamos creando un generador\n",
    "generador_de_pares = (2 * i for i in range(10)) "
   ]
  },
  {
   "cell_type": "code",
   "execution_count": null,
   "metadata": {
    "ExecuteTime": {
     "end_time": "2019-03-28T03:49:27.622872Z",
     "start_time": "2019-03-28T03:49:27.294Z"
    },
    "slideshow": {
     "slide_type": "fragment"
    }
   },
   "outputs": [],
   "source": [
    "type(generador_de_pares)"
   ]
  },
  {
   "cell_type": "markdown",
   "metadata": {
    "slideshow": {
     "slide_type": "slide"
    }
   },
   "source": [
    "La gracia de los generadores, es que los valores a generar solo se calculan cuando los iteramos..."
   ]
  },
  {
   "cell_type": "code",
   "execution_count": null,
   "metadata": {
    "ExecuteTime": {
     "end_time": "2019-03-28T03:49:27.628565Z",
     "start_time": "2019-03-28T03:49:27.312Z"
    },
    "slideshow": {
     "slide_type": "fragment"
    }
   },
   "outputs": [],
   "source": [
    "# Ocupamos un print solo para saber cuando se ejecuta ese código\n",
    "mi_generador = (print(i) for i in range(3))"
   ]
  },
  {
   "cell_type": "markdown",
   "metadata": {
    "ExecuteTime": {
     "end_time": "2019-03-27T14:38:43.849985Z",
     "start_time": "2019-03-27T14:38:43.842276Z"
    },
    "slideshow": {
     "slide_type": "fragment"
    }
   },
   "source": [
    "✅ No se imprimió nada, por lo que los valores aún no se calculan."
   ]
  },
  {
   "cell_type": "code",
   "execution_count": null,
   "metadata": {
    "ExecuteTime": {
     "end_time": "2019-03-28T03:49:27.629941Z",
     "start_time": "2019-03-28T03:49:27.328Z"
    },
    "slideshow": {
     "slide_type": "fragment"
    }
   },
   "outputs": [],
   "source": [
    "resultado = list(mi_generador)\n",
    "print(resultado)"
   ]
  },
  {
   "cell_type": "markdown",
   "metadata": {
    "slideshow": {
     "slide_type": "slide"
    }
   },
   "source": [
    "... a diferencia de las listas por compresión, donde los valores se calculan de inmediato y empiezan a ocupar espacio en la memoria desde su declaración."
   ]
  },
  {
   "cell_type": "code",
   "execution_count": null,
   "metadata": {
    "ExecuteTime": {
     "end_time": "2019-03-28T03:49:27.631338Z",
     "start_time": "2019-03-28T03:49:27.337Z"
    },
    "slideshow": {
     "slide_type": "fragment"
    }
   },
   "outputs": [],
   "source": [
    "# Ocupamos un print solo para saber cuando se ejecuta ese código\n",
    "mi_lista = [print(i) for i in range(3)]"
   ]
  },
  {
   "cell_type": "markdown",
   "metadata": {
    "slideshow": {
     "slide_type": "fragment"
    }
   },
   "source": [
    "❌ Los valores ya se imprimieron, por lo que un valor generado ya estaría ocupando espacio en memoria"
   ]
  },
  {
   "cell_type": "code",
   "execution_count": null,
   "metadata": {
    "ExecuteTime": {
     "end_time": "2019-03-28T03:49:27.642073Z",
     "start_time": "2019-03-28T03:49:27.347Z"
    },
    "slideshow": {
     "slide_type": "fragment"
    }
   },
   "outputs": [],
   "source": [
    "mi_lista"
   ]
  },
  {
   "cell_type": "markdown",
   "metadata": {
    "slideshow": {
     "slide_type": "slide"
    }
   },
   "source": [
    "Los generadores son un caso especial de los iteradores y, como vimos anteriormente, también son iterables, por lo que podemos ocuparlos en el lado derecho de un `for`."
   ]
  },
  {
   "cell_type": "code",
   "execution_count": null,
   "metadata": {
    "ExecuteTime": {
     "end_time": "2019-03-28T03:49:27.644764Z",
     "start_time": "2019-03-28T03:49:27.359Z"
    },
    "slideshow": {
     "slide_type": "fragment"
    }
   },
   "outputs": [],
   "source": [
    "# Volviendo al generador de pares que usamos al inicio\n",
    "for par in generador_de_pares:\n",
    "    print(par)"
   ]
  },
  {
   "cell_type": "markdown",
   "metadata": {
    "slideshow": {
     "slide_type": "slide"
    }
   },
   "source": [
    "¿Qué pasaría si intentara ocupar un generador nuevamente?"
   ]
  },
  {
   "cell_type": "code",
   "execution_count": null,
   "metadata": {
    "ExecuteTime": {
     "end_time": "2019-03-28T03:49:27.646117Z",
     "start_time": "2019-03-28T03:49:27.371Z"
    },
    "slideshow": {
     "slide_type": "fragment"
    }
   },
   "outputs": [],
   "source": [
    "for par in generador_de_pares:\n",
    "    print(par)"
   ]
  },
  {
   "cell_type": "markdown",
   "metadata": {
    "slideshow": {
     "slide_type": "fragment"
    }
   },
   "source": [
    "❌ Al ser iteradores, no podemos ocupar un generador nuevamente, tendríamos que crear uno nuevo."
   ]
  },
  {
   "cell_type": "markdown",
   "metadata": {
    "slideshow": {
     "slide_type": "slide"
    }
   },
   "source": [
    "**¡Ojo!** Tanto `map` como `filter` retornar un **generador**. Por esto convertíamos el resultado a `list`, para ocupar el generador y **\"forzar\"** el cálculo de los valores generados."
   ]
  },
  {
   "cell_type": "markdown",
   "metadata": {
    "slideshow": {
     "slide_type": "slide"
    }
   },
   "source": [
    "Comprobemos cuánta memoria ocupa nuestro generador en comparación con una lista que contenga los resultados. Para esto, ocuparemos la función [`getsizeof`](https://docs.python.org/3/library/sys.html#sys.getsizeof)."
   ]
  },
  {
   "cell_type": "code",
   "execution_count": null,
   "metadata": {
    "ExecuteTime": {
     "end_time": "2019-03-28T03:49:27.647570Z",
     "start_time": "2019-03-28T03:49:27.422Z"
    },
    "slideshow": {
     "slide_type": "fragment"
    }
   },
   "outputs": [],
   "source": [
    "from sys import getsizeof"
   ]
  },
  {
   "cell_type": "code",
   "execution_count": null,
   "metadata": {
    "ExecuteTime": {
     "end_time": "2019-03-28T03:49:27.649506Z",
     "start_time": "2019-03-28T03:49:27.429Z"
    },
    "slideshow": {
     "slide_type": "fragment"
    }
   },
   "outputs": [],
   "source": [
    "generador_pares = (2 * i for i in range(10))\n",
    "lista_pares = [2 * i for i in range(10)]\n",
    "\n",
    "print(\"Bytes del generador:\", getsizeof(generador_pares))\n",
    "print(\"Bytes de la lista:\", getsizeof(lista_pares))"
   ]
  },
  {
   "cell_type": "markdown",
   "metadata": {
    "slideshow": {
     "slide_type": "slide"
    }
   },
   "source": [
    "Esta diferencia es más grande si aumentamos la cantidad de resultados:"
   ]
  },
  {
   "cell_type": "code",
   "execution_count": null,
   "metadata": {
    "ExecuteTime": {
     "end_time": "2019-03-28T03:49:27.651192Z",
     "start_time": "2019-03-28T03:49:27.446Z"
    },
    "slideshow": {
     "slide_type": "fragment"
    }
   },
   "outputs": [],
   "source": [
    "generador_pares = (2 * i for i in range(10 ** 6))\n",
    "lista_pares = [2 * i for i in range(10 ** 6)]\n",
    "\n",
    "print(\"Bytes del generador:\", getsizeof(generador_pares))\n",
    "print(\"Bytes de la lista:\", getsizeof(lista_pares))"
   ]
  },
  {
   "cell_type": "markdown",
   "metadata": {
    "slideshow": {
     "slide_type": "slide"
    }
   },
   "source": [
    "## Funciones generadoras"
   ]
  },
  {
   "cell_type": "markdown",
   "metadata": {
    "slideshow": {
     "slide_type": "fragment"
    }
   },
   "source": [
    "Las funciones en Python también pueden actuar como generadores, con la sentencia `yield`. El _statement_ `yield` es un análogo al `return`, con ciertas diferencias. Por un lado, `yield` se encarga de retornar el valor indicado, pero también se asegura que en la próxima llamada a la función, la ejecución parta desde donde se dejó antes. \n",
    "\n",
    "En otras palabras, trabajamos con una función que una vez que entrega un valor a través de `yield`, está cediendo el control sólo en forma temporal, asumiendo que pronto será utilizada nuevamente para generar más valores."
   ]
  },
  {
   "cell_type": "code",
   "execution_count": null,
   "metadata": {
    "ExecuteTime": {
     "end_time": "2019-03-28T03:49:27.655926Z",
     "start_time": "2019-03-28T03:49:27.467Z"
    },
    "slideshow": {
     "slide_type": "slide"
    }
   },
   "outputs": [],
   "source": [
    "def conteo_decreciente(n):\n",
    "    print(f\"Contando en forma decreciente desde {n}\")\n",
    "    while n > 0:\n",
    "        yield n\n",
    "        n -= 1"
   ]
  },
  {
   "cell_type": "code",
   "execution_count": null,
   "metadata": {
    "ExecuteTime": {
     "end_time": "2019-03-28T03:49:27.657489Z",
     "start_time": "2019-03-28T03:49:27.474Z"
    },
    "slideshow": {
     "slide_type": "fragment"
    }
   },
   "outputs": [],
   "source": [
    "# Al llamar a la función generadora, no se ejecuta nada\n",
    "x = conteo_decreciente(5)\n",
    "type(x)"
   ]
  },
  {
   "cell_type": "markdown",
   "metadata": {
    "slideshow": {
     "slide_type": "slide"
    }
   },
   "source": [
    "Podemos usar el generador directamente en un `for`, ya que como vimos estos implementan `__iter__` devolviendo `self`."
   ]
  },
  {
   "cell_type": "code",
   "execution_count": null,
   "metadata": {
    "ExecuteTime": {
     "end_time": "2019-03-28T03:49:27.659968Z",
     "start_time": "2019-03-28T03:49:27.489Z"
    },
    "slideshow": {
     "slide_type": "fragment"
    }
   },
   "outputs": [],
   "source": [
    "for number in x:\n",
    "    print(number)"
   ]
  },
  {
   "cell_type": "markdown",
   "metadata": {
    "slideshow": {
     "slide_type": "fragment"
    }
   },
   "source": [
    "PD: También se puede usar `next`"
   ]
  },
  {
   "cell_type": "markdown",
   "metadata": {
    "slideshow": {
     "slide_type": "slide"
    }
   },
   "source": [
    "## Ejemplos aplicados"
   ]
  },
  {
   "cell_type": "code",
   "execution_count": null,
   "metadata": {
    "ExecuteTime": {
     "end_time": "2019-03-28T03:49:27.661702Z",
     "start_time": "2019-03-28T03:49:27.522Z"
    },
    "slideshow": {
     "slide_type": "slide"
    }
   },
   "outputs": [],
   "source": [
    "Cim = namedtuple('Cim', ['nombre', 'edad', 'acciones'])\n",
    "\n",
    "def cargar_cims(ruta_archivo):\n",
    "    \n",
    "    cims = {}\n",
    "\n",
    "    with open(ruta_archivo, encoding = 'utf-8') as archivo:\n",
    "        for linea in archivo:\n",
    "            id_cim, nombre, edad, acciones = linea.strip().split(',')\n",
    "            acciones = acciones.split(';')\n",
    "            cims[id_cim] = Cim(nombre, edad, acciones)\n",
    "    return cims\n",
    "                \n",
    "cims = cargar_cims('cims.txt')\n",
    "print(cims['0'])"
   ]
  },
  {
   "cell_type": "code",
   "execution_count": null,
   "metadata": {
    "ExecuteTime": {
     "end_time": "2019-03-28T03:49:27.663318Z",
     "start_time": "2019-03-28T03:49:27.530Z"
    },
    "slideshow": {
     "slide_type": "slide"
    }
   },
   "outputs": [],
   "source": [
    "def cargar_cims(ruta_archivo):\n",
    "\n",
    "    with open(ruta_archivo, encoding = 'utf-8') as archivo:\n",
    "        \n",
    "        lineas_separadas = map(lambda linea: linea.strip().split(','), archivo)\n",
    "\n",
    "        lista_cims = map(\n",
    "            lambda linea: (linea[0], Cim(linea[1], linea[2], linea[3].split(';'))),\n",
    "            lineas_separadas\n",
    "        )\n",
    "        \n",
    "        dict_cims = {tupla_cim[0] : tupla_cim[1] for tupla_cim in lista_cims}\n",
    "        \n",
    "        return dict_cims\n",
    "\n",
    "cims = cargar_cims('cims.txt')\n",
    "print(cims['0'])"
   ]
  },
  {
   "cell_type": "code",
   "execution_count": null,
   "metadata": {
    "slideshow": {
     "slide_type": "slide"
    }
   },
   "outputs": [],
   "source": [
    "def generador_de_lineas_de_archivo(ruta_archivo):\n",
    "    with open(ruta_archivo, encoding = 'utf-8') as archivo:\n",
    "        for linea in archivo:\n",
    "            yield linea\n",
    "        \n",
    "archivo_cims = generador_de_lineas_de_archivo('cims.txt')"
   ]
  },
  {
   "cell_type": "code",
   "execution_count": null,
   "metadata": {
    "slideshow": {
     "slide_type": "fragment"
    }
   },
   "outputs": [],
   "source": [
    "print(archivo_cims)"
   ]
  },
  {
   "cell_type": "code",
   "execution_count": null,
   "metadata": {
    "slideshow": {
     "slide_type": "fragment"
    }
   },
   "outputs": [],
   "source": [
    "print(next(archivo_cims)) # ejecutar varias veces"
   ]
  },
  {
   "cell_type": "code",
   "execution_count": null,
   "metadata": {
    "slideshow": {
     "slide_type": "slide"
    }
   },
   "outputs": [],
   "source": [
    "def busca_string(patron, lineas):\n",
    "    return (linea for linea in lineas if patron in linea)\n",
    "\n",
    "buscador_de_ayudantes = busca_string('ayudante de avanzada', archivo_cims)"
   ]
  },
  {
   "cell_type": "code",
   "execution_count": null,
   "metadata": {
    "slideshow": {
     "slide_type": "fragment"
    }
   },
   "outputs": [],
   "source": [
    "print(buscador_de_ayudantes)"
   ]
  },
  {
   "cell_type": "code",
   "execution_count": null,
   "metadata": {
    "slideshow": {
     "slide_type": "slide"
    }
   },
   "outputs": [],
   "source": [
    "print(next(buscador_de_ayudantes))"
   ]
  },
  {
   "cell_type": "code",
   "execution_count": null,
   "metadata": {
    "slideshow": {
     "slide_type": "fragment"
    }
   },
   "outputs": [],
   "source": [
    "next(archivo_cims)"
   ]
  },
  {
   "cell_type": "markdown",
   "metadata": {
    "slideshow": {
     "slide_type": "slide"
    }
   },
   "source": [
    "## ¡Gracias por su atención! \n",
    "\n",
    "Pueden encontrar material de estudio sobre este tema en el repositorio del curso: `syllabus`."
   ]
  },
  {
   "cell_type": "markdown",
   "metadata": {
    "slideshow": {
     "slide_type": "slide"
    }
   },
   "source": [
    "## Próxima semana\n",
    "\n",
    "- Es la segunda semana de la T01: entrega el domingo 20:00.\n",
    "- No se publicará material mañana, el jueves siguiente también habrá un taller + sala de ayuda.\n",
    "- El martes habrá ayudantía de **Programación Funcional** y aplicaciones."
   ]
  }
 ],
 "metadata": {
  "celltoolbar": "Slideshow",
  "kernelspec": {
   "display_name": "Python 3",
   "language": "python",
   "name": "python3"
  },
  "language_info": {
   "codemirror_mode": {
    "name": "ipython",
    "version": 3
   },
   "file_extension": ".py",
   "mimetype": "text/x-python",
   "name": "python",
   "nbconvert_exporter": "python",
   "pygments_lexer": "ipython3",
   "version": "3.6.6"
  },
  "varInspector": {
   "cols": {
    "lenName": 16,
    "lenType": 16,
    "lenVar": 40
   },
   "kernels_config": {
    "python": {
     "delete_cmd_postfix": "",
     "delete_cmd_prefix": "del ",
     "library": "var_list.py",
     "varRefreshCmd": "print(var_dic_list())"
    },
    "r": {
     "delete_cmd_postfix": ") ",
     "delete_cmd_prefix": "rm(",
     "library": "var_list.r",
     "varRefreshCmd": "cat(var_dic_list()) "
    }
   },
   "types_to_exclude": [
    "module",
    "function",
    "builtin_function_or_method",
    "instance",
    "_Feature"
   ],
   "window_display": false
  }
 },
 "nbformat": 4,
 "nbformat_minor": 2
}
