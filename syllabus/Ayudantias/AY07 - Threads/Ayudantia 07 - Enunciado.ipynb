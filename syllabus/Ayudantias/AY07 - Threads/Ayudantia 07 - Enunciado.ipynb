{
 "cells": [
  {
   "cell_type": "markdown",
   "metadata": {},
   "source": [
    "# Ayudantía 07 - Threading\n",
    "\n",
    "__Autores: Christian Eilers (@tatanpoker) y Dante Pinto (@drpinto1)__\n",
    "\n",
    "\n",
    "### Recuerda responder el [Feedback](https://forms.gle/vAz7o3Etsh427bKv5) :D"
   ]
  },
  {
   "cell_type": "markdown",
   "metadata": {},
   "source": [
    "# The little game that could\n",
    "\n",
    "### AC - Especial, 2019.1\n",
    "\n",
    "Luego de la masacrar a los alumnos de cierto curso el segundo semestre de 2018 con dos difíciles evaluaciones (Tarea y Actividad), el malvado Doctor Herny se propone repetir la situación este semestre, esta vez con una larga y confusa tarea.\n",
    "\n",
    "Afortunadamente, el Gran Polea se ha percatado de la situación y te ha pedido a ti como __ayudante del curso IIC2233__ que programes un pequeño juego y junto a el una presentación explicando tu razonamiento al realizarlo, con el objetivo de aclarar la materia y posibles dudas que puedan tener los alumnos de este misterioso curso sobre la materia de Threading.\n",
    "\n",
    "Puesto que, por una total coincidencia, los alumnos de programación avanzada están estudiando Threading esta semana, el Gran Polea consiguió dos salas (K202 y K204) para que los ayudantes puedan mostrar su presentación antes de exponerla ante los alumnos de este desconocido, y complicado ~~además de no relacionado con IIC2233~~ curso. "
   ]
  },
  {
   "cell_type": "markdown",
   "metadata": {},
   "source": [
    "# Introducción:\n",
    "\n",
    "Antes de explicar cómo programaste tu juego, debes responder la siguientes preguntas:\n",
    "\n",
    "* ¿Qué es un `Thread`?\n",
    "* ¿Para qué sirve usar `Threads`?"
   ]
  },
  {
   "cell_type": "markdown",
   "metadata": {},
   "source": [
    "## El Juego\n",
    "El juego a programar es bastante simple y consiste en un plano de dos dimensiones, donde las distintas entidades pueden moverse libremente e interactuar entre ellas.\n",
    "\n",
    "Toda interacción del usuario con el programa debe hacerse en consola (a través de prints e inputs), sin embargo el juego debe funcionar a tiempo real de acuerdo a las especificaciones de las secciones siguientes."
   ]
  },
  {
   "cell_type": "markdown",
   "metadata": {},
   "source": [
    "## Entidades\n",
    "El juego debe soportar dos tipos de entidades:\n",
    "* __Los Enemigos:__ Los enemigos son entidades que se mueven aleatoriamente, cada un segundo, dentro del mundo del juego, imprimiendo su posición actual cada vez que se mueven.\n",
    "* __El Jugador:__ El jugador es una entidad controlada por el usuario y debe ser capaz de moverse, solamente en diagonal, la cantidad de casillas que el usuario decida (a través de la sentencia input())\n",
    "\n",
    "Es claro que, como cualquier juego moderno, los enemigos y los jugadores deben ser capaces de moverse al mismo tiempo y de manera independiente entre ellos."
   ]
  },
  {
   "cell_type": "markdown",
   "metadata": {},
   "source": [
    "## Funcionalidades\n",
    "Además de las entidades mencionadas, debes ser capaz de implementar, de forma independiente una de otra, las siguientes funcionalidades:\n",
    "\n",
    "* __Fin del Juego:__ Dado que el mundo creado es extremadamente peligroso para los humanos, el juego debe terminar luego de que el jugador se mueva por primera vez.\n",
    "* __Respawn Enemigos:__ Una de las principales razones para que el mundo del juego sea peligroso, es que cada vez que todos los enemigos mueren, nacen 3 nuevos enemigos listos para cazar al jugador.\n",
    "* __Condicionar el inicio del juego__: Puesto que el mundo está plagado de enemigos, no queremos que el juego pueda terminar antes de empezar realmente a jugar, por lo que los enemigos solamente podrán moverse luego de que el jugador realice  su primera acción.\n",
    "* __Conteo de Movimientos__: Con el objetivo de investigar las propiedades de este mundo, y la tasa de supervivencia de los humanos en el, se debe registrar la cantidad de movimientos totales que realizan todos los enemigos durante cada partida."
   ]
  },
  {
   "cell_type": "markdown",
   "metadata": {},
   "source": [
    "## Entrega\n",
    "* __Lugar:__ Repositorio de Ayudantes de GitHub, en la carpeta Ayudantías/AY07\n",
    "* __Hora de _push_:__ 23:59, 06/05\n",
    "* __Hora de la presentación:__ 14:00"
   ]
  }
 ],
 "metadata": {
  "kernelspec": {
   "display_name": "Python 3",
   "language": "python",
   "name": "python3"
  },
  "language_info": {
   "codemirror_mode": {
    "name": "ipython",
    "version": 3
   },
   "file_extension": ".py",
   "mimetype": "text/x-python",
   "name": "python",
   "nbconvert_exporter": "python",
   "pygments_lexer": "ipython3",
   "version": "3.6.6rc1"
  }
 },
 "nbformat": 4,
 "nbformat_minor": 2
}
