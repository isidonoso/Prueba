{
 "cells": [
  {
   "cell_type": "markdown",
   "metadata": {},
   "source": [
    "# Ayudantía 01\n",
    "\n",
    "\n",
    "### Estructuras de Datos: _Built-ins_\n",
    "\n",
    "**Enzo Tamburini y Hernán Valdivieso**"
   ]
  },
  {
   "cell_type": "markdown",
   "metadata": {},
   "source": [
    "Esta ayudantía será un poco diferente a las que sigan dado que se verán casos de uso para cada una de las estructuras de datos dentro de los contenidos de esta semana.\n",
    "\n",
    "En otras podrían ver el desarrollo de una actividad pasada o aplicaciones diferentes dependiendo de la materia ;)"
   ]
  },
  {
   "cell_type": "markdown",
   "metadata": {},
   "source": [
    "### Estructura n°1\n",
    "\n",
    "Después de varios problemas de seguridad en el _Banco de Chule_, han llegado a la conclusión de que la forma en que guardan los datos de sus clientes es muy mala. Hasta ahora tienen los datos de cada usuario en una lista cuyos índices se conocen y son de la forma `nombre, rut, n_tarjeta, datos_brigidos`. Para esto, se te pide que recomiendes una nueva forma de guardar datos que mantenga el orden **y no sea modificable**.  "
   ]
  },
  {
   "cell_type": "code",
   "execution_count": null,
   "metadata": {},
   "outputs": [],
   "source": [
    "# Sólo tienes que decir qué estructura corresponde usar aquí :)"
   ]
  },
  {
   "cell_type": "markdown",
   "metadata": {},
   "source": [
    "### Estructura n°2\n",
    "\n",
    "Un estudiante de medicina realizó un estudio donde a diferentes personas le preguntó su peso. Este estudio lo hizo durante un mes con las mismas personas. Ahora nos ha pedido que lo ayudemos en buscar una forma eficiente de trabajar esa gran lista en donde el estudiante ponga el rut de una persona y le diga el último peso registrado de dicha persona.\n",
    "\n",
    "Las respuestas están en el archivo “pesos.txt” y el formato de cada línea “rut_persona;peso”."
   ]
  },
  {
   "cell_type": "code",
   "execution_count": null,
   "metadata": {},
   "outputs": [],
   "source": []
  },
  {
   "cell_type": "markdown",
   "metadata": {},
   "source": [
    "### Estructura n°3\n",
    "\n",
    "El DCC ha registrado el ingreso de cada persona al departamento y ahora quieren una forma eficiente de saber cuantas veces ha ingresado una persona. Ellos cuentan con la base de datos de todas las personas de Chile y por lo tanto,  por defecto todos han entrado 0 veces. Debes guardar la información de tal forma que se ingrese el rut de una persona y se obtenga la cantidad de veces que ingresó esa persona\n",
    "\n",
    "El registro de personas están en el archivo “registro.txt” y cada línea es el rut de una persona."
   ]
  },
  {
   "cell_type": "code",
   "execution_count": null,
   "metadata": {},
   "outputs": [],
   "source": []
  },
  {
   "cell_type": "markdown",
   "metadata": {},
   "source": [
    "Hubo una caída en el sistema y el DCC dejó de registrar durante 1 día el ingreso de cada persona, pero ese día hicieron un evento para presentar las instalaciones y están seguros que cada estudiante entró 2 veces. Ahora han vuelto a registrar cada persona. Adapte la solución anterior para que funcione ante este caso.\n",
    "\n",
    "El nuevo registro de personas están en el archivo “registro2.txt” y cada línea es el rut de una persona."
   ]
  },
  {
   "cell_type": "code",
   "execution_count": null,
   "metadata": {},
   "outputs": [],
   "source": []
  },
  {
   "cell_type": "markdown",
   "metadata": {},
   "source": [
    "### Estrucutura n°4\n",
    "\n",
    "En _Nerflix_ hubo una filtración masiva de lo que sus usuarios veían. Estos videos vienen en un archivo llamado videos_vistos.txt y tienen el formato `nombre_usuario;video`. Puedes suponer que los usuarios son únicos para cada persona. Se te pide que guardes los vídeos de cada usuario en una estructura de datos adecuada para que luego se puedan realizar consultas como: \n",
    "\n",
    "- ¿Qué vídeos han visto dos usuarios?\n",
    "- ¿Qué vídeos ha visto un usuario que no ha visto el otro?\n",
    "- ¿Cuáles son los vídeos que han visto dos usuarios?\n",
    "\n",
    "Con esto _Nerflix_ quiere armar su nueva inteligencia de máquina para conquistar el mundo de forma _inteligente_ >:). "
   ]
  },
  {
   "cell_type": "code",
   "execution_count": null,
   "metadata": {},
   "outputs": [],
   "source": []
  },
  {
   "cell_type": "markdown",
   "metadata": {},
   "source": [
    "### Estructura n°5\n",
    "\n",
    "El _DCC_ (Departamento de Cachorros Cariñosos) está aliada con el ministerio para la inscripción de las mascotas. Cada cachorro tiene un nombre y un dueño, además del número de serie único del chip que ahora todos deben tener. Se desea guardar estas entidades en una estructura de datos adecuada y que todas estas entidades sean fáciles de acceder a través del número de serie del chip.\n",
    "\n",
    "La información de los perritos está en el archivo `doggos.txt` en el formato número_de_serie;nombre;dueño."
   ]
  },
  {
   "cell_type": "code",
   "execution_count": null,
   "metadata": {},
   "outputs": [],
   "source": []
  },
  {
   "cell_type": "markdown",
   "metadata": {},
   "source": [
    "### Estructura n°6 \n",
    "\n",
    "Los ayudantes de progra avanzada estaban demasiado ocupados tratando de hacer más difícil el ramo que se les olvidó tomar la asistencia de los alumnos en la primera actividad que tuvieron (algo que en verdad pasó), por lo que se les ocurrió la idea de símplemente sacarlos al azar. El que quedara primero en la fila gana un premio y el que queda último quedará ausente.\n",
    "\n",
    "Utilice la estructura de datos adecuada para resolver este problema, los `alumnos` se encuentran en el archivo alumnos.txt y vienen en el formato nombre;apellido."
   ]
  },
  {
   "cell_type": "code",
   "execution_count": null,
   "metadata": {},
   "outputs": [],
   "source": []
  },
  {
   "cell_type": "markdown",
   "metadata": {},
   "source": [
    "### Ejercicio final\n",
    "\n",
    "\n",
    "Los ayudantes del DCC se pasaron la última semana de vacaciones jugando pokemon, pero para hacerlo más entretenido, de vez en cuando hacían alguna competencia y el perdedor debía liberar el primer pokemon capturado. Se ha registrado cada acción de forma temporal en un archivo y se le pide que guardas la información de una forma que dada un nombre, te indique todos los pokemons que tiene ahora.\n",
    "\n",
    "\n",
    "El archivo viene con el formato: `nombre;accion;pokemon` donde acción es “atrapar” o “liberar”. Si la acción es “liberar”, entonces pokemon será vacío (== “-“)."
   ]
  },
  {
   "cell_type": "code",
   "execution_count": null,
   "metadata": {},
   "outputs": [],
   "source": []
  }
 ],
 "metadata": {
  "kernelspec": {
   "display_name": "Python 3",
   "language": "python",
   "name": "python3"
  },
  "language_info": {
   "codemirror_mode": {
    "name": "ipython",
    "version": 3
   },
   "file_extension": ".py",
   "mimetype": "text/x-python",
   "name": "python",
   "nbconvert_exporter": "python",
   "pygments_lexer": "ipython3",
   "version": "3.7.2"
  }
 },
 "nbformat": 4,
 "nbformat_minor": 2
}
