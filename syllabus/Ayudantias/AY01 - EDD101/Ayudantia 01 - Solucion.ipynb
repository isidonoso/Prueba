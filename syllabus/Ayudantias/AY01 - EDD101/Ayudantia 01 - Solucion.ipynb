{
 "cells": [
  {
   "cell_type": "markdown",
   "metadata": {},
   "source": [
    "# Ayudantía 01\n",
    "\n",
    "\n",
    "### Estructuras de Datos: _Built-ins_\n",
    "\n",
    "**Enzo Tamburini y Hernán Valdivieso**"
   ]
  },
  {
   "cell_type": "markdown",
   "metadata": {},
   "source": [
    "En todas las ayudantías tendrán un link hacia un form de google para que puedan dar sus impresiones de la ayudantía y del ayudante :)\n",
    "\n",
    "[Aquí](https://goo.gl/forms/5n6WA5HwavGB9CZH2) está el form de Feedback :D\n",
    "\n",
    "Esta ayudantía será un poco diferente a las que sigan dado que se verán casos de uso para cada una de las estructuras de datos dentro de los contenidos de esta semana.\n",
    "\n",
    "En otras podrían ver el desarrollo de una actividad pasada o aplicaciones diferentes dependiendo de la materia ;)\n",
    "\n",
    "**Necesitarán jupyter notebook para correr el código, por favor si tienen dudas hagan una issue al respecto después de buscar en google**"
   ]
  },
  {
   "cell_type": "markdown",
   "metadata": {},
   "source": [
    "## Repaso de Archivos\n",
    "\n",
    "**Como raios abro un archivo? :c**\n",
    "\n",
    "### Sin tildes"
   ]
  },
  {
   "cell_type": "code",
   "execution_count": null,
   "metadata": {},
   "outputs": [],
   "source": [
    "archivo = open('sin_tildes.txt', 'r')\n",
    "for linea in archivo:\n",
    "    print(linea)\n",
    "archivo.close()"
   ]
  },
  {
   "cell_type": "markdown",
   "metadata": {},
   "source": [
    "**Hey hey hey hay muchos saltos ¬¬**"
   ]
  },
  {
   "cell_type": "code",
   "execution_count": null,
   "metadata": {},
   "outputs": [],
   "source": [
    "with open('sin_tildes.txt','r') as archivo:\n",
    "    for linea in archivo:\n",
    "        print(linea.strip())"
   ]
  },
  {
   "cell_type": "markdown",
   "metadata": {},
   "source": [
    "### Y cómo es con tildes? :O\n",
    "\n",
    "**Se agrega un \"encoding\"**"
   ]
  },
  {
   "cell_type": "code",
   "execution_count": null,
   "metadata": {},
   "outputs": [],
   "source": [
    "# Hay pc's que no tienen problemas...\n",
    "with open('con_tildes.txt', 'r', encoding=\"utf8\") as archivo:\n",
    "    for linea in archivo:\n",
    "        print(linea.strip()) "
   ]
  },
  {
   "cell_type": "markdown",
   "metadata": {},
   "source": [
    "Estos `import`'s nos ayudarán más rato, son para la ayudantía. Distinguen alguno? :)"
   ]
  },
  {
   "cell_type": "code",
   "execution_count": 2,
   "metadata": {},
   "outputs": [],
   "source": [
    "from collections import defaultdict, deque, namedtuple\n",
    "from sys import getsizeof as gso\n",
    "from time import time as t\n",
    "from random import shuffle"
   ]
  },
  {
   "cell_type": "markdown",
   "metadata": {},
   "source": [
    "### Estructura n°1\n",
    "\n",
    "Después de varios problemas de seguridad en el _Banco de Chule_, han llegado a la conclusión de que la forma en que guardan los datos de sus clientes es muy mala. Hasta ahora tienen los datos de cada usuario en una lista cuyos índices se conocen y son de la forma `nombre, rut, n_tarjeta, datos_brigidos`. Para esto, se te pide que recomiendes una nueva forma de guardar datos que mantenga el orden **y no sea modificable**.  "
   ]
  },
  {
   "cell_type": "markdown",
   "metadata": {},
   "source": [
    "**Respuesta:** tulpla"
   ]
  },
  {
   "cell_type": "markdown",
   "metadata": {},
   "source": [
    "### Estructura n°2\n",
    "\n",
    "Un estudiante de medicina realizó un estudio donde a diferentes personas le preguntó su peso. Este estudio lo hizo durante un mes con las mismas personas. Ahora nos ha pedido que lo ayudemos en buscar una forma eficiente de trabajar esa gran lista en donde el estudiante ponga el rut de una persona y le diga el último peso registrado de dicha persona.\n",
    "\n",
    "Las respuestas están en el archivo “pesos.txt” y el formato de cada línea “rut_persona;peso”."
   ]
  },
  {
   "cell_type": "code",
   "execution_count": null,
   "metadata": {},
   "outputs": [],
   "source": [
    "personas = dict()\n",
    "\n",
    "with open(\"pesos.txt\") as file:\n",
    "    for line in file:\n",
    "        persona,peso = line.strip().split(\";\")\n",
    "        personas[persona] = peso\n",
    "        \n",
    "print(personas[\"18579878-k\"])"
   ]
  },
  {
   "cell_type": "markdown",
   "metadata": {},
   "source": [
    "### Estructura n°3\n",
    "\n",
    "El DCC ha registrado el ingreso de cada persona al departamento y ahora quieren una forma eficiente de saber cuantas veces ha ingresado una persona. Ellos cuentan con la base de datos de todas las personas de Chile y por lo tanto,  por defecto todos han entrado 0 veces. Debes guardar la información de tal forma que se ingrese el rut de una persona y se obtenga la cantidad de veces que ingresó esa persona\n",
    "\n",
    "El registro de personas están en el archivo “registro.txt” y cada línea es el rut de una persona."
   ]
  },
  {
   "cell_type": "code",
   "execution_count": null,
   "metadata": {},
   "outputs": [],
   "source": [
    "personas = defaultdict(int)\n",
    "\n",
    "with open(\"registro.txt\") as file:\n",
    "    for line in file:\n",
    "        persona = line.strip()\n",
    "        personas[persona] += 1\n",
    "        \n",
    "print(personas[\"19644911-6\"])"
   ]
  },
  {
   "cell_type": "markdown",
   "metadata": {},
   "source": [
    "Hubo una caída en el sistema y el DCC dejó de registrar durante 1 día el ingreso de cada persona, pero ese día hicieron un evento para presentar las instalaciones y están seguros que cada estudiante entró 2 veces. Ahora han vuelto a registrar cada persona. Adapte la solución anterior para que funcione ante este caso.\n",
    "\n",
    "El nuevo registro de personas están en el archivo “registro2.txt” y cada línea es el rut de una persona."
   ]
  },
  {
   "cell_type": "code",
   "execution_count": null,
   "metadata": {},
   "outputs": [],
   "source": [
    "def empezar_2():\n",
    "    return 2\n",
    "\n",
    "personas = defaultdict(empezar_2)\n",
    "\n",
    "with open(\"registro2.txt\") as file:\n",
    "    for line in file:\n",
    "        persona = line.strip()\n",
    "        personas[persona] += 1\n",
    "        \n",
    "print(personas[\"19644911-6\"])"
   ]
  },
  {
   "cell_type": "markdown",
   "metadata": {},
   "source": [
    "### Estrucutura n°4\n",
    "\n",
    "En _Nerflix_ hubo una filtración masiva de lo que sus usuarios veían. Estos videos vienen en un archivo llamado videos_vistos.txt y tienen el formato `nombre_usuario;video`. Puedes suponer que los usuarios son únicos para cada persona. Se te pide que guardes los vídeos de cada usuario en una estructura de datos adecuada para que luego se puedan realizar consultas como: \n",
    "\n",
    "- ¿Qué vídeos han visto dos usuarios?\n",
    "- ¿Qué vídeos ha visto un usuario que no ha visto el otro?\n",
    "- ¿Cuáles son los vídeos que han visto dos usuarios?\n",
    "\n",
    "Con esto _Nerflix_ quiere armar su nueva inteligencia de máquina para conquistar el mundo de forma _inteligente_ >:). "
   ]
  },
  {
   "cell_type": "code",
   "execution_count": null,
   "metadata": {},
   "outputs": [],
   "source": [
    "videos_usuarios = defaultdict(set)  \n",
    "\n",
    "with open(\"videos_vistos.txt\") as archivo:\n",
    "    for linea in archivo:\n",
    "        n_usuario, video_visto = linea.strip().split(\";\")\n",
    "        videos_usuarios[n_usuario].add(video_visto)\n",
    "        \n",
    "video_usuario1 = videos_usuarios['hernan4444']\n",
    "video_usuario2 = videos_usuarios['entamburini']\n",
    "\n",
    "# Unión\n",
    "print(\"Unión: {}\".format(video_usuario1 | video_usuario2))\n",
    "\n",
    "# Intersección\n",
    "print(\"Intersección: {}\".format(video_usuario1 & video_usuario2))\n",
    "\n",
    "# Diferencia\n",
    "print(\"Diferencia: {}\".format(video_usuario1 - video_usuario2))"
   ]
  },
  {
   "cell_type": "markdown",
   "metadata": {},
   "source": [
    "### Estructura n°5\n",
    "\n",
    "El _DCC_ (Departamento de Cachorros Cariñosos) está aliada con el ministerio para la inscripción de las mascotas. Cada cachorro tiene un nombre y un dueño, además del número de serie único del chip que ahora todos deben tener. Se desea guardar estas entidades en una estructura de datos adecuada y que todas estas entidades sean fáciles de acceder a través del número de serie del chip.\n",
    "\n",
    "La información de los perritos está en el archivo `doggos.txt` en el formato número_de_serie;nombre;dueño."
   ]
  },
  {
   "cell_type": "code",
   "execution_count": null,
   "metadata": {},
   "outputs": [],
   "source": [
    "estructura_adecuada = dict()\n",
    "\n",
    "Perrin = namedtuple('Perro', 'nombre dueño')\n",
    "\n",
    "with open('doggos.txt', 'r', encoding='utf8') as archivo:\n",
    "    for linea in archivo:\n",
    "        n_serie, nombre, dueño = linea.strip().split(';')\n",
    "        estructura_adecuada[n_serie] = Perrin(nombre, dueño)\n",
    "        \n",
    "lunita = estructura_adecuada['324135']\n",
    "\n",
    "# Como se ve\n",
    "print(lunita)\n",
    "\n",
    "# Como se accede a un atributo \n",
    "print(lunita.nombre)\n",
    "print(lunita.dueño)"
   ]
  },
  {
   "cell_type": "markdown",
   "metadata": {},
   "source": [
    "### Estructura n°6 \n",
    "\n",
    "Los ayudantes de progra avanzada estaban demasiado ocupados tratando de hacer más difícil el ramo que se les olvidó tomar la asistencia de los alumnos en la primera actividad que tuvieron (algo que en verdad pasó), por lo que se les ocurrió la idea de símplemente sacarlos según orden de llegada. El que queda primero pasa la actividad y el que queda último quedará ausente.\n",
    "\n",
    "Utilice la estructura de datos adecuada para resolver este problema, los `alumnos` se encuentran en el archivo alumnos.txt y vienen en el formato nombre;apellido."
   ]
  },
  {
   "cell_type": "code",
   "execution_count": null,
   "metadata": {},
   "outputs": [],
   "source": [
    "Alumno = namedtuple(\"Alumno\", \"nombre apellido\")\n",
    "\n",
    "alumnos = deque()\n",
    "\n",
    "with open(\"alumnos.txt\") as archivo:\n",
    "    for linea in archivo:\n",
    "        nombre, apellido = linea.strip().split(\";\")\n",
    "        alumnos.append(Alumno(nombre, apellido))\n",
    "        \n",
    "# Revolvemos :O\n",
    "shuffle(alumnos)\n",
    "\n",
    "#Quién pasa primero y quién último\n",
    "print(alumnos.popleft())\n",
    "print(alumnos.pop())"
   ]
  },
  {
   "cell_type": "markdown",
   "metadata": {},
   "source": [
    "### Ejercicio final\n",
    "\n",
    "\n",
    "Los ayudantes del DCC se pasaron la última semana de vacaciones jugando pokemon, pero para hacerlo más entretenido, de vez en cuando hacían alguna competencia y el perdedor debía liberar el primer pokemon capturado. Se ha registrado cada acción de forma temporal en un archivo y se le pide que guardas la información de una forma que dada un nombre, te indique todos los pokemons que tiene ahora.\n",
    "\n",
    "\n",
    "El archivo viene con el formato: `nombre;accion;pokemon` donde acción es “atrapar” o “liberar”. Si la acción es “liberar”, entonces pokemon será vacío (== “-“)."
   ]
  },
  {
   "cell_type": "code",
   "execution_count": null,
   "metadata": {},
   "outputs": [],
   "source": [
    "ayudantes = defaultdict(deque)\n",
    "with open(\"pokemons_ayudantes.txt\") as file:\n",
    "    for line in file:\n",
    "        ayudante,accion,pokemon = line.strip().split(\";\")\n",
    "        if accion == \"atrapar\":\n",
    "            ayudantes[ayudante].append(pokemon)\n",
    "        else:\n",
    "            ayudantes[ayudante].popleft()\n",
    "print(ayudantes[\"Enzo\"])"
   ]
  },
  {
   "cell_type": "markdown",
   "metadata": {},
   "source": [
    "## Repaso EDD101¶\n",
    "\n",
    "### Diccionarios\n",
    "\n",
    "Un uso común de diccionarios se da cuando en el problema a modelar se quiere almacenar en la memoria una gran cantidad de elementos, cada uno con un identificador unico.\n",
    "\n",
    "Por ejemplo, si el problema a tratar habla de países y éstos fueron modelados por el programador como clases, una forma óptima de almacenar sus instancias es a través de un diccionario.\n",
    "\n",
    "**¿Cuál es el problema con las listas? ¿Cuál es el problema con cualquier otra estructura?**"
   ]
  },
  {
   "cell_type": "code",
   "execution_count": 3,
   "metadata": {},
   "outputs": [
    {
     "name": "stdout",
     "output_type": "stream",
     "text": [
      "Equipo(nombre='Universidad Católica')\n",
      "Equipo(nombre='Colo Colo')\n",
      "Equipo(nombre='Universidad de Chile')\n"
     ]
    }
   ],
   "source": [
    "Equipo = namedtuple('Equipo', 'nombre')\n",
    "equipos = {\"UC\": Equipo(\"Universidad Católica\"),\n",
    "           \"CC\": Equipo(\"Colo Colo\"),\n",
    "           \"UCH\": Equipo(\"Universidad de Chile\")}\n",
    "\n",
    "print(equipos[\"UC\"])\n",
    "print(equipos[\"CC\"])\n",
    "print(equipos[\"UCH\"])"
   ]
  },
  {
   "cell_type": "markdown",
   "metadata": {},
   "source": [
    "### Algunos comandos básicos"
   ]
  },
  {
   "cell_type": "code",
   "execution_count": 4,
   "metadata": {},
   "outputs": [
    {
     "name": "stdout",
     "output_type": "stream",
     "text": [
      "{'UC': Equipo(nombre='Universidad Católica'), 'CC': Equipo(nombre='Colo Colo'), 'UCH': Equipo(nombre='Universidad de Chile'), 'UE': Equipo(nombre='Union Española'), 'SW': Equipo(nombre='Santiago Wanderers')}\n",
      "{'UC': Equipo(nombre='Universidad Católica'), 'CC': Equipo(nombre='Colo Colo'), 'UE': Equipo(nombre='Union Española'), 'SW': Equipo(nombre='Santiago Wanderers')}\n",
      "__________________________________________________\n",
      "Values\n",
      "Equipo(nombre='Universidad Católica')\n",
      "Equipo(nombre='Colo Colo')\n",
      "Equipo(nombre='Union Española')\n",
      "Equipo(nombre='Santiago Wanderers')\n",
      "__________________________________________________\n",
      "Keys\n",
      "UC\n",
      "CC\n",
      "UE\n",
      "SW\n",
      "__________________________________________________\n",
      "Tuplas\n",
      "('UC', Equipo(nombre='Universidad Católica'))\n",
      "('CC', Equipo(nombre='Colo Colo'))\n",
      "('UE', Equipo(nombre='Union Española'))\n",
      "('SW', Equipo(nombre='Santiago Wanderers'))\n",
      "__________________________________________________\n"
     ]
    }
   ],
   "source": [
    "# Dos formas de agregar elementos a un diccionario\n",
    "equipos.update({\"UE\": Equipo(\"Union Española\")})\n",
    "equipos[\"SW\"] = Equipo(\"Santiago Wanderers\")\n",
    "\n",
    "print(equipos)\n",
    "\n",
    "# Para eliminar elementos\n",
    "del equipos[\"UCH\"]\n",
    "\n",
    "print(equipos)\n",
    "\n",
    "# Recorrer keys y values\n",
    "print(\"_\"*50)\n",
    "print(\"Values\")\n",
    "for equipo in equipos.values():\n",
    "    print(equipo)\n",
    "print(\"_\"*50)\n",
    "\n",
    "print(\"Keys\")\n",
    "for equipo in equipos.keys():\n",
    "    print(equipo)\n",
    "print(\"_\"*50)\n",
    "\n",
    "print(\"Tuplas\")\n",
    "for tupla in equipos.items():\n",
    "    print(tupla)\n",
    "print(\"_\"*50)"
   ]
  },
  {
   "cell_type": "markdown",
   "metadata": {},
   "source": [
    "## DefaultDicts"
   ]
  },
  {
   "cell_type": "code",
   "execution_count": 5,
   "metadata": {},
   "outputs": [
    {
     "name": "stdout",
     "output_type": "stream",
     "text": [
      "Colo Colo\n",
      "Universidad Catolica\n",
      "defaultdict(<class 'int'>, {'UC': 'Universidad Catolica', 'CC': 'Colo Colo'})\n"
     ]
    }
   ],
   "source": [
    "# Se deben importar de la libreria collections\n",
    "from collections import defaultdict\n",
    "\n",
    "# Que pasa si intentamos esto\n",
    "\n",
    "dicc = {\"UC\" : \"Universidad Catolica\", \"CC\": \"Colo Colo\"}\n",
    "dicc[\"CC\"]\n",
    "\n",
    "# Utilidad del default dict\n",
    "default = defaultdict(int)\n",
    "default.update({\"UC\" : \"Universidad Catolica\", \"CC\": \"Colo Colo\"})\n",
    "print(default[\"CC\"])\n",
    "\n",
    "# Funciona igual que un diccionario!\n",
    "print(default[\"UC\"])\n",
    "print(default)"
   ]
  },
  {
   "cell_type": "markdown",
   "metadata": {},
   "source": [
    "## Tuplas\n",
    "\n",
    "Las tuplas son estructuras **inmutables**."
   ]
  },
  {
   "cell_type": "code",
   "execution_count": 6,
   "metadata": {},
   "outputs": [
    {
     "name": "stdout",
     "output_type": "stream",
     "text": [
      "('Hola', <class 'int'>, 4)\n",
      "('Hola', <class 'int'>, 4)\n",
      "True\n"
     ]
    }
   ],
   "source": [
    "# Dos formas de crearlas\n",
    "\n",
    "tupla1 = tuple([\"Hola\", int, 4])\n",
    "print(tupla1)\n",
    "tupla2 = (\"Hola\", int, 4)\n",
    "print(tupla2)\n",
    "\n",
    "print(tupla1 == tupla2)"
   ]
  },
  {
   "cell_type": "markdown",
   "metadata": {},
   "source": [
    "## Named tuple\n",
    "\n",
    "Las named tuples son como una clase sin métodos, es decir, solo tiene atributos y estos son fijos."
   ]
  },
  {
   "cell_type": "code",
   "execution_count": 7,
   "metadata": {},
   "outputs": [
    {
     "name": "stdout",
     "output_type": "stream",
     "text": [
      "Max Steel\n",
      "2000\n",
      "Barbie\n",
      "1959\n",
      "<class '__main__.tipo_juguete'>\n"
     ]
    }
   ],
   "source": [
    "from collections import namedtuple\n",
    "\n",
    "# Sintaxis = namedtuple(\"nombre de la 'clase'\", [atributos])\n",
    "# Sintaxisv2 = namedtuple(\"nombre de la 'clase'\", \"attr1 attr2 attr3...\")\n",
    "juguete = namedtuple(\"tipo_juguete\", [\"nombre\", \"anho_de_fabricacion\"])\n",
    "\n",
    "j1 = juguete(\"Max Steel\", 2000)\n",
    "j2 = juguete(\"Barbie\", 1959)\n",
    "\n",
    "print(j1.nombre)\n",
    "print(j1.anho_de_fabricacion)\n",
    "\n",
    "print(j2.nombre)\n",
    "print(j2.anho_de_fabricacion)\n",
    "\n",
    "print(type(j1))"
   ]
  },
  {
   "cell_type": "markdown",
   "metadata": {},
   "source": [
    "## Sets\n",
    "\n",
    "Sirven para tener un conjunto de elementos ordenados y sin repetir. Se pueden intersectar y unir."
   ]
  },
  {
   "cell_type": "code",
   "execution_count": 8,
   "metadata": {},
   "outputs": [
    {
     "name": "stdout",
     "output_type": "stream",
     "text": [
      "{0, 2, 3, 4, 5, 6, 7}\n",
      "{3, 4}\n"
     ]
    }
   ],
   "source": [
    "set1 = {1,2,3,4}\n",
    "set2 = {3,4,5,6}\n",
    "set3 = set([2,4,7,0,5])\n",
    "\n",
    "\n",
    "union = set3.union(set2)\n",
    "interseccion = set1.intersection(set2)\n",
    "print(union)\n",
    "print(interseccion)"
   ]
  }
 ],
 "metadata": {
  "kernelspec": {
   "display_name": "Python 3",
   "language": "python",
   "name": "python3"
  },
  "language_info": {
   "codemirror_mode": {
    "name": "ipython",
    "version": 3
   },
   "file_extension": ".py",
   "mimetype": "text/x-python",
   "name": "python",
   "nbconvert_exporter": "python",
   "pygments_lexer": "ipython3",
   "version": "3.6.6rc1"
  }
 },
 "nbformat": 4,
 "nbformat_minor": 2
}
