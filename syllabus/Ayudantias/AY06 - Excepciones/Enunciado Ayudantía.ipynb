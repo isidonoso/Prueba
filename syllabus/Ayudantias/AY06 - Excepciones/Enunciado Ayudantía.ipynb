{
 "cells": [
  {
   "cell_type": "markdown",
   "metadata": {},
   "source": [
    "## Ayudantía Excepciones\n",
    "\n",
    "El equipo de Tube-You creó un módulo library.py para analizar los datos de sus videos. Sin embargo,\n",
    "dicho código no identifica adecuadamente los errores de formato (o de consistencia) que pueden aparecer. Tu\n",
    "deber será tomar la librerı́a fallida, identificar los errores pertinentes, y levantar las excepciones según sea\n",
    "necesario.\n",
    "\n",
    "Para esta parte trabajarás en el archivo library.py, donde podrás encontrar las funciones a revisar.\n",
    "**ESTÁ PROHIBIDO BORRAR CUALQUIER LÍNEA DE CÓDIGO DE ESTE ARCHIVO**; es\n",
    "decir, sólo podrás agregar las lı́neas necesarias. Además, tampoco podrás utilizar try o except en el archivo\n",
    "library.py, pues el manejo de excepciones lo haremos después en otro módulo.\n",
    "\n",
    "### `tiempo_trending(publish_date: str, trending_date: str) -> int`\n",
    "\n",
    "Esta función retorna un número entero que indica la cantidad de dı́as desde que el video fue publicado, hasta que se volvió trending. Para esta función, debemos revisar el argumento publish date. La fecha publish date debe venir con el formato %y. %d. %m, en el que el año, dı́a y mes aparecen con dos dı́gitos y separados con puntos. Por lo tanto, se debe levantar una excepción personalizada creada por ti cuando la fecha no esté en el formato correcto."
   ]
  },
  {
   "cell_type": "code",
   "execution_count": null,
   "metadata": {},
   "outputs": [],
   "source": [
    "import datetime\n",
    "\n",
    "def tiempo_trending(publish_date, trending_date):\n",
    "    \n",
    "    publish_d = datetime.datetime.strptime(publish_date, \"%y.%d.%m\")\n",
    "    trending_d = datetime.datetime.strptime(trending_date, \"%y.%d.%m\")\n",
    "    days = (trending_d - publish_d).days\n",
    "\n",
    "    return days"
   ]
  },
  {
   "cell_type": "markdown",
   "metadata": {},
   "source": [
    "## `like_dislike_ratio(likes: str, dislikes: str) -> float`\n",
    "\n",
    "Esta función retorna el cociente entre los `likes` y `dislikes` del video.\n",
    "En esta función debemos revisar el formato de likes. Si el argumento likes no está compuesto por solo\n",
    "números, entonces se debe levantar una excepción del tipo adecuado. Como se espera obtener el resultado de una división, además debes asegurarte de que una excepción de tipo `ZeroDivisionError` se levante al dividir por cero."
   ]
  },
  {
   "cell_type": "code",
   "execution_count": null,
   "metadata": {},
   "outputs": [],
   "source": [
    "def like_dislike_ratio(likes, dislikes):\n",
    "\n",
    "    return int(likes) / int(dislikes)"
   ]
  },
  {
   "cell_type": "markdown",
   "metadata": {},
   "source": [
    "## `info_video(title: str, views: str, likes: str, dislikes: str, tags: str)`\n",
    "\n",
    "Esta función imprime un resumen de las estadı́sticas del video. En este caso, debes crear ***dos custom exceptions***. La primera excepción se levantará, cuando algún video posea mas likes que views, es decir, cuando `likes > views`. La segunda, se levantará en caso de que tags sea un string de largo `0` o `None`."
   ]
  },
  {
   "cell_type": "code",
   "execution_count": null,
   "metadata": {},
   "outputs": [],
   "source": [
    "def info_video(title, views, likes, dislikes, tags):\n",
    "\n",
    "    print(\"El video {0} ha tenido {1} views, con {2} likes y {3} dislikes\"\n",
    ".format(title, views, likes, dislikes))"
   ]
  },
  {
   "cell_type": "markdown",
   "metadata": {},
   "source": [
    "## Haz tus excepciones acá"
   ]
  },
  {
   "cell_type": "code",
   "execution_count": null,
   "metadata": {},
   "outputs": [],
   "source": [
    "#Excepciones personalizadas"
   ]
  },
  {
   "cell_type": "markdown",
   "metadata": {},
   "source": [
    "## Prueba tu código acá"
   ]
  },
  {
   "cell_type": "code",
   "execution_count": null,
   "metadata": {},
   "outputs": [],
   "source": [
    "class Video:\n",
    "    def __init__(self, trending_date, title, publish_date, tags, views, likes,\n",
    "                 dislikes):\n",
    "        self.title = title\n",
    "        self.trending_date = trending_date\n",
    "        self.publish_date = publish_date\n",
    "        self.tags = tags\n",
    "        self.views = views\n",
    "        self.likes = likes\n",
    "        self.dislikes = dislikes\n",
    "\n",
    "    def __str__(self):\n",
    "        return self.title\n",
    "\n",
    "    \n",
    "def file_reading():\n",
    "    with open(\"data_errores.txt\", \"r\", encoding=\"utf-8\") as file:\n",
    "        lines = file.readlines()[1:]\n",
    "        video_list = []\n",
    "\n",
    "        for line in lines:\n",
    "            data = line.strip().split(\",\")\n",
    "            video_list.append(Video(*data))\n",
    "    return video_list\n",
    "\n",
    "videos = file_reading()\n",
    "\n",
    "# A partir de este punto, el estudiante debe manejar los errores\n",
    "with open(\"excepciones.txt\", \"w\") as file:\n",
    "    for video in videos:\n",
    "        days = tiempo_trending(\n",
    "            video.publish_date, video.trending_date)\n",
    "        print(\"El video {} estuvo trending {} dia(s) despues de publicado\"\n",
    "              .format(video.title, days))\n",
    "        ratio = like_dislike_ratio(video.likes, video.dislikes)\n",
    "        print(\"El video {} tiene aproximadamente {} likes por dislike\"\n",
    "              .format(video.title, ratio))\n",
    "        info_video(video.title, video.views, video.likes,\n",
    "                           video.dislikes, video.tags)\n",
    "\n"
   ]
  }
 ],
 "metadata": {
  "kernelspec": {
   "display_name": "Python 3",
   "language": "python",
   "name": "python3"
  },
  "language_info": {
   "codemirror_mode": {
    "name": "ipython",
    "version": 3
   },
   "file_extension": ".py",
   "mimetype": "text/x-python",
   "name": "python",
   "nbconvert_exporter": "python",
   "pygments_lexer": "ipython3",
   "version": "3.6.5"
  }
 },
 "nbformat": 4,
 "nbformat_minor": 2
}
