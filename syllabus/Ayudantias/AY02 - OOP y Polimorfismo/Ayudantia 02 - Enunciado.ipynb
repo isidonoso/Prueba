{
 "cells": [
  {
   "cell_type": "markdown",
   "metadata": {
    "slideshow": {
     "slide_type": "slide"
    }
   },
   "source": [
    "# Ayudantía 2\n",
    "\n",
    "## OOP, Herencia, Clases Abstractas y Polimorfismo   \n",
    "\n",
    "\n",
    "_Formulario de feedback:_ https://goo.gl/forms/aFpTe9LGx9ObcMBu1\n",
    "  \n",
    "\n",
    "**Autores: Irina Salazar y Nicolás Quiroz**"
   ]
  },
  {
   "cell_type": "markdown",
   "metadata": {
    "slideshow": {
     "slide_type": "slide"
    }
   },
   "source": [
    "# AC05 2018-2"
   ]
  },
  {
   "cell_type": "markdown",
   "metadata": {
    "slideshow": {
     "slide_type": "fragment"
    }
   },
   "source": [
    "Cuando Billis, el dios de la destrucción, llega a la Tierra para destruirla, la pandilla DragonCCball invoca a los poderosos supersaiyayines para detenerlo. Para que esta pandilla pueda simular quién ganará la batalla, Magnum, miembro jefe, le pide a los estudiantes de Programación Avanzada que realicen una modelación de la batalla que se realizará entre los Billis y los supersaiyayines."
   ]
  },
  {
   "cell_type": "markdown",
   "metadata": {
    "slideshow": {
     "slide_type": "slide"
    }
   },
   "source": [
    "## Personajes"
   ]
  },
  {
   "cell_type": "markdown",
   "metadata": {
    "slideshow": {
     "slide_type": "subslide"
    }
   },
   "source": [
    "**Humano** : Ellos son los habitantes originarios del planeta Tierra. Por lo general, tienen un _ki_ bajo, pero esto es compensado gracias a su inteligencia. A menos que se especifique, la inteligencia de un humano cualquiera tiene el valor de 100. Esta especie ha llegado a controlar la mayor parte del universo conocido. Además los humanos pueden incrementar su _ki_ meditando.  "
   ]
  },
  {
   "cell_type": "markdown",
   "metadata": {
    "slideshow": {
     "slide_type": "subslide"
    }
   },
   "source": [
    "**Extraterrestre**: Como su nombre lo indica, estos son los seres que no son originarios de la Tierra. Tienen la particularidad de que, al atacar, aumentan su fuerza, por lo que con cada ataque se vuelven más poderosos. "
   ]
  },
  {
   "cell_type": "markdown",
   "metadata": {
    "slideshow": {
     "slide_type": "subslide"
    }
   },
   "source": [
    "**Supersaiyayin**: Ellos son los _buenos_ de la batalla y se caracterizan por ser una mezcla entre humanos y extraterrestres. Tienen apariencia humana, pero poseen una cola; cuando la pierden su resistencia disminuye en un 60\\%. Son poderosos, pues su parte extraterrestre es la que predomina cuando atacan."
   ]
  },
  {
   "cell_type": "markdown",
   "metadata": {
    "slideshow": {
     "slide_type": "subslide"
    }
   },
   "source": [
    "**Hakashi**: Estos extraterrestres son los entes _malévolos_ de la galaxia. Su ventaja durante una batalla radica en que tienen la habilidad de robar el _ki_ de sus oponentes."
   ]
  },
  {
   "cell_type": "markdown",
   "metadata": {
    "slideshow": {
     "slide_type": "slide"
    }
   },
   "source": [
    "## Funciones"
   ]
  },
  {
   "cell_type": "markdown",
   "metadata": {
    "slideshow": {
     "slide_type": "subslide"
    }
   },
   "source": [
    " - Para los **humanos**:\n",
    " \n",
    "`def atacar(self, enemigo)`. Este ataque le quita a la vida del enemigo.\n",
    "        $$ \n",
    "        \\text{pérdida de vida} \\\\= ki \\times \\frac{(1 + \\text{fuerza_atacante} - \\text{resistencia_enemigo})}{2} $$\n",
    "        \n",
    "Deberá imprimir en pantalla el daño que se le hizo al enemigo, de la siguiente manera:\n",
    "        \n",
    "`\"{nombre_atacante} le quita {vida_perdida} de vida a {enemigo_nombre}\"`"
   ]
  },
  {
   "cell_type": "markdown",
   "metadata": {
    "slideshow": {
     "slide_type": "subslide"
    }
   },
   "source": [
    "`def meditar(self)`. Cada vez que se invoca, mejora el _ki_ del personaje según la fórmula:\n",
    "$$\\Delta ki = \\frac{\\text{inteligencia}}{100}$$\n",
    "        \n",
    "Deberá imprimir en pantalla `\"Yo {nombre} estoy meditando!\"`."
   ]
  },
  {
   "cell_type": "markdown",
   "metadata": {
    "slideshow": {
     "slide_type": "subslide"
    }
   },
   "source": [
    "- Para los **extraterrestres**:\n",
    "\n",
    "`def atacar(self, enemigo)`. Este ataque le quita a la vida del enemigo:\n",
    "        \n",
    "$$  \\text{pérdida de vida} \\\\= ki \\times (1 + \\text{fuerza_atacante} - \\text{resistencia_enemigo}) $$\n",
    "        \n",
    "Además, al atacar aumentan su fuerza en un 30\\%. Se deberá mostrar en pantalla el daño que se le hizo al enemigo, de la siguiente manera:\n",
    "\n",
    "`\"{nombre_atacante} le quita {vida_perdida} de vida a {enemigo_nombre}\"`"
   ]
  },
  {
   "cell_type": "markdown",
   "metadata": {
    "slideshow": {
     "slide_type": "subslide"
    }
   },
   "source": [
    "- Para los **supersaiyayines**:\n",
    "\n",
    "`def perder_cola(self)`: El _supersaiyayin pierde su cola y su resistencia disminuye en un 60%."
   ]
  },
  {
   "cell_type": "markdown",
   "metadata": {
    "slideshow": {
     "slide_type": "subslide"
    }
   },
   "source": [
    "- Para los **hakashis**:\n",
    "\n",
    "`def robar_ki(self, adversarios)`: Esta función recibe una cantidad arbitraria de seres que posean _ki_ y le quita el 50% del _ki_ a estos, quedándose con el _ki_ robado."
   ]
  }
 ],
 "metadata": {
  "celltoolbar": "Slideshow",
  "kernelspec": {
   "display_name": "Python 3",
   "language": "python",
   "name": "python3"
  },
  "language_info": {
   "codemirror_mode": {
    "name": "ipython",
    "version": 3
   },
   "file_extension": ".py",
   "mimetype": "text/x-python",
   "name": "python",
   "nbconvert_exporter": "python",
   "pygments_lexer": "ipython3",
   "version": "3.6.6rc1"
  }
 },
 "nbformat": 4,
 "nbformat_minor": 2
}
