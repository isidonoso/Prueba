{
 "cells": [
  {
   "cell_type": "markdown",
   "metadata": {
    "slideshow": {
     "slide_type": "slide"
    }
   },
   "source": [
    "# Ayudantía 2\n",
    "\n",
    "## OOP, Herencia, Clases Abstractas y Polimorfismo   \n",
    "\n",
    "\n",
    "_Formulario de feedback:_ https://goo.gl/forms/aFpTe9LGx9ObcMBu1\n",
    "  \n",
    "\n",
    "**Autores: Irina Salazar y Nicolás Quiroz**"
   ]
  },
  {
   "cell_type": "markdown",
   "metadata": {
    "slideshow": {
     "slide_type": "slide"
    }
   },
   "source": [
    "# OOP: Programación Orientada a Objetos\n",
    "\n",
    "_Es un paradigma de programación basado alrededor de clases de programación y ejemplos de clases llamadas objetos._\n",
    "\n",
    "## KHÉ"
   ]
  },
  {
   "cell_type": "markdown",
   "metadata": {
    "slideshow": {
     "slide_type": "subslide"
    }
   },
   "source": [
    "Básicamente, es una forma de programar :) "
   ]
  },
  {
   "cell_type": "markdown",
   "metadata": {
    "slideshow": {
     "slide_type": "slide"
    }
   },
   "source": [
    "# Recordemos un poco de Intro :)\n",
    "\n",
    "- ¿Qué es una clase?\n",
    "- ¿Qué es un objeto?"
   ]
  },
  {
   "cell_type": "markdown",
   "metadata": {
    "slideshow": {
     "slide_type": "subslide"
    }
   },
   "source": [
    "## Objetos\n",
    "\n",
    "- Entidades de ejecución básicas.\n",
    "- Instancias de una clase.\n",
    "\n",
    "## Clase\n",
    "\n",
    "- Grupo de objetos de tipo similar."
   ]
  },
  {
   "cell_type": "markdown",
   "metadata": {
    "slideshow": {
     "slide_type": "subslide"
    }
   },
   "source": [
    "## Forma básica para crear una clase"
   ]
  },
  {
   "cell_type": "code",
   "execution_count": 3,
   "metadata": {},
   "outputs": [],
   "source": [
    "class MiClase:\n",
    "    \n",
    "    # Atributos que recibo para crear mi clase\n",
    "    def __init__(self, atributo1, atributo2):\n",
    "        # Mis atributos\n",
    "        self.mi_at1 = atributo1\n",
    "        self.mi_at2 = atributo2\n",
    "        self.mi_at3 = []\n",
    "        \n",
    "    def mi_metodo1(self):\n",
    "        # Contenido de funcion\n",
    "        return\n",
    "    \n",
    "    def mi_metodo2(self, argumento1, argumento2=None):\n",
    "        # Contenido de funcion\n",
    "        return"
   ]
  },
  {
   "cell_type": "markdown",
   "metadata": {
    "slideshow": {
     "slide_type": "slide"
    }
   },
   "source": [
    "# Properties\n",
    "### Explicado muy velozmente :D\n",
    "\n",
    "Permiten obtener un atributo cuyo valor es dinámico, o con restricciones de privacidad."
   ]
  },
  {
   "cell_type": "code",
   "execution_count": 8,
   "metadata": {
    "slideshow": {
     "slide_type": "subslide"
    }
   },
   "outputs": [],
   "source": [
    "class Jugador:\n",
    "    def __init__(self, nombre):\n",
    "        self.nombre = nombre\n",
    "        self.__vida = 100\n",
    "        self.__mana = 100\n",
    "    \n",
    "    @property\n",
    "    def vida(self):\n",
    "        return self.__vida\n",
    "    \n",
    "    @vida.setter\n",
    "    def vida(self, value):\n",
    "        self.__vida = min(100, max(0, value))\n",
    "    \n",
    "    @property\n",
    "    def mana(self):\n",
    "        return self.__mana"
   ]
  },
  {
   "cell_type": "markdown",
   "metadata": {
    "slideshow": {
     "slide_type": "slide"
    }
   },
   "source": [
    "# Herencia\n",
    "\n",
    "Nos permite representar la relación del tipo:  \n",
    "_\"el objeto B es un objeto A pero con algunas diferencias\"._\n",
    "\n",
    "- Clase hija hereda datos y comportamientos de la clase madre.\n",
    "- Especialización de una clase.\n",
    "- Sobreescritura de métodos.\n",
    "- Agregar más información."
   ]
  },
  {
   "cell_type": "markdown",
   "metadata": {
    "slideshow": {
     "slide_type": "subslide"
    }
   },
   "source": [
    "## ¿Cómo se hereda de una clase a otra?"
   ]
  },
  {
   "cell_type": "code",
   "execution_count": 4,
   "metadata": {},
   "outputs": [],
   "source": [
    "# Clase Madre\n",
    "class Estudiante:\n",
    "    def __init__(self, nombre, gen, major=None):\n",
    "        self.nombre = nombre\n",
    "        self.generacion = gen\n",
    "        self.major = major\n",
    "        self.amigos = []\n",
    "    \n",
    "# Clase Hija\n",
    "class EstudianteDePregrado(Estudiante):\n",
    "    def __init__(self, nombre, gen, major, lista_hobbies):\n",
    "        super().__init__(nombre, gen, major)\n",
    "        self.lista_hobbies = lista_hobbies\n",
    "        "
   ]
  },
  {
   "cell_type": "markdown",
   "metadata": {
    "slideshow": {
     "slide_type": "slide"
    }
   },
   "source": [
    "# Multiherencia\n",
    "\n",
    "Una clase puede heredar atributos y métodos de más de una clase.\n",
    "\n",
    "Supongamos tenemos que modelar la clase `Condor`. Este sería un `Carronero` y `AnimalVolador`."
   ]
  },
  {
   "cell_type": "code",
   "execution_count": null,
   "metadata": {},
   "outputs": [],
   "source": [
    "class Carronero:\n",
    "    def comer_muerto(self):\n",
    "        print('Om nom nom')\n",
    "class AnimalVolador:\n",
    "    def volar(self):\n",
    "        print('Fium!')\n",
    "\n",
    "class Condor(Carronero, AnimalVolador):\n",
    "    def __init__(self):\n",
    "        super().__init__()"
   ]
  },
  {
   "cell_type": "markdown",
   "metadata": {
    "slideshow": {
     "slide_type": "subslide"
    }
   },
   "source": [
    "## El problema del diamante\n",
    "\n",
    "<img src=\"image.png\" alt=\"image\"  width=\"45%\" height=\"45%\"/>\n"
   ]
  },
  {
   "cell_type": "markdown",
   "metadata": {
    "slideshow": {
     "slide_type": "subslide"
    }
   },
   "source": [
    "La colisión de herencia puede ser un problema\n",
    "\n",
    "Solucion?"
   ]
  },
  {
   "cell_type": "markdown",
   "metadata": {
    "slideshow": {
     "slide_type": "fragment"
    }
   },
   "source": [
    "*No hay*"
   ]
  },
  {
   "cell_type": "markdown",
   "metadata": {
    "slideshow": {
     "slide_type": "fragment"
    }
   },
   "source": [
    "😂 Si hay! **`super()`**!"
   ]
  },
  {
   "cell_type": "code",
   "execution_count": 6,
   "metadata": {
    "slideshow": {
     "slide_type": "subslide"
    }
   },
   "outputs": [],
   "source": [
    "class Primero:\n",
    "    def __init__(self, mensaje1='', **kwargs):\n",
    "        self.m1 = mensaje1\n",
    "    def foo(self):\n",
    "        print(self.m1)"
   ]
  },
  {
   "cell_type": "code",
   "execution_count": 8,
   "metadata": {
    "slideshow": {
     "slide_type": "subslide"
    }
   },
   "outputs": [],
   "source": [
    "class Segundo(Primero):\n",
    "    def __init__(self, mensaje1='', mensaje2='', **kwargs):\n",
    "        super().__init__(mensaje1)\n",
    "        self.m2 = mensaje2\n",
    "\n",
    "    def foo(self):\n",
    "        super().foo()\n",
    "        print(self.m2)\n",
    "\n",
    "class Tercero(Primero):\n",
    "    def __init__(self, mensaje1='', mensaje3='', **kwargs):\n",
    "        super().__init__(mensaje1)\n",
    "        self.m3 = mensaje3\n",
    "\n",
    "    def foo(self):\n",
    "        super().foo()\n",
    "        print(self.m3)"
   ]
  },
  {
   "cell_type": "markdown",
   "metadata": {
    "slideshow": {
     "slide_type": "subslide"
    }
   },
   "source": [
    "Y el cuarto?\n",
    "\n",
    "```python\n",
    "class Cuarto(Segundo, Tercero):\n",
    "    def __init__(self, que_rayos_pongo_aqui):\n",
    "        pass\n",
    "```"
   ]
  },
  {
   "cell_type": "code",
   "execution_count": 9,
   "metadata": {
    "slideshow": {
     "slide_type": "fragment"
    }
   },
   "outputs": [
    {
     "name": "stdout",
     "output_type": "stream",
     "text": [
      "Helou\n",
      "\n",
      "Ciao\n",
      "\n"
     ]
    }
   ],
   "source": [
    "class Cuarto(Segundo, Tercero):\n",
    "    def __init__(self, *args, **kwargs):\n",
    "        super().__init__(*args, **kwargs)\n",
    "        self.m4 = args\n",
    "\n",
    "    def foo(self):\n",
    "        super().foo()\n",
    "        print(''.join(self.m4))\n",
    "ctr = Cuarto(mensaje1='Helou', mensaje2='Ciao', mensaje3='Ogbua!')\n",
    "ctr.foo()"
   ]
  },
  {
   "cell_type": "markdown",
   "metadata": {
    "slideshow": {
     "slide_type": "slide"
    }
   },
   "source": [
    "# Polimorfismo\n",
    "\n",
    "_Clases que tienen métodos y/o atributos iguales, pero que se comportan de forma distinta._  \n",
    "  \n",
    "Tal vez se entienda mejor con el ejemplo :)"
   ]
  },
  {
   "cell_type": "markdown",
   "metadata": {
    "slideshow": {
     "slide_type": "subslide"
    }
   },
   "source": [
    "- **Overriding:** \n",
    "- **Overloading:**"
   ]
  },
  {
   "cell_type": "markdown",
   "metadata": {
    "slideshow": {
     "slide_type": "subslide"
    }
   },
   "source": [
    "- **Overriding:** cuando se implementa un método en una subclase que \"invalida\" la implementación del mismo método en la super clase.  \n",
    "_Básicamente es sobreescribir un método de la clase Madre en la clase Hija para que funcione de distinta forma_.  \n",
    "\n",
    "- **Overloading:** definir un método con el mismo nombre pero con distinto número y tipo de argumentos.  \n",
    "_Python no soporta function overloading!!!!_\n"
   ]
  },
  {
   "cell_type": "markdown",
   "metadata": {
    "slideshow": {
     "slide_type": "subslide"
    }
   },
   "source": [
    "## Veamos un ejemplito :D"
   ]
  },
  {
   "cell_type": "code",
   "execution_count": 13,
   "metadata": {
    "slideshow": {
     "slide_type": "subslide"
    }
   },
   "outputs": [
    {
     "name": "stdout",
     "output_type": "stream",
     "text": [
      "<bound method EstudianteNormal.epoca_de_ies of <__main__.EstudianteNormal object at 0x108d2dc50>>\n",
      "<bound method EstudianteZen.epoca_de_ies of <__main__.EstudianteZen object at 0x108d2dd68>>\n",
      "<bound method EstudianteEnPanico.epoca_de_ies of <__main__.EstudianteEnPanico object at 0x108d2d1d0>>\n"
     ]
    }
   ],
   "source": [
    "class EstudianteNormal:\n",
    "    def epoca_de_ies(self):\n",
    "        print('Debería haber empezado a estudiar antes :O')\n",
    "        \n",
    "class EstudianteZen(EstudianteNormal):\n",
    "    def epoca_de_ies(self):\n",
    "        print('Todo va a estar bien :) Estudie con anticipación')\n",
    "\n",
    "class EstudianteEnPanico(EstudianteNormal):\n",
    "    def epoca_de_ies(self):\n",
    "        print('AAAYUUUUUDAAAAAAA!!!!')\n",
    "\n",
    "Nico = EstudianteNormal()\n",
    "Feña = EstudianteZen()\n",
    "Iri = EstudianteEnPanico()\n",
    "print(Nico.epoca_de_ies)\n",
    "print(Feña.epoca_de_ies)\n",
    "print(Iri.epoca_de_ies)\n",
    "### Pregunta: Por qué se imprime eso? :O"
   ]
  },
  {
   "cell_type": "code",
   "execution_count": 14,
   "metadata": {
    "scrolled": true,
    "slideshow": {
     "slide_type": "subslide"
    }
   },
   "outputs": [
    {
     "name": "stdout",
     "output_type": "stream",
     "text": [
      "Debería haber empezado a estudiar antes :O\n",
      "None\n",
      "Todo va a estar bien :) Estudie con anticipación\n",
      "None\n",
      "AAAYUUUUUDAAAAAAA!!!!\n",
      "None\n"
     ]
    }
   ],
   "source": [
    "print(Nico.epoca_de_ies())\n",
    "print(Feña.epoca_de_ies())\n",
    "print(Iri.epoca_de_ies())\n",
    "### Pregunta: Por qué imprime 3 veces None?"
   ]
  },
  {
   "cell_type": "code",
   "execution_count": 15,
   "metadata": {
    "slideshow": {
     "slide_type": "subslide"
    }
   },
   "outputs": [
    {
     "name": "stdout",
     "output_type": "stream",
     "text": [
      "Debería haber empezado a estudiar antes :O\n",
      "Todo va a estar bien :) Estudie con anticipación\n",
      "AAAYUUUUUDAAAAAAA!!!!\n"
     ]
    }
   ],
   "source": [
    "Nico.epoca_de_ies()\n",
    "Feña.epoca_de_ies()\n",
    "Iri.epoca_de_ies()"
   ]
  },
  {
   "cell_type": "markdown",
   "metadata": {
    "slideshow": {
     "slide_type": "slide"
    }
   },
   "source": [
    "## Caso especial: _duck typing_\n",
    "\n",
    "_If it walks like a duck and quacks like a duck then it is a duck._"
   ]
  },
  {
   "cell_type": "code",
   "execution_count": 16,
   "metadata": {
    "slideshow": {
     "slide_type": "subslide"
    }
   },
   "outputs": [
    {
     "name": "stdout",
     "output_type": "stream",
     "text": [
      "Quack!\n",
      "caminando como un pato...\n",
      "Ahhh!\n",
      "caminando como un humano...\n"
     ]
    }
   ],
   "source": [
    "# Ejemplo de los contenidos\n",
    "class Pato:\n",
    "    def gritar(self):\n",
    "        print(\"Quack!\")\n",
    "    def caminar(self):\n",
    "        print(\"caminando como un pato...\")        \n",
    "    \n",
    "class Persona:\n",
    "    def gritar(self):\n",
    "        print(\"Ahhh!\")\n",
    "    def caminar(self):\n",
    "        print(\"caminando como un humano...\")        \n",
    "\n",
    "def activar(pato):\n",
    "    pato.gritar()\n",
    "    pato.caminar()\n",
    "\n",
    "donald = Pato()\n",
    "juan = Persona()\n",
    "activar(donald)\n",
    "activar(juan)"
   ]
  },
  {
   "cell_type": "markdown",
   "metadata": {
    "slideshow": {
     "slide_type": "slide"
    }
   },
   "source": [
    "# Clases abstractas\n",
    "\n",
    "- Objetivo: ahorrarnos escribir una y otra vez métodos y atributos que se repiten en las subclases.\n",
    "- Deben instanciarse las subclases, no las clases abstractas.\n",
    "- Hay métodos normales (clase abstracta) y métodos abstractos (se implementan en cada subclase)."
   ]
  },
  {
   "cell_type": "code",
   "execution_count": 24,
   "metadata": {
    "slideshow": {
     "slide_type": "subslide"
    }
   },
   "outputs": [
    {
     "name": "stdout",
     "output_type": "stream",
     "text": [
      "hola\n",
      "adios\n"
     ]
    }
   ],
   "source": [
    "# Ejemplo de los contenidos\n",
    "from abc import ABCMeta, abstractmethod\n",
    "\n",
    "class Base(metaclass=ABCMeta):\n",
    "    @abstractmethod\n",
    "    def func_1(self):\n",
    "        print('holahola')\n",
    "\n",
    "    @abstractmethod\n",
    "    def func_2(self):\n",
    "        print('adiosadios')\n",
    "\n",
    "class SubClase(Base):\n",
    "    \n",
    "    def func_1(self):\n",
    "        print('hola')\n",
    "\n",
    "    def func_2(self):\n",
    "        print('adios')\n",
    "\n",
    "        \n",
    "# Juguemos con las posibilidades: salir de pantalla completa\n",
    "c = SubClase()\n",
    "c.func_1()\n",
    "c.func_2()"
   ]
  },
  {
   "cell_type": "markdown",
   "metadata": {
    "slideshow": {
     "slide_type": "slide"
    }
   },
   "source": [
    "# Diagrama de clases\n",
    "\n",
    "- Se compone de **clases** y **relaciones**."
   ]
  },
  {
   "attachments": {
    "Ejemplo%20material.png": {
     "image/png": "[encoded data removed]"
    }
   },
   "cell_type": "markdown",
   "metadata": {
    "slideshow": {
     "slide_type": "subslide"
    }
   },
   "source": [
    "Foto del material del estudio entregado.\n",
    "\n",
    "![Ejemplo%20material.png](attachment:Ejemplo%20material.png)"
   ]
  },
  {
   "cell_type": "markdown",
   "metadata": {
    "slideshow": {
     "slide_type": "slide"
    }
   },
   "source": [
    "# [AC05 2018-2](https://github.com/IIC2233/syllabus-2018-2/blob/master/Actividades/AC05/Enunciado.pdf)"
   ]
  },
  {
   "cell_type": "markdown",
   "metadata": {
    "slideshow": {
     "slide_type": "fragment"
    }
   },
   "source": [
    "Cuando Billis, el dios de la destrucción, llega a la Tierra para destruirla, la pandilla DragonCCball invoca a los poderosos supersaiyayines para detenerlo. Para que esta pandilla pueda simular quién ganará la batalla, Magnum, miembro jefe, le pide a los estudiantes de Programación Avanzada que realicen una modelación de la batalla que se realizará entre los Billis y los supersaiyayines."
   ]
  },
  {
   "cell_type": "markdown",
   "metadata": {
    "slideshow": {
     "slide_type": "subslide"
    }
   },
   "source": [
    "**Pro tip**(_el primero es gratis_): Buscar, si el caso lo amerita, por clases abstractas!"
   ]
  },
  {
   "cell_type": "markdown",
   "metadata": {
    "slideshow": {
     "slide_type": "slide"
    }
   },
   "source": [
    "## Personajes\n",
    "**Humano**: Ellos son los habitantes originarios del planeta Tierra. Por lo general, tienen un _ki_ bajo, pero esto es compensado gracias a su inteligencia. A menos que se especifique, la inteligencia de un humano cualquiera tiene el valor de 100. Esta especie ha llegado a controlar la mayor parte del universo conocido. Además los humanos pueden incrementar su _ki_ meditando."
   ]
  },
  {
   "cell_type": "markdown",
   "metadata": {
    "slideshow": {
     "slide_type": "subslide"
    }
   },
   "source": [
    "**Extraterrestre**: Como su nombre lo indica, estos son los seres que no son originarios de la Tierra. Tienen la particularidad de que, al atacar, aumentan su fuerza, por lo que con cada ataque se vuelven más poderosos."
   ]
  },
  {
   "cell_type": "markdown",
   "metadata": {
    "slideshow": {
     "slide_type": "subslide"
    }
   },
   "source": [
    "**Supersaiyayin**: Ellos son los _buenos_ de la batalla y se caracterizan por ser una mezcla entre humanos y extraterrestres. Tienen apariencia humana, pero poseen una cola; cuando la pierden su resistencia disminuye en un 60\\%. Son poderosos, pues su parte extraterrestre es la que predomina cuando atacan."
   ]
  },
  {
   "cell_type": "markdown",
   "metadata": {
    "slideshow": {
     "slide_type": "subslide"
    }
   },
   "source": [
    "**Hakashi**: Estos extraterrestres son los entes _malévolos_ de la galaxia. Su ventaja durante una batalla radica en que tienen la habilidad de robar el _ki_ de sus oponentes."
   ]
  },
  {
   "cell_type": "markdown",
   "metadata": {
    "slideshow": {
     "slide_type": "slide"
    }
   },
   "source": [
    "## Funciones\n",
    "\n",
    " - Para los **humanos**:\n",
    " \n",
    "`def atacar(self, enemigo)`: Este ataque le quita a la vida del enemigo.\n",
    "        $$ \n",
    "        \\text{pérdida de vida} \\\\= ki \\times \\frac{(1 + \\text{fuerza_atacante} - \\text{resistencia_enemigo})}{2} $$\n",
    "        \n",
    "Deberá imprimir en pantalla el daño que se le hizo al enemigo, de la siguiente manera:\n",
    "        \n",
    "`\"{nombre_atacante} le quita {vida_perdida} de vida a {enemigo_nombre}\"`\n",
    "    "
   ]
  },
  {
   "cell_type": "markdown",
   "metadata": {
    "slideshow": {
     "slide_type": "slide"
    }
   },
   "source": [
    "        \n",
    "`def meditar(self)`: Cada vez que se invoca, mejora el _ki_ del personaje según la fórmula:\n",
    "$$\\Delta ki = \\frac{\\text{inteligencia}}{100}$$\n",
    "        \n",
    "Deberá imprimir en pantalla `\"Yo {nombre} estoy meditando!\"`."
   ]
  },
  {
   "cell_type": "markdown",
   "metadata": {
    "slideshow": {
     "slide_type": "slide"
    }
   },
   "source": [
    "- Para los **extraterrestres**:\n",
    "\n",
    "`def atacar(self, enemigo)`: Este ataque le quita a la vida del enemigo:\n",
    "        \n",
    "$$  \\text{pérdida de vida} \\\\= ki \\times (1 + \\text{fuerza_atacante} - \\text{resistencia_enemigo}) $$\n",
    "        \n",
    "Además, al atacar aumentan su fuerza en un 30\\%. Se deberá mostrar en pantalla el daño que se le hizo al enemigo, de la siguiente manera:\n",
    "\n",
    "`\"{nombre_atacante} le quita {vida_perdida} de vida a {enemigo_nombre}\"`"
   ]
  },
  {
   "cell_type": "markdown",
   "metadata": {
    "slideshow": {
     "slide_type": "slide"
    }
   },
   "source": [
    "- Para los **supersaiyayines**:\n",
    "\n",
    "`def perder_cola(self)`: El _supersaiyayin_ pierde su cola y su resistencia disminuye en un 60%."
   ]
  },
  {
   "cell_type": "markdown",
   "metadata": {
    "slideshow": {
     "slide_type": "slide"
    }
   },
   "source": [
    "- Para los **hakashis**:\n",
    "\n",
    "`def robar_ki(self, adversarios)`: Esta función recibe una cantidad arbitraria de seres que posean _ki_ y le quita el 50% del _ki_ a estos, quedándose con el _ki_ robado."
   ]
  },
  {
   "cell_type": "code",
   "execution_count": 1,
   "metadata": {
    "slideshow": {
     "slide_type": "slide"
    }
   },
   "outputs": [
    {
     "name": "stdout",
     "output_type": "stream",
     "text": [
      "<bound method Extraterrestre.atacar of <__main__.Supersaiyayin object at 0x1023f5048>>\n"
     ]
    }
   ],
   "source": [
    "from abc import ABC, abstractmethod\n",
    "\n",
    "# IMPORTANTE: La clase abstracta Ser hereda de ABC. \n",
    "# Esto es para que no se instancien objetos de una clase abstracta.\n",
    "# SI es necesario hacer super().__init__(*args, **kwargs)\n",
    "\n",
    "class Ser(ABC):\n",
    "    def __init__(self, nombre, fuerza, resistencia, ki, vida,\n",
    "                 *args, **kwargs):\n",
    "        super().__init__(*args, **kwargs)\n",
    "        self.nombre = nombre\n",
    "        self.fuerza = fuerza\n",
    "        self.resistencia = resistencia\n",
    "        self.ki = ki\n",
    "        self._vida = vida\n",
    "\n",
    "    @property\n",
    "    def vida(self):\n",
    "        return self._vida\n",
    "    \n",
    "    # Recordar que vida es una property para poder controlar\n",
    "    # automaticamente (con el .setter) el valor minimo que \n",
    "    # puede tomar.\n",
    "    \n",
    "    @vida.setter\n",
    "    def vida(self, value):\n",
    "        self._vida = max(value, 0)\n",
    "\n",
    "    # Recordar que los metodos abstractos deben ser \n",
    "    # reescritos en las clases hijas no abstractas.\n",
    "    @abstractmethod\n",
    "    def atacar(self, enemigo):\n",
    "        pass\n",
    "\n",
    "\n",
    "class Humano(Ser):\n",
    "\n",
    "    def __init__(self, *args, inteligencia=100, **kwargs):\n",
    "        super().__init__(*args, **kwargs)\n",
    "        self.inteligencia = inteligencia\n",
    "\n",
    "    def meditar(self):\n",
    "        self.ki += self.inteligencia / 100\n",
    "        print(f\"Yo {self.nombre} estoy meditando!\")\n",
    "\n",
    "    def atacar(self, enemigo):\n",
    "        daño = self.ki * (1 + self.fuerza - enemigo.resistencia) / 2\n",
    "        enemigo.vida -= daño\n",
    "        print(f\"{self.nombre} le quita {daño} de vida a {enemigo.nombre}\")\n",
    "\n",
    "\n",
    "class Extraterrestre(Ser):\n",
    "\n",
    "    def __init__(self, *args, **kwargs):\n",
    "        super().__init__(*args, **kwargs)\n",
    "\n",
    "    def atacar(self, enemigo):\n",
    "        daño = self.ki * (1 + self.fuerza - enemigo.resistencia)\n",
    "        enemigo.vida -= daño\n",
    "        print(f\"{self.nombre} le quita {daño} de vida a {enemigo.nombre}\")\n",
    "        self.fuerza *= 1.3\n",
    "\n",
    "\n",
    "# Supersaiyayin y Hakashi no tienen metodo atacar porque\n",
    "# lo heredan de sus clases madres.\n",
    "\n",
    "class Supersaiyayin(Extraterrestre, Humano):\n",
    "    # En este caso, se hereda el método atacar\n",
    "    # de la clase que esta escrita primero. \n",
    "    # Entonces Supersaiyayin ataca como un ET.\n",
    "    # Pueden verificarlo en el print que hay al\n",
    "    # final del código.\n",
    "    def __init__(self, *args, **kwargs):\n",
    "        super().__init__(*args, **kwargs)\n",
    "        self._tiene_cola = True\n",
    "\n",
    "    def perder_cola(self):\n",
    "        if not self._tiene_cola:\n",
    "            return\n",
    "\n",
    "        self._tiene_cola = False\n",
    "        self.resistencia *= 0.4\n",
    "\n",
    "\n",
    "class Hakashi(Extraterrestre):\n",
    "\n",
    "    def robar_ki(self, adversarios):\n",
    "        ki_robado = 0.5 * sum(adversario.ki for adversario in adversarios)\n",
    "        self.ki += ki_robado\n",
    "\n",
    "        for adversario in adversarios:\n",
    "            adversario.ki *= 0.5\n",
    "\n",
    "\n",
    "if __name__ == '__main__':\n",
    "    # Instanciamos los personajes pedidos\n",
    "    yamcha = Humano(\n",
    "        nombre=\"Yamcha\", resistencia=0.2, fuerza=0.3, vida=500, ki=10,\n",
    "        inteligencia=50)\n",
    "    johnny = Supersaiyayin(\n",
    "        nombre=\"Johnny\", resistencia=0.4, fuerza=0.6, vida=900, ki=20,\n",
    "        inteligencia=30)\n",
    "    chaobug = Supersaiyayin(\n",
    "        nombre=\"Chaobug\", resistencia=0.7, fuerza=0.5, vida=1000, ki=30,\n",
    "        inteligencia=20)\n",
    "    popa = Hakashi(\n",
    "        nombre=\"Popa\", resistencia=0.6, fuerza=0.4, vida=500, ki=20)\n",
    "    billis = Hakashi(\n",
    "        nombre=\"Billis\", resistencia=0.8, fuerza=0.9, vida=1000, ki=20)\n",
    "    \n",
    "    print(chaobug.atacar)\n"
   ]
  },
  {
   "cell_type": "markdown",
   "metadata": {},
   "source": [
    "## No olviden responder el [feedback](https://goo.gl/forms/aFpTe9LGx9ObcMBu1)!\n",
    "# Gracias"
   ]
  }
 ],
 "metadata": {
  "celltoolbar": "Slideshow",
  "kernelspec": {
   "display_name": "Python 3",
   "language": "python",
   "name": "python3"
  },
  "language_info": {
   "codemirror_mode": {
    "name": "ipython",
    "version": 3
   },
   "file_extension": ".py",
   "mimetype": "text/x-python",
   "name": "python",
   "nbconvert_exporter": "python",
   "pygments_lexer": "ipython3",
   "version": "3.6.6"
  }
 },
 "nbformat": 4,
 "nbformat_minor": 2
}
