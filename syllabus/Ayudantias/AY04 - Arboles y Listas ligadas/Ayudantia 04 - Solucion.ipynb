{
 "cells": [
  {
   "cell_type": "markdown",
   "metadata": {},
   "source": [
    "# Ayudantía 04 - Estructuras Nodales I\n",
    "\n",
    "__Autores: Christian Eilers (@tatanpoker) y Dante Pinto (@drpinto1)__\n",
    "\n",
    "\n",
    "# Recuerda responder el [Feedback](https://forms.gle/vAz7o3Etsh427bKv5) :D"
   ]
  },
  {
   "cell_type": "markdown",
   "metadata": {},
   "source": [
    "## Repaso *Recursión*:\n",
    "\n",
    "### ¿Qué es la recursión?\n",
    "_Una manera de resolver un problema donde la solución depende de instancias más pequeñas del mismo problema_\n",
    "\n",
    "### ¿Qué es un algoritmo recursivo?\n",
    "_Un algoritmo que soluciona un problema, llamándose a sí mismo_"
   ]
  },
  {
   "cell_type": "markdown",
   "metadata": {},
   "source": [
    "## Ejemplo clásico:\n",
    "\n",
    "### Definir el factorial\n",
    "\n",
    "n! = n * (n-1) * (n-2) * ... * 2 * 1"
   ]
  },
  {
   "cell_type": "code",
   "execution_count": null,
   "metadata": {},
   "outputs": [],
   "source": [
    "# Factorial iterativo\n",
    "def factorial(n):\n",
    "    value = 1\n",
    "    for i in range(1, n+1):\n",
    "        value *= i\n",
    "    return value\n",
    "        \n",
    "print(factorial(2))\n",
    "print(factorial(5))"
   ]
  },
  {
   "cell_type": "code",
   "execution_count": null,
   "metadata": {},
   "outputs": [],
   "source": [
    "# Bonus: Factorial iterativo, programación funcional\n",
    "from functools import reduce\n",
    "\n",
    "def factorial(n):\n",
    "    return reduce(lambda x, y : x * y, (i+1 for i in range(n)))\n",
    "\n",
    "print(factorial(2))\n",
    "print(factorial(5))"
   ]
  },
  {
   "cell_type": "code",
   "execution_count": null,
   "metadata": {},
   "outputs": [],
   "source": [
    "# Factorial recursivo MALO\n",
    "def factorial(n):\n",
    "    return n * factorial(n-1)\n",
    "\n",
    "print(factorial(2))\n",
    "print(factorial(5))"
   ]
  },
  {
   "cell_type": "markdown",
   "metadata": {},
   "source": [
    "## ¡Recuerden que para que la recursión termine, se necesita un caso base!"
   ]
  },
  {
   "cell_type": "code",
   "execution_count": null,
   "metadata": {},
   "outputs": [],
   "source": [
    "# Factorial recursivo\n",
    "def factorial(n):\n",
    "    if n == 1:\n",
    "        return 1\n",
    "    return n * factorial(n-1)\n",
    "\n",
    "print(factorial(2))\n",
    "print(factorial(5))"
   ]
  },
  {
   "cell_type": "markdown",
   "metadata": {},
   "source": [
    "### En conclusión:\n",
    "Una función recursiva debe contener dos cosas\n",
    "* Una llamada a sí misma (que reduzca el problema)\n",
    "* Un caso base (para que la función termine de ejcutarse)"
   ]
  },
  {
   "cell_type": "markdown",
   "metadata": {},
   "source": [
    "# Listas Ligadas\n",
    "## Podemos crear las listas ligadas de dos maneras\n",
    "### Manera 1: Usando la clase Nodo como lista ligada"
   ]
  },
  {
   "cell_type": "code",
   "execution_count": null,
   "metadata": {},
   "outputs": [],
   "source": [
    "class Node:\n",
    "    def __init__(self, value=None, next_node=None):\n",
    "        self.value = value\n",
    "        self.next_node = next_node\n",
    "        \n",
    "    def append(self, value):\n",
    "        if not self.next_node:\n",
    "            self.next_node = Node(value)\n",
    "        else:\n",
    "            self.next_node.append(value)\n",
    "            \n",
    "    def __str__(self):\n",
    "        if not self.next_node:\n",
    "            return str(self.value)\n",
    "        else:\n",
    "            return f'{self.value} -> {str(self.next_node)}'\n",
    "\n",
    "linked_list = Node(0)\n",
    "print(linked_list)\n",
    "\n",
    "linked_list.append(3)\n",
    "linked_list.append(9)\n",
    "linked_list.append(12)\n",
    "print(linked_list)"
   ]
  },
  {
   "cell_type": "markdown",
   "metadata": {},
   "source": [
    "### Manera 2: Creando la clase Lista Ligada (además de la clase nodo)"
   ]
  },
  {
   "cell_type": "code",
   "execution_count": null,
   "metadata": {},
   "outputs": [],
   "source": [
    "class Node:\n",
    "    def __init__(self, value=None, next_node=None):\n",
    "        self.value = value\n",
    "        self.next_node = next_node\n",
    "        \n",
    "class LinkedList:\n",
    "    def __init__(self, head=None):\n",
    "        if head is None:\n",
    "            self.head = None\n",
    "        else:\n",
    "            self.head = Node(head)\n",
    "        self.tail = self.head\n",
    "        \n",
    "    def append(self, value):\n",
    "        if self.head is None:\n",
    "            self.head = Node(value)\n",
    "            self.tail = self.head\n",
    "        else:\n",
    "            self.tail.next_node = Node(value)\n",
    "            self.tail = self.tail.next_node\n",
    "            \n",
    "    def __str__(self):\n",
    "        ret = f'{self.head.value}'\n",
    "        current_node = self.head\n",
    "        while current_node.next_node:\n",
    "            current_node = current_node.next_node\n",
    "            ret += f' -> {current_node.value}'\n",
    "        return ret\n",
    "\n",
    "linked_list = LinkedList(0)\n",
    "print(linked_list)\n",
    "linked_list.append(3)\n",
    "linked_list.append(9)\n",
    "linked_list.append(12)\n",
    "print(linked_list)"
   ]
  },
  {
   "cell_type": "markdown",
   "metadata": {},
   "source": [
    "## Listas doblemente ligadas\n",
    "\n",
    "Existe una variación de las listas ligadas, que se conoce cómo listas doblemente ligadas.\n",
    "La diferencia con las listas ligadas, es que en lugar de guardar sólamente el nodo siguiente, cada uno de los nodos de dicha lista, guarda dos referencias, una al nodo siguiente y una al nodo anterior."
   ]
  },
  {
   "cell_type": "code",
   "execution_count": null,
   "metadata": {},
   "outputs": [],
   "source": [
    "# Nodo ejemplo de una lista doblemente ligada\n",
    "class Node:\n",
    "    def __init__(self, value=None, next_node=None, prev_node=None):\n",
    "        self.value = value\n",
    "        self.next_node = next_node\n",
    "        self.prev_node = prev_node"
   ]
  },
  {
   "cell_type": "markdown",
   "metadata": {},
   "source": [
    "# Árboles\n",
    "Lo Árboles son básicamente listas ligadas, en que cada nodo puede tener más de un nodo siguiente. Lo anterior lo pueden pensar como una generalización de las listas ligadas, es decir, una lista ligada es un caso particuar de árbol, en que cada nodo tiene solo un \"nodo hijo\", llamado \"nodo siguiente\".\n",
    "\n",
    "Se pueden crear de las mismas dos maneras que las listas ligadas; en esta ayudantía veremos la manera 1 (solo con nodos), pero la manera 2 es análoga a la vista en la sección anterior."
   ]
  },
  {
   "cell_type": "code",
   "execution_count": null,
   "metadata": {},
   "outputs": [],
   "source": [
    "class Node:\n",
    "    def __init__(self, key, value=None, parent=None, childs=None):\n",
    "        self.key = key\n",
    "        self.value = value\n",
    "        self.parent = parent\n",
    "        self.childs = set() if not childs else childs\n",
    "        \n",
    "    def get_node(self, key):\n",
    "        if self.key == key:\n",
    "            return self\n",
    "        else:\n",
    "            for child in self.childs:\n",
    "                node = child.get_node(key)\n",
    "                if node:\n",
    "                    return node\n",
    "        return None\n",
    "    \n",
    "    def add_node(self, key, value, parent_key):\n",
    "        parent_node = self.get_node(parent_key)\n",
    "        if parent_node:\n",
    "            parent_node.childs.add(Node(key, value, parent_node, set()))\n",
    "            \n",
    "    def __str__(self):\n",
    "        ret = f'key:{self.key}, value:{self.value}'\n",
    "        if self.childs:\n",
    "            for child in self.childs:\n",
    "                ret += f'\\n{str(child)}'\n",
    "        return ret\n",
    "    \n",
    "\n",
    "tree = Node(0, 0)\n",
    "tree.add_node(1, 1, 0)\n",
    "tree.add_node(2, 2, 0)\n",
    "tree.add_node(3, 3, 1)\n",
    "tree.add_node(4, 4, 1)\n",
    "tree.add_node(5, 5, 2)\n",
    "tree.add_node(6, 6, 3)\n",
    "\n",
    "print(tree)"
   ]
  },
  {
   "cell_type": "markdown",
   "metadata": {},
   "source": [
    "### DFS v/s BFS\n",
    "\n",
    "Truco de memoria: Para ayudarles a recordar a qué algoritmo corresponde qué nombre, pueden pensar que la B en BFS viene de \"Brother\" y la D en DFS viene de \"Down\" (en realidad vienen de Breadth y Depth)\n",
    "\n",
    "BFS: Recorre por capas, se recorre por generación de nodos \"hermanos\".\n",
    "\n",
    "DFS: Recorre por ramas, se recorre bajando hasta el fondo del árbol."
   ]
  },
  {
   "cell_type": "markdown",
   "metadata": {},
   "source": [
    "# Actividad de ejemplo\n",
    "### Actividad 128, IIC2233 - 2063.1\n",
    "\n",
    "El málvado doctor Herny publicó un archivo malicioso ~~llamado enunciado_tarea.pdf~~, que borraba por completo no solo los datos guardados en los computadores de los afectados, si no también el propio sistmea de almacenamiento de archivos y será tu misión como alumno de IIC2233 ayudar a restaurarlo!"
   ]
  },
  {
   "cell_type": "markdown",
   "metadata": {},
   "source": [
    "### Funcionalidades\n",
    "El sistema de información que crees debe estar basado en estructuras nodales, debe ser capaz de almacenar archivos con sus respectivos nombres y pesos y debe ser además implementar los siguientes comandos:\n",
    "\n",
    "* ls: muestra la lista de archivos/carpetas dentro de la carpeta actual\n",
    "* cd: cambia de directorio\n",
    "* pwd: muestra el path al directorio actual\n",
    "* mkdir: crea un nuevo directorio\n",
    "* rm: elimina un archivo/directorio\n",
    "* size: retorna el tamaño de la carpeta en KB\n"
   ]
  },
  {
   "cell_type": "code",
   "execution_count": null,
   "metadata": {},
   "outputs": [],
   "source": [
    "class Folder:\n",
    "    def __init__(self, name, size=0, parent_folder=None, sub_folders=None, is_folder=True):\n",
    "        self.name = name\n",
    "        self._size = size\n",
    "        self.parent_folder = parent_folder\n",
    "        self.sub_folders = list() if not sub_folders else sub_folders\n",
    "        self.is_folder = is_folder\n",
    "        \n",
    "    @property\n",
    "    def size(self):\n",
    "        if not self.is_folder or not self.sub_folders:\n",
    "            return self._size\n",
    "        else:\n",
    "            return sum((folder.size for folder in self.sub_folders))\n",
    "        \n",
    "    def mkdir(self, name, size, is_folder=True):\n",
    "        self.sub_folders.append(Folder(name, size, parent_folder=self, is_folder=True))\n",
    "        \n",
    "    def pwd(self):\n",
    "        if self.parent_folder:\n",
    "            return pwd(self.parent_folder) + f'/{self.name}'\n",
    "        else:\n",
    "            return f'/{self.name}'\n",
    "\n",
    "    def ls(self):\n",
    "        folder_list = [f.name for f in self.sub_folders] if self.sub_folders else ''\n",
    "        return folder_list\n",
    "\n",
    "    def cd(self, folder_name):\n",
    "        folder_list = self.ls()\n",
    "        if folder_list and folder_name in folder_list:\n",
    "            return self.sub_folders[folder_list.index(folder_name)]\n",
    "        else:\n",
    "            return None    \n",
    "\n",
    "    def rm(self, folder_name):\n",
    "        folder = self.cd(folder_name)\n",
    "        if folder:\n",
    "            self.sub_folders.remove(folder)\n",
    "\n",
    "# MAIN CODE -\n",
    "current_folder = Folder('root', 0)\n",
    "current_folder.mkdir('user', 0)\n",
    "current_folder.mkdir('lib', 0)\n",
    "\n",
    "print(current_folder.pwd())\n",
    "print(current_folder.ls())\n",
    "print(current_folder.size)\n",
    "\n",
    "\n",
    "current_folder = current_folder.cd('user')\n",
    "current_folder.mkdir('ayudantia.txt', 500)\n",
    "current_folder.mkdir('jeje.csv', 500)\n",
    "\n",
    "print(current_folder.pwd())\n",
    "print(current_folder.ls())\n",
    "print(current_folder.size)\n",
    "\n",
    "\n",
    "current_folder.rm('ayudantia.txt')\n",
    "print(current_folder.pwd())\n",
    "print(current_folder.ls())\n",
    "print(current_folder.size)"
   ]
  }
 ],
 "metadata": {
  "kernelspec": {
   "display_name": "Python 3",
   "language": "python",
   "name": "python3"
  },
  "language_info": {
   "codemirror_mode": {
    "name": "ipython",
    "version": 3
   },
   "file_extension": ".py",
   "mimetype": "text/x-python",
   "name": "python",
   "nbconvert_exporter": "python",
   "pygments_lexer": "ipython3",
   "version": "3.6.7"
  }
 },
 "nbformat": 4,
 "nbformat_minor": 2
}
