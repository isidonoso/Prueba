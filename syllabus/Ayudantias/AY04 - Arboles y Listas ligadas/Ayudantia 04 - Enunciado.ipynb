{
 "cells": [
  {
   "cell_type": "markdown",
   "metadata": {},
   "source": [
    "# Ayudantía 04 - Estructuras Nodales \n",
    "__Autores: Christian Eilers (@tatanpoker) y Dante Pinto (@drpinto1)__"
   ]
  },
  {
   "cell_type": "markdown",
   "metadata": {},
   "source": [
    "### Actividad 128, IIC2233 - 2063.1\n",
    "\n",
    "El málvado doctor Herny publicó un archivo malicioso ~~llamado enunciado_tarea.pdf~~, que borraba por completo no solo los datos guardados en los computadores de los afectados, si no también el propio sistmea de almacenamiento de archivos y será tu misión como alumno de IIC2233 ayudar a restaurarlo!"
   ]
  },
  {
   "cell_type": "markdown",
   "metadata": {},
   "source": [
    "## Funcionalidades¶\n",
    "El sistema de información que crees debe estar basado en estructuras nodales, debe ser capaz de almacenar archivos con sus respectivos nombres y pesos y debe ser además implementar los siguientes comandos:\n",
    "\n",
    "- ls: muestra la lista de archivos/carpetas dentro de la carpeta actual\n",
    "- cd: cambia de directorio\n",
    "- pwd: muestra el path al directorio actual\n",
    "- mkdir: crea un nuevo directorio\n",
    "- rm: elimina un archivo/directorio\n",
    "- size: retorna el tamaño de la carpeta en KB"
   ]
  },
  {
   "cell_type": "code",
   "execution_count": 4,
   "metadata": {},
   "outputs": [],
   "source": [
    "class Folder:\n",
    "    def __init__(self, name, size=0, parent_folder=None, sub_folders=None, is_folder=True):\n",
    "        pass\n",
    "        \n",
    "    @property\n",
    "    def size(self):\n",
    "        pass\n",
    "        \n",
    "    def mkdir(self, name, size, is_folder=True):\n",
    "        pass\n",
    "    \n",
    "    def pwd(self):\n",
    "        pass\n",
    "\n",
    "    def ls(self):\n",
    "        pass\n",
    "    \n",
    "    def cd(self, folder_name):\n",
    "           pass\n",
    "\n",
    "    def rm(self, folder_name):\n",
    "        pass"
   ]
  },
  {
   "cell_type": "code",
   "execution_count": 5,
   "metadata": {},
   "outputs": [],
   "source": [
    "# Ahora probemos lo que hicimos!"
   ]
  },
  {
   "cell_type": "code",
   "execution_count": null,
   "metadata": {},
   "outputs": [],
   "source": []
  }
 ],
 "metadata": {
  "kernelspec": {
   "display_name": "Python 3",
   "language": "python",
   "name": "python3"
  },
  "language_info": {
   "codemirror_mode": {
    "name": "ipython",
    "version": 3
   },
   "file_extension": ".py",
   "mimetype": "text/x-python",
   "name": "python",
   "nbconvert_exporter": "python",
   "pygments_lexer": "ipython3",
   "version": "3.6.4"
  }
 },
 "nbformat": 4,
 "nbformat_minor": 2
}
