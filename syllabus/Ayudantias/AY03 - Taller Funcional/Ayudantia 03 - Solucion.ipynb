{
 "cells": [
  {
   "cell_type": "markdown",
   "metadata": {
    "slideshow": {
     "slide_type": "slide"
    }
   },
   "source": [
    "  # Taller Funcional\n",
    "### Michael Hund & María José Varela\n",
    "_Formulario de feedback:_ https://goo.gl/forms/aFpTe9LGx9ObcMBu1"
   ]
  },
  {
   "cell_type": "markdown",
   "metadata": {
    "slideshow": {
     "slide_type": "slide"
    }
   },
   "source": [
    "## Repaso funciones clásicas"
   ]
  },
  {
   "cell_type": "markdown",
   "metadata": {
    "slideshow": {
     "slide_type": "subslide"
    }
   },
   "source": [
    "### 1. Lambda"
   ]
  },
  {
   "cell_type": "markdown",
   "metadata": {
    "slideshow": {
     "slide_type": "subslide"
    }
   },
   "source": [
    "- Python tiene funciones de ***primera clase*** mediante `def`."
   ]
  },
  {
   "cell_type": "code",
   "execution_count": 1,
   "metadata": {
    "slideshow": {
     "slide_type": "fragment"
    }
   },
   "outputs": [
    {
     "name": "stdout",
     "output_type": "stream",
     "text": [
      "3\n"
     ]
    }
   ],
   "source": [
    "def sumar(a, b): # Como variable\n",
    "    return a + b\n",
    "\n",
    "mi_funcion = sumar\n",
    "print(mi_funcion(1, 2))"
   ]
  },
  {
   "cell_type": "code",
   "execution_count": 2,
   "metadata": {
    "slideshow": {
     "slide_type": "fragment"
    }
   },
   "outputs": [
    {
     "name": "stdout",
     "output_type": "stream",
     "text": [
      "6\n"
     ]
    }
   ],
   "source": [
    "def iteracion(funcion, lista): # Como parámetro\n",
    "    aux = 0\n",
    "    for elemento in lista:\n",
    "        aux = funcion(aux, elemento)\n",
    "    return aux\n",
    "\n",
    "print(iteracion(sumar, [1,2,3]))"
   ]
  },
  {
   "cell_type": "markdown",
   "metadata": {
    "slideshow": {
     "slide_type": "subslide"
    }
   },
   "source": [
    "- Pero también existen funciones ***anónimas***, definidas mediante `lambda <parámetros>: <retorno>`."
   ]
  },
  {
   "cell_type": "code",
   "execution_count": 3,
   "metadata": {
    "scrolled": true,
    "slideshow": {
     "slide_type": "fragment"
    }
   },
   "outputs": [
    {
     "name": "stdout",
     "output_type": "stream",
     "text": [
      "3\n"
     ]
    }
   ],
   "source": [
    "sumar_anonimo = lambda x, y: x + y # Se utilizan solo donde son creadas\n",
    "\n",
    "print(sumar_anonimo(1, 2))"
   ]
  },
  {
   "cell_type": "markdown",
   "metadata": {
    "slideshow": {
     "slide_type": "fragment"
    }
   },
   "source": [
    "- ¿Cuál es la diferencia?"
   ]
  },
  {
   "cell_type": "code",
   "execution_count": 4,
   "metadata": {
    "slideshow": {
     "slide_type": "fragment"
    }
   },
   "outputs": [
    {
     "name": "stdout",
     "output_type": "stream",
     "text": [
      "<function sumar at 0x0606DC00>\n",
      "<function <lambda> at 0x04BD16F0>\n"
     ]
    }
   ],
   "source": [
    "print(sumar)\n",
    "print(sumar_anonimo)"
   ]
  },
  {
   "cell_type": "markdown",
   "metadata": {
    "slideshow": {
     "slide_type": "subslide"
    }
   },
   "source": [
    "### 2. Map"
   ]
  },
  {
   "cell_type": "markdown",
   "metadata": {
    "slideshow": {
     "slide_type": "fragment"
    }
   },
   "source": [
    "- Recibe **una** función y **al menos** un iterable. Retorna un **generador** con los resultados de aplicar la función a **cada elemento**."
   ]
  },
  {
   "cell_type": "code",
   "execution_count": 5,
   "metadata": {
    "slideshow": {
     "slide_type": "fragment"
    }
   },
   "outputs": [],
   "source": [
    "mi_lista = [0, 1, 2, 3, 4] # Queremos sus valores al cuadrado, ¿es esta la forma óptima?"
   ]
  },
  {
   "cell_type": "code",
   "execution_count": 6,
   "metadata": {
    "slideshow": {
     "slide_type": "fragment"
    }
   },
   "outputs": [],
   "source": [
    "mi_lista = [x for x in range(5)] # Utilizando lista por comprensión "
   ]
  },
  {
   "cell_type": "code",
   "execution_count": 7,
   "metadata": {
    "slideshow": {
     "slide_type": "fragment"
    }
   },
   "outputs": [
    {
     "name": "stdout",
     "output_type": "stream",
     "text": [
      "[0, 1, 4, 9, 16]\n"
     ]
    }
   ],
   "source": [
    "def al_cuadrado(iterable): # Version 1.0\n",
    "    lista_auxiliar = []\n",
    "    for elemento in iterable:\n",
    "        lista_auxiliar.append(elemento**2)\n",
    "    return lista_auxiliar\n",
    "\n",
    "print(al_cuadrado(mi_lista))"
   ]
  },
  {
   "cell_type": "code",
   "execution_count": 8,
   "metadata": {
    "slideshow": {
     "slide_type": "fragment"
    }
   },
   "outputs": [
    {
     "name": "stdout",
     "output_type": "stream",
     "text": [
      "<map object at 0x062B9B90>\n",
      "[0, 1, 4, 9, 16]\n"
     ]
    }
   ],
   "source": [
    "al_cuadrado_pro = map(lambda x: x**2, mi_lista)\n",
    "\n",
    "print(al_cuadrado_pro)\n",
    "print(list(al_cuadrado_pro))"
   ]
  },
  {
   "cell_type": "markdown",
   "metadata": {
    "slideshow": {
     "slide_type": "subslide"
    }
   },
   "source": [
    "- Para trabajar con **más** de un iterable la función *lambda* deberá recibir el **mismo** número de parámetros que iterables, mientras que map iterará hasta el iterable de **menor** largo."
   ]
  },
  {
   "cell_type": "code",
   "execution_count": 9,
   "metadata": {
    "slideshow": {
     "slide_type": "fragment"
    }
   },
   "outputs": [
    {
     "name": "stdout",
     "output_type": "stream",
     "text": [
      "['Michael Hund', 'Maria Jose Varela']\n"
     ]
    }
   ],
   "source": [
    "nombres = (\"Michael\", \"Maria Jose\")\n",
    "apellidos = [\"Hund\", \"Varela\", \"Apellido sobrante\"]\n",
    "\n",
    "personas = map(lambda x, y: x + \" \" + y, nombres, apellidos)\n",
    "print(list(personas))"
   ]
  },
  {
   "cell_type": "markdown",
   "metadata": {
    "slideshow": {
     "slide_type": "subslide"
    }
   },
   "source": [
    "### 3. Filter"
   ]
  },
  {
   "cell_type": "markdown",
   "metadata": {
    "slideshow": {
     "slide_type": "fragment"
    }
   },
   "source": [
    "- Recibe **una** función (que retorne un **boolean**) y **un** iterable. Retorna un **generador** con los **elementos originales** del iterable siempre y cuando al aplicar la función a estos retorne **True**."
   ]
  },
  {
   "cell_type": "code",
   "execution_count": 10,
   "metadata": {
    "slideshow": {
     "slide_type": "fragment"
    }
   },
   "outputs": [
    {
     "name": "stdout",
     "output_type": "stream",
     "text": [
      "[1, 3]\n"
     ]
    }
   ],
   "source": [
    "def impares(iterable):\n",
    "    lista_auxiliar = []\n",
    "    for elemento in iterable:\n",
    "        if elemento % 2 != 0:\n",
    "            lista_auxiliar.append(elemento)\n",
    "    return lista_auxiliar\n",
    "\n",
    "print(impares(mi_lista))"
   ]
  },
  {
   "cell_type": "code",
   "execution_count": 11,
   "metadata": {
    "slideshow": {
     "slide_type": "fragment"
    }
   },
   "outputs": [
    {
     "name": "stdout",
     "output_type": "stream",
     "text": [
      "[1, 3]\n"
     ]
    }
   ],
   "source": [
    "impares_pro = filter(lambda x: x % 2 != 0, mi_lista)\n",
    "\n",
    "print(list(impares_pro))"
   ]
  },
  {
   "cell_type": "markdown",
   "metadata": {
    "slideshow": {
     "slide_type": "subslide"
    }
   },
   "source": [
    "### 4. Reduce"
   ]
  },
  {
   "cell_type": "markdown",
   "metadata": {
    "slideshow": {
     "slide_type": "fragment"
    }
   },
   "source": [
    "- Recibe **una** función (que recibe **dos** parámetros) y **un** iterable. Retorna lo que resulta de aplicar la función `f` al iterable `[s1, s2, s3, ..., sn]` de la siguiente forma: `f(f(f(f(s1, s2), s3), s4), s5), ...`."
   ]
  },
  {
   "cell_type": "code",
   "execution_count": 12,
   "metadata": {
    "slideshow": {
     "slide_type": "fragment"
    }
   },
   "outputs": [],
   "source": [
    "mi_frase = [\"Hola\",\"mis\",\"estimadisimos\",\"alumnos.\"]"
   ]
  },
  {
   "cell_type": "code",
   "execution_count": 13,
   "metadata": {
    "slideshow": {
     "slide_type": "fragment"
    }
   },
   "outputs": [
    {
     "name": "stdout",
     "output_type": "stream",
     "text": [
      " Hola mis estimadisimos alumnos.\n"
     ]
    }
   ],
   "source": [
    "def frase(iterable):\n",
    "    aux = \"\"\n",
    "    for elemento in iterable:\n",
    "        aux = aux + \" \" + elemento\n",
    "    return aux\n",
    "\n",
    "print(frase(mi_frase))"
   ]
  },
  {
   "cell_type": "code",
   "execution_count": 14,
   "metadata": {
    "slideshow": {
     "slide_type": "fragment"
    }
   },
   "outputs": [
    {
     "name": "stdout",
     "output_type": "stream",
     "text": [
      "Hola mis estimadisimos alumnos.\n"
     ]
    }
   ],
   "source": [
    "from functools import reduce\n",
    "frase_pro = reduce(lambda x, y: x + \" \" + y, mi_frase)\n",
    "print(frase_pro)"
   ]
  },
  {
   "cell_type": "markdown",
   "metadata": {
    "slideshow": {
     "slide_type": "subslide"
    }
   },
   "source": [
    "![](img/reduce.png)"
   ]
  },
  {
   "cell_type": "code",
   "execution_count": 15,
   "metadata": {
    "slideshow": {
     "slide_type": "subslide"
    }
   },
   "outputs": [
    {
     "name": "stdout",
     "output_type": "stream",
     "text": [
      "2\n"
     ]
    }
   ],
   "source": [
    "al_cuadrado = reduce(lambda x, y: x + y ** 2, [2]) # Ejecuta esta linda funcion\n",
    "print(al_cuadrado)"
   ]
  },
  {
   "cell_type": "markdown",
   "metadata": {
    "slideshow": {
     "slide_type": "fragment"
    }
   },
   "source": [
    "- ¿Qué pasó ahí?"
   ]
  },
  {
   "cell_type": "code",
   "execution_count": 16,
   "metadata": {
    "slideshow": {
     "slide_type": "fragment"
    }
   },
   "outputs": [
    {
     "name": "stdout",
     "output_type": "stream",
     "text": [
      "4\n"
     ]
    }
   ],
   "source": [
    "al_cuadrado = reduce(lambda x, y: x + y ** 2, [2], 0)\n",
    "print(al_cuadrado)"
   ]
  },
  {
   "cell_type": "markdown",
   "metadata": {
    "slideshow": {
     "slide_type": "fragment"
    }
   },
   "source": [
    "- Si el iterable es de un solo elemento reduce no aplicará la función a menos que exista un ***valor inicial***, que se ingresa como tercer parámetro."
   ]
  },
  {
   "cell_type": "markdown",
   "metadata": {
    "slideshow": {
     "slide_type": "slide"
    }
   },
   "source": [
    "## Funciones built-in de Python"
   ]
  },
  {
   "cell_type": "markdown",
   "metadata": {
    "slideshow": {
     "slide_type": "subslide"
    }
   },
   "source": [
    "###    1. Enumerate"
   ]
  },
  {
   "cell_type": "markdown",
   "metadata": {
    "slideshow": {
     "slide_type": "fragment"
    }
   },
   "source": [
    "- Recibe un **iterable** y genera **tuplas** en las que el primer elemento es el índice. Es necesario recorrerlo para tener acceso a su elementos."
   ]
  },
  {
   "cell_type": "code",
   "execution_count": 17,
   "metadata": {
    "slideshow": {
     "slide_type": "fragment"
    }
   },
   "outputs": [
    {
     "name": "stdout",
     "output_type": "stream",
     "text": [
      "0 -> a\n",
      "1 -> b\n",
      "2 -> c\n",
      "3 -> d\n",
      "4 -> e\n"
     ]
    }
   ],
   "source": [
    "for indice, letra in enumerate('abcde'):\n",
    "    print(f'{indice} -> {letra}')"
   ]
  },
  {
   "cell_type": "markdown",
   "metadata": {
    "slideshow": {
     "slide_type": "fragment"
    }
   },
   "source": [
    "- También nos da la opción de indicar desde que número empieza a contar (por default parte del 0)."
   ]
  },
  {
   "cell_type": "code",
   "execution_count": 18,
   "metadata": {
    "slideshow": {
     "slide_type": "fragment"
    }
   },
   "outputs": [
    {
     "name": "stdout",
     "output_type": "stream",
     "text": [
      "1) izquierda: <\n",
      "2) derecha: >\n",
      "3) arriba: ^\n",
      "4) abajo: v\n"
     ]
    }
   ],
   "source": [
    "mi_diccionario = {'izquierda':'<','derecha':'>','arriba':'^','abajo':'v'}\n",
    "\n",
    "for numero, llave in enumerate(mi_diccionario, 1):\n",
    "    print(f'{numero}) {llave}: {mi_diccionario[llave]}')"
   ]
  },
  {
   "cell_type": "markdown",
   "metadata": {
    "slideshow": {
     "slide_type": "subslide"
    }
   },
   "source": [
    "### Zip\n",
    "* Recibe 2 o más iterables y los agrupa según su posición.\n",
    "* Si alguno de los iterables es más largo que el otro zip agrupa solo la cantidad de elementos del **más corto**."
   ]
  },
  {
   "cell_type": "code",
   "execution_count": 19,
   "metadata": {
    "slideshow": {
     "slide_type": "fragment"
    }
   },
   "outputs": [
    {
     "data": {
      "text/plain": [
       "['1 - uno - one', '2 - dos - two', '3 - tres - three']"
      ]
     },
     "execution_count": 19,
     "metadata": {},
     "output_type": "execute_result"
    }
   ],
   "source": [
    "numeros = zip('123', ['uno','dos','tres'], {'one': 1, 'two': 2, 'three': 3})\n",
    "\n",
    "[' - '.join(n) for n in numeros]"
   ]
  },
  {
   "cell_type": "code",
   "execution_count": 20,
   "metadata": {
    "slideshow": {
     "slide_type": "fragment"
    }
   },
   "outputs": [
    {
     "name": "stdout",
     "output_type": "stream",
     "text": [
      "('Nombre', 'Apellido')\n",
      "('Leonardo', 'Dicaprio')\n",
      "('Tim', 'Robbins')\n",
      "('Natalie', 'Portman')\n"
     ]
    }
   ],
   "source": [
    "nombre = ['Nombre', 'Leonardo', 'Tim', 'Natalie']\n",
    "apellido = ['Apellido', 'Dicaprio', 'Robbins', 'Portman', 'Thurman']\n",
    "\n",
    "for nombres_completos in zip(nombre, apellido):\n",
    "    print(nombres_completos)"
   ]
  },
  {
   "cell_type": "markdown",
   "metadata": {
    "slideshow": {
     "slide_type": "subslide"
    }
   },
   "source": [
    "### Reversed \n",
    "* Recibe un iterable o secuencia y entrega una copia con orden inverso."
   ]
  },
  {
   "cell_type": "code",
   "execution_count": 21,
   "metadata": {
    "slideshow": {
     "slide_type": "fragment"
    }
   },
   "outputs": [
    {
     "data": {
      "text/plain": [
       "'Cuando el mar sea redondo y el sol deje de brillar ese será el día en que te pueda olvidar'"
      ]
     },
     "execution_count": 21,
     "metadata": {},
     "output_type": "execute_result"
    }
   ],
   "source": [
    "from functools import reduce\n",
    "poema_invertido = 'olvidar pueda te que en día el será ese brillar de deje sol el y redondo sea mar el Cuando'\n",
    "\n",
    "reduce(lambda p1, p2: p1 + ' ' + p2, reversed(poema_invertido.split(' ')))"
   ]
  },
  {
   "cell_type": "markdown",
   "metadata": {
    "slideshow": {
     "slide_type": "slide"
    }
   },
   "source": [
    "## Ejercicio: AC02 *2018-2*\n",
    "\n",
    " El malvado Dr.Herny ha derrocado a nuestra Reina Barrios arrebatándole los 6 lenguajes del infinito (otorgados por un misterioso LanguageKeeper), con los cuales planea destruir sus promedios la mitad de la humanidad. Como sabes que su poder será implacable (y quieres sobrevivir), no te queda m ́as que ayudarle entreg ́andole estad ́ısticas sobre su base de datos de la humanidad, para as ́ı tomar una buena decisi ́on al momento de desintegrarnos."
   ]
  },
  {
   "cell_type": "markdown",
   "metadata": {
    "slideshow": {
     "slide_type": "fragment"
    }
   },
   "source": [
    " El objetivo de esta actividad es realizar un sistema de consultas, utilizando programación funcional, que permita obtener información sobre las personas, ciudades y países de nuestro planeta. Para realizar lo anterior, debe guardar la información de los archivos en una estructura de datos adecuada y completar las funciones entregadas en el archivo main.py. Está prohibido el uso de for y while excepto para generadores, funciones generadoras, listas y generadores por comprensión. Para imprimir resultados en consola deber ́an utilizar la funci ́on foreach, que estará definida en el archivo que se les entregó.\n",
    "\n"
   ]
  },
  {
   "cell_type": "markdown",
   "metadata": {
    "slideshow": {
     "slide_type": "subslide"
    }
   },
   "source": [
    "### Archivos \n",
    "#### Contienen la información del nuevo universo. A continuación se detalla el contenido de los archivos:\n",
    "   * Ciudades.txt -> Contiene la información de las ciudades. Cada fila es de la forma:\n",
    "      sigla país,nombre\n",
    "   * Paises.txt -> Contiene la información de los países. Cada fila es de la forma:\n",
    "        sigla,nombre\n",
    "   * Personas.txt -> Contiene la información de las personas. Cada fila es de la forma: nombre,apellido,edad,sexo,ciudad de residencia,area de trabajo,sueldo donde ciudad de residencia corresponde al nombre de la ciudad a lacual se hace referencia."
   ]
  },
  {
   "cell_type": "markdown",
   "metadata": {
    "slideshow": {
     "slide_type": "subslide"
    }
   },
   "source": [
    "### Funciones\n",
    "\n",
    "Para leer los archivos que les entregamos, debes hacer uso eficiente de la memoria. Es por esto que debes crear las siguientes funciones generadoras. Para facilitarles la estructura que deben retornar en las siguientes funciones, en el archivo main.py encontrarán 3 namedtuples que contienen la estructura correspondiente a Ciudad, Pais y Persona.\n"
   ]
  },
  {
   "cell_type": "code",
   "execution_count": 22,
   "metadata": {
    "slideshow": {
     "slide_type": "fragment"
    }
   },
   "outputs": [],
   "source": [
    "from collections import namedtuple\n",
    "\n",
    "Ciudad = namedtuple(\"Ciudad\", [\"sigla_pais\", \"nombre\"])\n",
    "\n",
    "Pais = namedtuple(\"Pais\", [\"sigla\", \"nombre\"])\n",
    "\n",
    "Persona = namedtuple(\"Persona\", [\n",
    "    \"nombre\", \"apellido\", \"edad\", \"sexo\", \"ciudad_residencia\",\n",
    "    \"area_de_trabajo\", \"sueldo\"\n",
    "])"
   ]
  },
  {
   "cell_type": "markdown",
   "metadata": {
    "slideshow": {
     "slide_type": "subslide"
    }
   },
   "source": [
    "#### def leer_ciudades(ruta_archivo_ciudades) \n",
    "\n",
    "* Recibe: la ruta al archivo Ciudades.txt. \n",
    "* Retorna: un generador de ciudades."
   ]
  },
  {
   "cell_type": "code",
   "execution_count": 23,
   "metadata": {
    "slideshow": {
     "slide_type": "fragment"
    }
   },
   "outputs": [],
   "source": [
    "def leer_ciudades(ruta_archivo_ciudades):\n",
    "    with open(ruta_archivo_ciudades, 'r', encoding='UTF-8') as ciudades:\n",
    "        for linea in ciudades:\n",
    "            sigla, nombre = linea.strip().split(',')\n",
    "            city = Ciudad(sigla, nombre)\n",
    "            yield city"
   ]
  },
  {
   "cell_type": "markdown",
   "metadata": {
    "slideshow": {
     "slide_type": "subslide"
    }
   },
   "source": [
    "#### def leer_paises(ruta_archivo_paises) \n",
    "\n",
    "* Recibe: la ruta al archivo Paises.txt. \n",
    "* Retorna: un generador de países."
   ]
  },
  {
   "cell_type": "code",
   "execution_count": 24,
   "metadata": {
    "slideshow": {
     "slide_type": "fragment"
    }
   },
   "outputs": [],
   "source": [
    "def leer_paises(ruta_archivo_paises):\n",
    "    with open(ruta_archivo_paises, 'r', encoding='UTF-8') as paises:\n",
    "        for linea in paises:\n",
    "            sigla, nombre = linea.strip().split(',')\n",
    "            country = Pais(sigla, nombre)\n",
    "            yield country"
   ]
  },
  {
   "cell_type": "markdown",
   "metadata": {
    "slideshow": {
     "slide_type": "subslide"
    }
   },
   "source": [
    "#### def leer_personas(ruta_archivo_persona) \n",
    "\n",
    "* Recibe: la ruta al archivo Personas.txt. \n",
    "* Retorna: un generador de personas."
   ]
  },
  {
   "cell_type": "code",
   "execution_count": 25,
   "metadata": {
    "slideshow": {
     "slide_type": "fragment"
    }
   },
   "outputs": [],
   "source": [
    "def leer_personas(ruta_archivo_personas):\n",
    "    with open(ruta_archivo_personas, 'r', encoding='UTF-8') as personas:\n",
    "        for linea in personas:\n",
    "            info = linea.strip().split(',')\n",
    "            people = Persona(*info)\n",
    "            yield people"
   ]
  },
  {
   "cell_type": "markdown",
   "metadata": {
    "slideshow": {
     "slide_type": "subslide"
    }
   },
   "source": [
    "### Consultas\n",
    "\n",
    "Llegó el turno de trabajar con consultas sobre los datos leídos anteriormente. En estas funciones deberás trabajar con iterables como parámetros y retornar un generador."
   ]
  },
  {
   "cell_type": "markdown",
   "metadata": {
    "slideshow": {
     "slide_type": "fragment"
    }
   },
   "source": [
    "#### def sigla_de_pais(nombre_pais, paises)\n",
    "\n",
    "* Recibe: nombre de un país y un iterable con países. \n",
    "* Retorna: Un str con la sigla de dicho país."
   ]
  },
  {
   "cell_type": "code",
   "execution_count": 26,
   "metadata": {
    "slideshow": {
     "slide_type": "fragment"
    }
   },
   "outputs": [],
   "source": [
    "def sigla_de_pais(nombre_pais, paises):\n",
    "    seleccionado = map(lambda filtro: filtro.sigla,\n",
    "                       filter(lambda pais: pais.nombre == nombre_pais, paises))\n",
    "    \n",
    "    return list(seleccionado)[0]"
   ]
  },
  {
   "cell_type": "markdown",
   "metadata": {
    "slideshow": {
     "slide_type": "subslide"
    }
   },
   "source": [
    "#### def ciudades_por_pais(nombre_pais, paises, ciudades)\n",
    "\n",
    "* Recibe: nombre de un país, un iterable con países, y un iterable con ciudades. \n",
    "* Retorna: un generador de las ciudades pertenecientes al país entregado."
   ]
  },
  {
   "cell_type": "code",
   "execution_count": 27,
   "metadata": {
    "slideshow": {
     "slide_type": "fragment"
    }
   },
   "outputs": [],
   "source": [
    "def ciudades_por_pais(nombre_pais, paises, ciudades):\n",
    "    sigla = sigla_de_pais(nombre_pais, paises)\n",
    "    \n",
    "    return filter(lambda city: city.sigla_pais == sigla, ciudades)"
   ]
  },
  {
   "cell_type": "markdown",
   "metadata": {
    "slideshow": {
     "slide_type": "subslide"
    }
   },
   "source": [
    "#### def personas_por_pais(nombre_pais, paises, ciudades, personas)\n",
    "\n",
    "* Recibe: nombre de un país, un iterable con ciudades, y un iterable con personas. \n",
    "* Retorna: un generador con las personas pertenecientes al país entregado."
   ]
  },
  {
   "cell_type": "code",
   "execution_count": 28,
   "metadata": {
    "slideshow": {
     "slide_type": "fragment"
    }
   },
   "outputs": [],
   "source": [
    "def personas_por_pais(nombre_pais, paises, ciudades, personas):\n",
    "    ciudades_pais = list(map(lambda x: x.nombre,\n",
    "                             ciudades_por_pais(nombre_pais, paises, ciudades)))\n",
    "    personas = filter(lambda y: y.ciudad_residencia in ciudades_pais , personas)\n",
    "    return personas"
   ]
  },
  {
   "cell_type": "markdown",
   "metadata": {
    "slideshow": {
     "slide_type": "subslide"
    }
   },
   "source": [
    "#### def sueldo_promedio(personas)\n",
    "\n",
    "* Recibe: un iterable con personas.\n",
    "* Retorna: Un valor int/float. No es necesario considerar el caso en que el iterable no contiene elementos."
   ]
  },
  {
   "cell_type": "code",
   "execution_count": 29,
   "metadata": {
    "slideshow": {
     "slide_type": "fragment"
    }
   },
   "outputs": [],
   "source": [
    "from statistics import mean\n",
    "\n",
    "def sueldo_promedio(personas):\n",
    "    sueldos = map(lambda x: int(x.sueldo), personas)\n",
    "    return mean(sueldos)"
   ]
  },
  {
   "cell_type": "markdown",
   "metadata": {
    "slideshow": {
     "slide_type": "subslide"
    }
   },
   "source": [
    "### Llegó la hora de probar nuestro programa!\n",
    "\n",
    "Para recorrer nuestras funciones que entregan generadores se nos entrega la función `foreach`"
   ]
  },
  {
   "cell_type": "code",
   "execution_count": 30,
   "metadata": {
    "slideshow": {
     "slide_type": "fragment"
    }
   },
   "outputs": [],
   "source": [
    "def foreach(iterable, function):\n",
    "    for elem in iterable:\n",
    "        function(elem)"
   ]
  },
  {
   "cell_type": "code",
   "execution_count": 31,
   "metadata": {
    "slideshow": {
     "slide_type": "slide"
    }
   },
   "outputs": [
    {
     "name": "stdout",
     "output_type": "stream",
     "text": [
      "----------------------------------- Ciudades en Chile -----------------------------------\n",
      "CL SelvaOscura\n",
      "CL Labranza\n",
      "CL CiudadTemuco\n",
      "CL Lampa\n",
      "CL LaDehesa\n",
      "CL ElRosal\n",
      "CL Taltal\n",
      "CL ElQuisco\n",
      "CL Lota\n",
      "CL ViñaDelMar\n",
      "CL RocasDeSantoDomingo\n",
      "CL Azapa\n",
      "CL Rauco\n",
      "CL SanPedroDeAtacama\n",
      "CL Cabildo\n",
      "CL Pailad\n",
      "CL Carrascal\n",
      "CL Máfil\n",
      "CL Collipulli\n",
      "CL PuertoChacabuco\n",
      "CL LasBarrancas\n",
      "CL Villarrica\n",
      "CL ElSalado\n",
      "CL HangaRoa\n",
      "CL Tromen\n",
      "CL QuintaDeTilcoco\n",
      "CL PuertoCisnes\n",
      "CL Lebu\n",
      "CL Francke\n",
      "CL Vicuña\n",
      "CL Contulmo\n",
      "CL NuevaImperial\n",
      "CL Coelemu\n",
      "CL Machalí\n",
      "CL Maipo\n",
      "CL Errázuriz\n",
      "CL BañosDeColina\n",
      "CL LasCardas\n",
      "CL Galvarino\n",
      "CL Peñaflor\n",
      "CL Tocopilla\n",
      "CL Teno\n",
      "CL Putaendo\n",
      "CL Pichilemu\n",
      "CL Bulnes\n",
      "CL PuertoVaras\n",
      "CL Mesquihué\n",
      "CL Atacama\n",
      "CL LosVilos\n",
      "CL Santiago\n",
      "CL LaCisterna\n",
      "CL Lautaro\n",
      "CL Quinchao\n",
      "CL Gorbea\n",
      "CL Quilaco\n",
      "CL Purranque\n",
      "CL Buin\n",
      "CL Pucón\n",
      "CL Chillán\n",
      "CL Lanco\n",
      "CL Hurtado\n",
      "CL Aysen\n",
      "CL SanVicenteDeTaguatagua\n",
      "CL Púa\n",
      "CL Doñihue\n",
      "CL Maullín\n",
      "CL Tongoicillo\n",
      "CL ElSalto\n",
      "CL Chaiten\n",
      "CL Quilicura\n",
      "CL Coyhaique\n",
      "CL LaLeonera\n",
      "CL ChillánViejo\n",
      "CL Panguipulli\n",
      "CL Tortel\n",
      "CL Hualpencillo\n",
      "CL Quillón\n",
      "CL Chonchi\n",
      "CL CajónGrande\n",
      "CL Corcolén\n",
      "CL ElPalqui\n",
      "CL QuintaNormal\n",
      "CL Perquenco\n",
      "CL Gualpencillo\n",
      "CL SanJoséDeMaipo\n",
      "CL SanFranciscoDeMostazal\n",
      "CL Neltume\n",
      "CL Vallenar\n",
      "CL Quilpué\n",
      "CL Arica\n",
      "CL LosMuermos\n",
      "CL Illapel\n",
      "CL Llay-llay\n",
      "CL Chiguayante\n",
      "CL Millanto\n",
      "CL Coronel\n",
      "CL Antofagasta\n",
      "CL Linares\n",
      "CL Chicureo\n",
      "CL Polpaico\n",
      "CL Coltauco\n",
      "CL Graneros\n",
      "CL Laraquete\n",
      "CL SanAlfonso\n",
      "CL Araucana\n",
      "CL LaLigua\n",
      "CL LoEspejo\n",
      "CL LaSerena\n",
      "CL PadreHurtado\n",
      "CL LaRetamilla\n",
      "CL Porvenir\n",
      "CL Achao\n",
      "CL CiudadDeCoquimbo\n",
      "CL Mejillones\n",
      "CL Lontué\n",
      "CL PuntaArenas\n",
      "CL IslaDeMaipo\n",
      "CL Miraflores\n",
      "CL Traiguén\n",
      "CL LoBarnechea\n",
      "CL LaRana\n",
      "CL Papudo\n",
      "CL Panquehue\n",
      "CL PuertoSaavedra\n",
      "CL Palmilla\n",
      "CL AltoHospicio\n",
      "CL Catapilco\n",
      "CL Tarapacá\n",
      "CL Concepción\n",
      "CL Osorno\n",
      "CL Loncoche\n",
      "CL Purén\n",
      "CL Colbun\n",
      "CL Rengo\n",
      "CL LagoRanco\n",
      "CL Carrera\n",
      "CL Melipeuco\n",
      "CL Barnechea\n",
      "CL CiudadDeConcepcion\n",
      "CL Llolleo\n",
      "CL Puchuncaví\n",
      "CL Mulchén\n",
      "CL CuracoDeVelez\n",
      "CL LoOvalle\n",
      "CL Reñaca\n",
      "CL Paihuano\n",
      "CL Queilén\n",
      "CL Rinconada\n",
      "CL Hualqui\n",
      "CL Tongoy\n",
      "CL Caldera\n",
      "CL Quirihue\n",
      "CL Quepe\n",
      "CL Chuquicamata\n",
      "CL Chimbarongo\n",
      "CL LasQuemasDelSalto\n",
      "CL ChileChico\n",
      "CL PozoAlmonte\n",
      "CL MonteÁguila\n",
      "CL ElTabo\n",
      "CL Requínoa\n",
      "CL SanRosendo\n",
      "CL Olmué\n",
      "CL VillaAlemana\n",
      "CL PadreLasCasas\n",
      "CL ValdiviaDePaine\n",
      "CL Ñuñoa\n",
      "CL Curacaví\n",
      "CL Maitencillo\n",
      "CL LosLoros\n",
      "CL PuertoMontt\n",
      "CL Dalcahue\n",
      "CL Huasco\n",
      "CL Concón\n",
      "CL Punitaqui\n",
      "CL PuertoWilliams\n",
      "CL CiudadDePuertoMontt\n",
      "CL Laja\n",
      "CL TierrasBlancas\n",
      "CL ElPeñón\n",
      "CL Quellón\n",
      "CL Carahue\n",
      "CL SantaAnaDeChena\n",
      "CL SantaJuana\n",
      "CL Empedrado\n",
      "CL CiudadSantiago\n",
      "CL Abtao\n",
      "CL FrutillarAlto\n",
      "CL LosQuilos\n",
      "CL Calbuco\n",
      "CL LaChupalla\n",
      "CL Malloa\n",
      "CL Tiltil\n",
      "CL LosQuillayes\n",
      "CL ElMelón\n",
      "CL LomasColoradas\n",
      "CL PadreHuartado\n",
      "CL LosAndes\n",
      "CL Constitución\n",
      "CL Pencahue\n",
      "CL Paine\n",
      "CL ElGuanaco\n",
      "CL Valparaíso\n",
      "CL MaríaElena\n",
      "CL Negrete\n",
      "CL ChacraValparaíso\n",
      "CL LaLomaDeMacul\n",
      "CL Pelequen\n",
      "CL Nielol\n",
      "CL Cañete\n",
      "CL Llanquihue\n",
      "CL Nancagua\n",
      "CL Penco\n",
      "CL MontePatria\n",
      "CL Catemu\n",
      "CL LotaAlto\n",
      "CL LaReina\n",
      "CL Curicó\n",
      "CL Peñalolén\n",
      "CL Iquique\n",
      "CL Pichasca\n",
      "CL Peñablanca\n",
      "CL LosLaureles\n",
      "CL Bellavista\n",
      "CL Algarrobo\n",
      "CL Quintero\n",
      "CL Coihaique\n",
      "CL PuertoAisén\n",
      "CL Alerce\n",
      "CL Pichidegua\n",
      "CL Llaillay\n",
      "CL CiudadDeValparaiso\n",
      "CL Montt\n",
      "CL Valdivia\n",
      "CL Hualaihue\n",
      "CL RinconadaDeLosAndes\n",
      "CL Macul\n",
      "CL Freirina\n",
      "CL CerroViejo\n",
      "CL Carelmapu\n",
      "CL Yumbel\n",
      "CL Chañaral\n",
      "CL Ambillo\n",
      "CL Vichuquén\n",
      "CL Futaleufú\n",
      "CL SantaMaríaLínea\n",
      "CL LosPellines\n",
      "CL Cabrero\n",
      "CL Codegua\n",
      "CL Farellones\n",
      "CL ElManzanar\n",
      "CL Cholchol\n",
      "CL Vilcún\n",
      "CL Pillanlelbun\n",
      "CL Combarbalá\n",
      "CL Tambillo\n",
      "CL Loica\n",
      "CL Pica\n",
      "CL Talagante\n",
      "CL Nacimiento\n",
      "CL SanJoséDeLaMariquina\n",
      "CL LosRanchillos\n",
      "CL Quilleco\n",
      "CL Portezuelo\n",
      "CL Angol\n",
      "CL Copiapó\n",
      "CL Renca\n",
      "CL Limache\n",
      "CL Pitrufquén\n",
      "CL Queltehues\n",
      "CL Tomé\n",
      "CL Huépil\n",
      "CL Curacautín\n",
      "CL Renaico\n",
      "CL Coquimbo\n",
      "CL Radal\n",
      "CL PlayaAncha\n",
      "CL Paillaco\n",
      "CL Alhué\n",
      "CL Quemchi\n",
      "CL Malloco\n",
      "CL MaríaPinto\n",
      "CL Cauquenes\n",
      "CL ViñaGuzmán\n",
      "CL PuertoOctay\n",
      "CL HaciendaLaCalera\n",
      "CL Chinchin\n",
      "CL ElOlivar\n",
      "CL LoMiranda\n",
      "CL Longaví\n",
      "CL Purey\n",
      "CL Vitacura\n",
      "CL Frutillar\n",
      "CL Compañia\n",
      "CL Zapallar\n",
      "CL LasCondes\n",
      "CL Futrono\n",
      "CL Chillancito\n",
      "CL Fresia\n",
      "CL Huechún\n",
      "CL LaChacrita\n",
      "CL Calama\n",
      "CL Tambillos\n",
      "CL Apoquindo\n",
      "CL Dichato\n",
      "CL Montemar\n",
      "CL Cunco\n",
      "CL SantaTeresaDeLoOvalle\n",
      "CL VillaAlegre\n",
      "CL SanFelipe\n",
      "CL SanCarlosDePurén\n",
      "CL Tucapel\n",
      "CL Curanilahue\n",
      "CL Peralillo\n",
      "CL Rancagua\n",
      "CL Manzano\n",
      "CL Peumo\n",
      "CL CasasDeChacabuco\n",
      "CL Quillota\n",
      "CL Ipinco\n",
      "CL Punahuel\n",
      "CL Chincolco\n",
      "CL Talcahuano\n",
      "CL Lirquén\n",
      "CL Ancud\n",
      "CL PuertoNatales\n",
      "CL Colina\n",
      "CL Cochamo\n",
      "CL LosLagos\n",
      "CL Algarrobito\n",
      "CL ElTrebolar\n",
      "CL RíoBueno\n",
      "CL Loncura\n",
      "CL Melipilla\n",
      "CL EstaciónCentral\n",
      "CL Cajon\n",
      "CL Talca\n",
      "CL PuenteAlto\n",
      "CL Hualañé\n",
      "CL CaleraDeTango\n",
      "CL Placeres\n",
      "CL Ovalle\n",
      "CL DiegoDeAlmagro\n",
      "CL Maipú\n",
      "CL Carampangue\n",
      "CL LosÁngeles\n",
      "CL Petorca\n",
      "CL LasCabras\n",
      "CL Curepto\n",
      "CL CerroPlayaAncha\n",
      "CL Natales\n",
      "CL Hijuelas\n",
      "CL Aisén\n",
      "CL Arauco\n",
      "CL Temuco\n",
      "CL Freire\n",
      "CL CoyhaiqueAlto\n",
      "----------------------------------- Personas en Chile -----------------------------------\n",
      "Andrea Requínoa\n",
      "Marcelo Concón\n",
      "Nicolas Nacimiento\n",
      "Arturo Pitrufquén\n",
      "Marun Collipulli\n",
      "Chafic Osorno\n",
      "Angel Limache\n",
      "Max Apoquindo\n",
      "Maximiliano Peralillo\n",
      "Antonia LosAndes\n",
      "Ramiro Ovalle\n",
      "Ximena Vicuña\n",
      "Carla Graneros\n",
      "Jeremías Freirina\n",
      "Paula LaLomaDeMacul\n",
      "Sebastián LosLagos\n",
      "Erko Curanilahue\n",
      "Ian Caldera\n",
      "Nicolas Corcolén\n",
      "Paul Chincolco\n",
      "Salvador Purey\n",
      "Arturo Lautaro\n",
      "Cristóbal Catapilco\n",
      "Matias Coquimbo\n",
      "Xavier Quilpué\n",
      "Pilar Copiapó\n",
      "Macarena SanAlfonso\n",
      "Rodrigo ElRosal\n",
      "Pablo Quillota\n",
      "Salvador Colbun\n",
      "Maximiliano PuertoAisén\n",
      "Andreas PlayaAncha\n",
      "Alberto Empedrado\n",
      "Ignacio Chaiten\n",
      "Werner CerroViejo\n",
      "Orlando Ancud\n",
      "Rafaela ChacraValparaíso\n",
      "Camila CoyhaiqueAlto\n",
      "Gabriel Requínoa\n",
      "Gabriel ElPalqui\n",
      "Luis LosMuermos\n",
      "Gabriel Yumbel\n",
      "Leonardo Yumbel\n",
      "Andres Placeres\n",
      "Víctor LaLeonera\n",
      "Franco Ambillo\n",
      "Alexander Buin\n",
      "Antonio MaríaElena\n",
      "Benjamín LosLoros\n",
      "Alejandro LasCabras\n",
      "Javier Lota\n",
      "Elisa Illapel\n",
      "Denisse Taltal\n",
      "José ElGuanaco\n",
      "Ninoska LaCisterna\n",
      "Esteban Lanco\n",
      "Ninoska Tomé\n",
      "Agustín Talagante\n",
      "Paula PuenteAlto\n",
      "Paul Millanto\n",
      "Mitchell Tiltil\n",
      "Ian Nancagua\n",
      "Fernando Pailad\n",
      "Felipe Errázuriz\n",
      "Rosario LaDehesa\n",
      "Ximena ViñaDelMar\n",
      "Patricia Freire\n",
      "Federico Buin\n",
      "Joséagustín PadreHurtado\n",
      "Werner LagoRanco\n",
      "Andrea Arica\n",
      "Mariana Traiguén\n",
      "Angel Lebu\n",
      "Mariana Panquehue\n",
      "Patrick MonteÁguila\n",
      "Andreas Chañaral\n",
      "Rodrigo SanVicenteDeTaguatagua\n",
      "Ariel Aisén\n",
      "Jan Quirihue\n",
      "Max Papudo\n",
      "Rodrigo Contulmo\n",
      "Wenyi Paillaco\n",
      "Diego Quintero\n",
      "Rolf Huépil\n",
      "Constanza Copiapó\n",
      "Alberto Polpaico\n",
      "Manuel Petorca\n",
      "Angel CiudadDeConcepcion\n",
      "Tien Tortel\n",
      "Eitan Maipú\n",
      "Paul Huasco\n",
      "Ramiro Carahue\n",
      "Ariel Loica\n",
      "Jose Codegua\n",
      "Fernando Quillón\n",
      "Felipe LaChupalla\n",
      "Rafael Renca\n",
      "Mitchell ValdiviaDePaine\n",
      "Tomas Osorno\n",
      "Isabel Peumo\n",
      "Ismael Bellavista\n",
      "Benjamín SanJoséDeLaMariquina\n",
      "Ismael Osorno\n",
      "Jorge Purranque\n",
      "Jorge Taltal\n",
      "Francisco ElPeñón\n",
      "Agustín Cajon\n",
      "Carlos CajónGrande\n",
      "Tiare Huasco\n",
      "Beatriz SanCarlosDePurén\n",
      "Matias Talca\n",
      "Monica ElTabo\n",
      "Patricio Ancud\n",
      "Tien Miraflores\n",
      "Nicolas Polpaico\n",
      "Juan Papudo\n",
      "Alberto Arica\n",
      "Javiera Lota\n",
      "Xavier Portezuelo\n",
      "Alan LosQuillayes\n",
      "Nicholas Freirina\n",
      "Dante Polpaico\n",
      "Federic Taltal\n",
      "Paz Bellavista\n",
      "Sueldo promedio:  1292.38426\n"
     ]
    }
   ],
   "source": [
    "RUTA_PAISES = \"data/Paises.txt\"\n",
    "RUTA_CIUDADES = \"data/Ciudades.txt\"\n",
    "RUTA_PERSONAS = \"data/Personas.txt\"\n",
    "\n",
    "\n",
    "# (1) Ciudades en Chile\n",
    "ciudades_chile = ciudades_por_pais('Chile', leer_paises(RUTA_PAISES),\n",
    "                                   leer_ciudades(RUTA_CIUDADES))\n",
    "\n",
    "print('-' * 35, 'Ciudades en Chile', '-' * 35)\n",
    "foreach(ciudades_chile,\n",
    "        lambda ciudad: print(ciudad.sigla_pais, ciudad.nombre))\n",
    "\n",
    "# (2) Personas en Chile\n",
    "personas_chile = personas_por_pais('Chile', leer_paises(RUTA_PAISES),\n",
    "                                    leer_ciudades(RUTA_CIUDADES),\n",
    "                                    leer_personas(RUTA_PERSONAS))\n",
    "print('-' * 35, 'Personas en Chile', '-' * 35)\n",
    "foreach(personas_chile, lambda p: print(p.nombre, p.ciudad_residencia))\n",
    "\n",
    "# (3) Sueldo promedio de personas del mundo\n",
    "sueldo_mundo = sueldo_promedio(leer_personas(RUTA_PERSONAS))\n",
    "print('Sueldo promedio: ', sueldo_mundo)\n"
   ]
  },
  {
   "cell_type": "markdown",
   "metadata": {
    "slideshow": {
     "slide_type": "slide"
    }
   },
   "source": [
    "## Decoradores"
   ]
  },
  {
   "cell_type": "markdown",
   "metadata": {
    "slideshow": {
     "slide_type": "fragment"
    }
   },
   "source": [
    "- Práctica en python que permite agregar funcionalidades a un método sin alterar su codigo original."
   ]
  },
  {
   "cell_type": "markdown",
   "metadata": {
    "slideshow": {
     "slide_type": "subslide"
    }
   },
   "source": [
    "### Recordemos"
   ]
  },
  {
   "cell_type": "markdown",
   "metadata": {
    "slideshow": {
     "slide_type": "fragment"
    }
   },
   "source": [
    "- Una función se puede entregar a una ***variable***."
   ]
  },
  {
   "cell_type": "code",
   "execution_count": 32,
   "metadata": {
    "slideshow": {
     "slide_type": "fragment"
    }
   },
   "outputs": [
    {
     "name": "stdout",
     "output_type": "stream",
     "text": [
      "Hola Michael!\n"
     ]
    }
   ],
   "source": [
    "def saludar(nombre):\n",
    "    return f\"Hola {nombre}\"\n",
    "\n",
    "x = saludar\n",
    "print(x(\"Michael!\"))"
   ]
  },
  {
   "cell_type": "markdown",
   "metadata": {
    "slideshow": {
     "slide_type": "fragment"
    }
   },
   "source": [
    "- Se pueden definir funciones ***anidadas*** y ***retornarlas***."
   ]
  },
  {
   "cell_type": "code",
   "execution_count": 33,
   "metadata": {
    "slideshow": {
     "slide_type": "fragment"
    }
   },
   "outputs": [
    {
     "name": "stdout",
     "output_type": "stream",
     "text": [
      "13\n",
      "16\n"
     ]
    }
   ],
   "source": [
    "def suma_de_cuadrados(x, y):\n",
    "    def al_cuadrado(n):\n",
    "        return n**2\n",
    "    return [al_cuadrado(x) + al_cuadrado(y), al_cuadrado] # Se puede utilizar y/o retornar\n",
    "\n",
    "valor, funcion = suma_de_cuadrados(2,3) # Desempaquetamos la lista\n",
    "print(valor) # Valor de al_cuadrado(2) + al_cuadrado(3) -> 4+9\n",
    "print(funcion(4)) # 4**2"
   ]
  },
  {
   "cell_type": "markdown",
   "metadata": {
    "slideshow": {
     "slide_type": "subslide"
    }
   },
   "source": [
    "- Funciones como ***parámetros*** de otra función."
   ]
  },
  {
   "cell_type": "code",
   "execution_count": 34,
   "metadata": {
    "slideshow": {
     "slide_type": "fragment"
    }
   },
   "outputs": [
    {
     "name": "stdout",
     "output_type": "stream",
     "text": [
      "Mis argumentos son 4 y 7\n",
      "El resultado es 11\n"
     ]
    }
   ],
   "source": [
    "def printer(a, b):\n",
    "    print(f\"Mis argumentos son {a} y {b}\")\n",
    "def returner(a, b, func):\n",
    "    func(a, b) \n",
    "    return f\"El resultado es {a + b}\"\n",
    "print(returner(4, 7, printer))"
   ]
  },
  {
   "cell_type": "markdown",
   "metadata": {
    "slideshow": {
     "slide_type": "fragment"
    }
   },
   "source": [
    "- Acceso de **lectura** a variables del scope de función que la contiene."
   ]
  },
  {
   "cell_type": "code",
   "execution_count": 35,
   "metadata": {
    "slideshow": {
     "slide_type": "fragment"
    }
   },
   "outputs": [
    {
     "name": "stdout",
     "output_type": "stream",
     "text": [
      "6\n"
     ]
    }
   ],
   "source": [
    "def fabricar_funcion(x):\n",
    "    def nueva_funcion():\n",
    "        return 2 * x\n",
    "    return nueva_funcion\n",
    "\n",
    "funcion = fabricar_funcion(3)\n",
    "print(funcion())"
   ]
  },
  {
   "cell_type": "markdown",
   "metadata": {
    "slideshow": {
     "slide_type": "subslide"
    }
   },
   "source": [
    "1. Una función se puede entregar a una ***variable***.\n",
    "1. Se pueden definir funciones ***anidadas*** y ***retornarlas***.\n",
    "1. Funciones como ***parámetros*** de otra función.\n",
    "1. Acceso de **lectura** a variables del scope de función que la contiene."
   ]
  },
  {
   "cell_type": "markdown",
   "metadata": {
    "slideshow": {
     "slide_type": "fragment"
    }
   },
   "source": [
    "- Sabiendo esto, podemos comprender a los *decoradores*."
   ]
  },
  {
   "cell_type": "code",
   "execution_count": 36,
   "metadata": {
    "slideshow": {
     "slide_type": "fragment"
    }
   },
   "outputs": [
    {
     "name": "stdout",
     "output_type": "stream",
     "text": [
      "Ejecutaremos la funcion suma\n",
      "5\n"
     ]
    }
   ],
   "source": [
    "def decorador(funcion_actual):                                              # Recibe funcion como parámetro\n",
    "    def wrapper(*args, **kwargs):                                           # Define funcion anidada\n",
    "        print(f\"Ejecutaremos la funcion {funcion_actual.__name__}\")         # Agrega una nueva funcionalidad\n",
    "        return funcion_actual(*args, **kwargs)                              # Puede acceder al scope anterior y utilizar la funcion_actual\n",
    "    return wrapper                                                          # Retorna funcion anidada\n",
    "\n",
    "def suma(a, b):\n",
    "    return a + b\n",
    "\n",
    "nueva_suma = decorador(suma)\n",
    "print(nueva_suma(2, 3))"
   ]
  },
  {
   "cell_type": "markdown",
   "metadata": {
    "slideshow": {
     "slide_type": "subslide"
    }
   },
   "source": [
    "### Azucar Sintactico"
   ]
  },
  {
   "cell_type": "markdown",
   "metadata": {
    "slideshow": {
     "slide_type": "fragment"
    }
   },
   "source": [
    "- Lo anterior funciona bien pero no se ve *limpia* su **implementacion**:\n",
    "`func_2 = decorator(func_1)`"
   ]
  },
  {
   "cell_type": "code",
   "execution_count": 37,
   "metadata": {
    "slideshow": {
     "slide_type": "fragment"
    }
   },
   "outputs": [
    {
     "name": "stdout",
     "output_type": "stream",
     "text": [
      "Ejecutaremos la funcion resta\n",
      "7\n"
     ]
    }
   ],
   "source": [
    "# Existe el decorador 'nueva_funcion'\n",
    "@decorador                          # Aplicable a cuantas funciones deseemos, sin alterar su codigo inicial\n",
    "def resta(a, b):\n",
    "    return a-b\n",
    "\n",
    "print(resta(10, 3))"
   ]
  },
  {
   "cell_type": "markdown",
   "metadata": {
    "slideshow": {
     "slide_type": "fragment"
    }
   },
   "source": [
    "- Básicamente el `@` permite `func = decorator(func)`"
   ]
  },
  {
   "cell_type": "markdown",
   "metadata": {
    "slideshow": {
     "slide_type": "subslide"
    }
   },
   "source": [
    "## Decoradores con parametros"
   ]
  },
  {
   "cell_type": "markdown",
   "metadata": {
    "slideshow": {
     "slide_type": "fragment"
    }
   },
   "source": [
    "- ¿Que pasa si quiero que mi decorador dependa de alguna variable?"
   ]
  },
  {
   "cell_type": "code",
   "execution_count": 38,
   "metadata": {
    "slideshow": {
     "slide_type": "fragment"
    }
   },
   "outputs": [
    {
     "name": "stdout",
     "output_type": "stream",
     "text": [
      "Ejecutaremos la funcion suma\n",
      "Y vamos a sumar dos integers\n",
      "5\n"
     ]
    }
   ],
   "source": [
    "def constructor(tipo_variable): \n",
    "    def decorador(funcion_actual):                                          # Recibe funcion como parámetro\n",
    "        def wrapper(*args, **kwargs):                                           # Define funcion anidada\n",
    "            print(f\"Ejecutaremos la funcion {funcion_actual.__name__}\")         # Agrega una nueva funcionalidad\n",
    "            print(f\"Y vamos a sumar dos {tipo_variable}\")\n",
    "            return funcion_actual(*args, **kwargs)                              # Puede acceder al scope anterior y utilizar la funcion_actual\n",
    "        return wrapper\n",
    "    return decorador\n",
    "\n",
    "@constructor(\"integers\")    \n",
    "def suma(a, b):\n",
    "    return a + b\n",
    "\n",
    "print(suma(2, 3))"
   ]
  },
  {
   "cell_type": "markdown",
   "metadata": {
    "slideshow": {
     "slide_type": "slide"
    }
   },
   "source": [
    "## ¿Dudas?"
   ]
  },
  {
   "cell_type": "markdown",
   "metadata": {
    "slideshow": {
     "slide_type": "fragment"
    }
   },
   "source": [
    "- Muchas gracias, recuerden responder el feedback"
   ]
  }
 ],
 "metadata": {
  "celltoolbar": "Slideshow",
  "kernelspec": {
   "display_name": "Python 3",
   "language": "python",
   "name": "python3"
  },
  "language_info": {
   "codemirror_mode": {
    "name": "ipython",
    "version": 3
   },
   "file_extension": ".py",
   "mimetype": "text/x-python",
   "name": "python",
   "nbconvert_exporter": "python",
   "pygments_lexer": "ipython3",
   "version": "3.6.6"
  }
 },
 "nbformat": 4,
 "nbformat_minor": 2
}
