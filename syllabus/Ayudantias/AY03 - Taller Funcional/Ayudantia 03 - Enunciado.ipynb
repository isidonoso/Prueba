{
 "cells": [
  {
   "cell_type": "markdown",
   "metadata": {},
   "source": [
    "## Ejercicio: AC02 *2018-2*\n",
    "\n",
    " El malvado Dr.Herny ha derrocado a nuestra Reina Barrios arrebatándole los 6 lenguajes del infinito (otorgados por un misterioso LanguageKeeper), con los cuales planea destruir sus promedios la mitad de la humanidad. Como sabes que su poder será implacable (y quieres sobrevivir), no te queda m ́as que ayudarle entreg ́andole estad ́ısticas sobre su base de datos de la humanidad, para as ́ı tomar una buena decisi ́on al momento de desintegrarnos."
   ]
  },
  {
   "cell_type": "markdown",
   "metadata": {},
   "source": [
    " El objetivo de esta actividad es realizar un sistema de consultas, utilizando programación funcional, que permita obtener información sobre las personas, ciudades y países de nuestro planeta. Para realizar lo anterior, debe guardar la información de los archivos en una estructura de datos adecuada y completar las funciones entregadas en el archivo main.py. Está prohibido el uso de for y while excepto para generadores, funciones generadoras, listas y generadores por comprensión. Para imprimir resultados en consola deberán utilizar la función foreach, que estará definida en el archivo que se les entregó.\n",
    "\n",
    "\n"
   ]
  },
  {
   "cell_type": "markdown",
   "metadata": {},
   "source": [
    "### Archivos \n",
    "#### Contienen la información del nuevo universo. A continuación se detalla el contenido de los archivos:\n",
    "   * Ciudades.txt -> Contiene la información de las ciudades. Cada fila es de la forma:\n",
    "      sigla país,nombre\n",
    "   * Paises.txt -> Contiene la información de los países. Cada fila es de la forma:\n",
    "        sigla,nombre\n",
    "   * Personas.txt -> Contiene la información de las personas. Cada fila es de la forma: nombre,apellido,edad,sexo,ciudad de residencia,area de trabajo,sueldo donde ciudad de residencia corresponde al nombre de la ciudad a lacual se hace referencia."
   ]
  },
  {
   "cell_type": "markdown",
   "metadata": {},
   "source": [
    "### Funciones\n",
    "\n",
    "Para leer los archivos que les entregamos, debes hacer uso eficiente de la memoria. Es por esto que debes crear las siguientes funciones generadoras1. Para facilitarles la estructura que deben retornar en las siguientes funciones, en el archivo main.py encontrarán 3 namedtuples que contienen la estructura correspondiente a Ciudad, Pais y Persona.\n",
    "\n"
   ]
  },
  {
   "cell_type": "code",
   "execution_count": 1,
   "metadata": {},
   "outputs": [],
   "source": [
    "from collections import namedtuple\n",
    "\n",
    "Ciudad = namedtuple(\"Ciudad\", [\"sigla_pais\", \"nombre\"])\n",
    "\n",
    "Pais = namedtuple(\"Pais\", [\"sigla\", \"nombre\"])\n",
    "\n",
    "Persona = namedtuple(\"Persona\", [\n",
    "    \"nombre\", \"apellido\", \"edad\", \"sexo\", \"ciudad_residencia\",\n",
    "    \"area_de_trabajo\", \"sueldo\"\n",
    "])"
   ]
  },
  {
   "cell_type": "markdown",
   "metadata": {},
   "source": [
    "#### def leer_ciudades(ruta_archivo_ciudades) \n",
    "\n",
    "* Recibe: la ruta al archivo Ciudades.txt. \n",
    "* Retorna: un generador de ciudades."
   ]
  },
  {
   "cell_type": "markdown",
   "metadata": {},
   "source": [
    "#### def leer_paises(ruta_archivo_paises) \n",
    "\n",
    "* Recibe: la ruta al archivo Paises.txt. \n",
    "* Retorna: un generador de países."
   ]
  },
  {
   "cell_type": "markdown",
   "metadata": {},
   "source": [
    "#### def leer_personas(ruta_archivo_persona) \n",
    "\n",
    "* Recibe: la ruta al archivo Personas.txt. \n",
    "* Retorna: un generador de personas."
   ]
  },
  {
   "cell_type": "markdown",
   "metadata": {},
   "source": [
    "### Consultas\n",
    "\n",
    "Llegó el turno de trabajar con consultas sobre los datos leídos anteriormente. En estas funciones deberás trabajar con iterables como parámetros y retornar un generador."
   ]
  },
  {
   "cell_type": "markdown",
   "metadata": {},
   "source": [
    "#### def sigla_de_pais(nombre_pais, paises)\n",
    "\n",
    "* Recibe: nombre de un país y un iterable con países. \n",
    "* Retorna: Un str con la sigla de dicho país."
   ]
  },
  {
   "cell_type": "markdown",
   "metadata": {},
   "source": [
    "#### def ciudades_por_pais(nombre_pais, paises, ciudades)\n",
    "\n",
    "* Recibe: nombre de un país, un iterable con países, y un iterable con ciudades. \n",
    "* Retorna: un generador de las ciudades pertenecientes al país entregado."
   ]
  },
  {
   "cell_type": "markdown",
   "metadata": {},
   "source": [
    "#### def personas_por_pais(nombre_pais, paises, ciudades, personas)\n",
    "\n",
    "* Recibe: nombre de un país, un iterable con ciudades, y un iterable con personas. \n",
    "* Retorna: un generador con las personas pertenecientes al país entregado."
   ]
  },
  {
   "cell_type": "markdown",
   "metadata": {},
   "source": [
    "#### def sueldo_promedio(personas)\n",
    "\n",
    "* Recibe: un iterable con personas.\n",
    "* Retorna: Un valor int/float. No es necesario considerar el caso en que el iterable no contiene elementos."
   ]
  },
  {
   "cell_type": "code",
   "execution_count": 2,
   "metadata": {},
   "outputs": [],
   "source": [
    "def foreach(iterable, function):\n",
    "    for elem in iterable:\n",
    "        function(elem)"
   ]
  }
 ],
 "metadata": {
  "kernelspec": {
   "display_name": "Python 3",
   "language": "python",
   "name": "python3"
  },
  "language_info": {
   "codemirror_mode": {
    "name": "ipython",
    "version": 3
   },
   "file_extension": ".py",
   "mimetype": "text/x-python",
   "name": "python",
   "nbconvert_exporter": "python",
   "pygments_lexer": "ipython3",
   "version": "3.6.6"
  }
 },
 "nbformat": 4,
 "nbformat_minor": 2
}
