{
 "cells": [
  {
   "cell_type": "markdown",
   "metadata": {
    "slideshow": {
     "slide_type": "slide"
    }
   },
   "source": [
    "# Ayudantía 5\n",
    "## Grafos\n",
    "\n",
    "_Form Feedback:_ https://goo.gl/forms/aFpTe9LGx9ObcMBu1\n",
    "\n",
    "**Autores: Pablo Polea e Ian Basly**"
   ]
  },
  {
   "cell_type": "markdown",
   "metadata": {
    "slideshow": {
     "slide_type": "slide"
    }
   },
   "source": [
    "## Problema:"
   ]
  },
  {
   "cell_type": "markdown",
   "metadata": {
    "slideshow": {
     "slide_type": "fragment"
    }
   },
   "source": [
    "Luego de un increíble carrete, resucitas el domingo en un lugar desconocido. Tu única herramienta\n",
    "es tu smartphone que de alguna forma sólo funciona en **Python**.\n",
    "Para poder volver a casa, deber hacer un programa que en base a grafos te permite buscar rutas entre paraderos que\n",
    "tú conozcas."
   ]
  },
  {
   "cell_type": "markdown",
   "metadata": {
    "slideshow": {
     "slide_type": "subslide"
    }
   },
   "source": [
    " <center><img src=\"images/AY-1.png\" alt=\"image2\" width=\"90%\" weight=\"90%\"></center>"
   ]
  },
  {
   "cell_type": "markdown",
   "metadata": {
    "slideshow": {
     "slide_type": "slide"
    }
   },
   "source": [
    "## Relaciones:\n",
    "Los nodos de este grafo serán paraderos, cuya relación depende si desde uno se puede llegar al otro.\n",
    "\n",
    "Ej:\n",
    "\n",
    "    P1 -> P2, P3\n",
    "    P3 -> P3"
   ]
  },
  {
   "cell_type": "markdown",
   "metadata": {
    "slideshow": {
     "slide_type": "subslide"
    }
   },
   "source": [
    "<center> <img src=\"images/AY-2.png\" alt=\"image3\" width=\"80%\" weight=\"80%\"></center>"
   ]
  },
  {
   "cell_type": "markdown",
   "metadata": {
    "slideshow": {
     "slide_type": "fragment"
    }
   },
   "source": [
    "En el caso anterior podemos ver que 3 paraderos están unidos entre si, pero aún así desde el paradero 1 se puede llegar al 3 de alguna forma."
   ]
  },
  {
   "cell_type": "markdown",
   "metadata": {
    "slideshow": {
     "slide_type": "slide"
    }
   },
   "source": [
    "## Archivos:"
   ]
  },
  {
   "cell_type": "markdown",
   "metadata": {
    "slideshow": {
     "slide_type": "subslide"
    }
   },
   "source": [
    "Se entregarán dos archivos: _nodos.txt_ donde cada linea representa un **Nodo**.\n",
    "\n",
    "Ej:\n",
    "\n",
    "    P001\n",
    "    P002\n",
    "    P003\n",
    "    .\n",
    "    .\n",
    "    ."
   ]
  },
  {
   "cell_type": "markdown",
   "metadata": {
    "slideshow": {
     "slide_type": "subslide"
    }
   },
   "source": [
    "Y _conexiones.txt_, donde cada linea representa la conexión entre dos nodos. Asume que no se repetirán conexiones.\n",
    "\n",
    "Ej:\n",
    "\n",
    "    P001,P002\n",
    "    P001,P003\n",
    "    P002,P003\n",
    "    P003,P004\n",
    "    P003,P006\n",
    "    .\n",
    "    .\n",
    "    ."
   ]
  },
  {
   "cell_type": "markdown",
   "metadata": {
    "slideshow": {
     "slide_type": "slide"
    }
   },
   "source": [
    "## Clase Nodo:"
   ]
  },
  {
   "cell_type": "markdown",
   "metadata": {
    "slideshow": {
     "slide_type": "subslide"
    }
   },
   "source": [
    "Para modelar este problema debes implementar la clase Nodo (Paradero):"
   ]
  },
  {
   "cell_type": "code",
   "execution_count": 16,
   "metadata": {
    "slideshow": {
     "slide_type": "-"
    }
   },
   "outputs": [],
   "source": [
    "class Nodo:\n",
    "    def __init__(self):\n",
    "        pass\n",
    "    "
   ]
  },
  {
   "cell_type": "markdown",
   "metadata": {
    "slideshow": {
     "slide_type": "subslide"
    }
   },
   "source": [
    "### Métodos de Nodo:"
   ]
  },
  {
   "cell_type": "markdown",
   "metadata": {
    "slideshow": {
     "slide_type": "subslide"
    }
   },
   "source": [
    "Para poder agregar nuevas relaciones entre los nodos, debes implementar\n",
    "`agregar_nodo(self, nodo: Nodo)`"
   ]
  },
  {
   "cell_type": "code",
   "execution_count": 17,
   "metadata": {
    "slideshow": {
     "slide_type": "-"
    }
   },
   "outputs": [],
   "source": [
    "class Nodo:\n",
    "    def __init__(self):\n",
    "        pass\n",
    "    \n",
    "    def agregar_nodo(self, nodo: Nodo):\n",
    "        pass\n",
    "    "
   ]
  },
  {
   "cell_type": "markdown",
   "metadata": {
    "slideshow": {
     "slide_type": "subslide"
    }
   },
   "source": [
    "En caso de que te hayas equivocado, nunca está demas poder arreglar un error 😅.\n",
    "\n",
    "Para ello hay que implementar `quitar_nodo(self, nodo: Nodo)`"
   ]
  },
  {
   "cell_type": "code",
   "execution_count": 18,
   "metadata": {},
   "outputs": [],
   "source": [
    "class Nodo:\n",
    "    def __init__(self):\n",
    "        pass\n",
    "    \n",
    "    def agregar_nodo(self, nodo: Nodo):\n",
    "        pass\n",
    "    \n",
    "    def quitar_nodo(self, nodo: Nodo):\n",
    "        pass"
   ]
  },
  {
   "cell_type": "markdown",
   "metadata": {
    "slideshow": {
     "slide_type": "slide"
    }
   },
   "source": [
    "## Clase Grafo:"
   ]
  },
  {
   "cell_type": "markdown",
   "metadata": {
    "slideshow": {
     "slide_type": "fragment"
    }
   },
   "source": [
    "Es posible que **no todos los nodos esten conectados entre si.**"
   ]
  },
  {
   "cell_type": "code",
   "execution_count": null,
   "metadata": {},
   "outputs": [],
   "source": [
    "class Grafo:\n",
    "    def __init__(self):\n",
    "        pass\n",
    "    \n",
    "    def agregar_nodo(self, nodo):\n",
    "        pass\n",
    "    \n",
    "    def remover_conexion(self, nodo_A, nodo_B):\n",
    "        pass\n",
    "    \n",
    "    def conectar(self, nodo_A, nodo_B):\n",
    "        pass"
   ]
  },
  {
   "cell_type": "markdown",
   "metadata": {
    "slideshow": {
     "slide_type": "slide"
    }
   },
   "source": [
    "## Funcionalidad del programa:"
   ]
  },
  {
   "cell_type": "markdown",
   "metadata": {},
   "source": [
    "Para poder volver a casa **\"sanos\"**, hay que agregar ciertas funciones a nuestro programa. Es decir, crear métodos a la clase `Grafo`."
   ]
  },
  {
   "cell_type": "markdown",
   "metadata": {
    "slideshow": {
     "slide_type": "subslide"
    }
   },
   "source": [
    "### ¿Se puede ir desde A a B?"
   ]
  },
  {
   "cell_type": "markdown",
   "metadata": {
    "slideshow": {
     "slide_type": "fragment"
    }
   },
   "source": [
    "Para saber si es posible ir desde el nodo A hasta el nodo B, hay que definir la función\n",
    "\n",
    "`hay_ruta(self, nodo_A, nodo_B)`\n",
    "\n",
    "ella retornará un `bool` si es que se puede ir desde A hasta B."
   ]
  },
  {
   "cell_type": "code",
   "execution_count": 23,
   "metadata": {},
   "outputs": [],
   "source": [
    "class Grafo:\n",
    "    def __init__(self):\n",
    "        pass\n",
    "    \n",
    "    def hay_ruta(self, nodo_A, nodo_B):\n",
    "        pass"
   ]
  },
  {
   "cell_type": "markdown",
   "metadata": {
    "slideshow": {
     "slide_type": "subslide"
    }
   },
   "source": [
    "### Ruta desde A hasta B"
   ]
  },
  {
   "cell_type": "markdown",
   "metadata": {
    "slideshow": {
     "slide_type": "fragment"
    }
   },
   "source": [
    "**(comentario previo):** Ahora que podemos saber si se puede ir desde A a B, entonces tenemos que ver **¿cómo?**\n",
    "\n",
    "Para ello se ocupa la función `ruta(self, nodo_A, nodo_B)`, que retorna un `list` con los nodos que hay que\n",
    "recorrer para llegar desde A a B (incluyéndolos)."
   ]
  },
  {
   "cell_type": "code",
   "execution_count": 24,
   "metadata": {},
   "outputs": [],
   "source": [
    "class Grafo:\n",
    "    def __init__(self):\n",
    "        pass\n",
    "    \n",
    "    def hay_ruta(self, nodo_A, nodo_B):\n",
    "        pass\n",
    "    \n",
    "    def ruta(self, nodo_A, nodo_B):\n",
    "        pass"
   ]
  },
  {
   "cell_type": "markdown",
   "metadata": {
    "slideshow": {
     "slide_type": "subslide"
    }
   },
   "source": [
    "### Propuesto 😏: Ruta más corta"
   ]
  },
  {
   "cell_type": "markdown",
   "metadata": {},
   "source": [
    "Si ya se sabe como llegar desde A a B, entonces se debería poder llegar en la menor cantidad de paradas posibles a B."
   ]
  },
  {
   "cell_type": "markdown",
   "metadata": {
    "slideshow": {
     "slide_type": "fragment"
    }
   },
   "source": [
    "¿Les recuerda algo de intro?"
   ]
  },
  {
   "cell_type": "markdown",
   "metadata": {
    "slideshow": {
     "slide_type": "fragment"
    }
   },
   "source": [
    "Algo como Black... ¿no?"
   ]
  },
  {
   "cell_type": "markdown",
   "metadata": {
    "slideshow": {
     "slide_type": "slide"
    }
   },
   "source": [
    "**¡Ah si!  😃**\n",
    "\n",
    "**!Backtracking!**"
   ]
  },
  {
   "cell_type": "markdown",
   "metadata": {
    "slideshow": {
     "slide_type": "slide"
    }
   },
   "source": [
    "### Listo!   ahora debrías poder llegar a casa sin problemas"
   ]
  }
 ],
 "metadata": {
  "celltoolbar": "Slideshow",
  "kernelspec": {
   "display_name": "Python 3",
   "language": "python",
   "name": "python3"
  },
  "language_info": {
   "codemirror_mode": {
    "name": "ipython",
    "version": 3
   },
   "file_extension": ".py",
   "mimetype": "text/x-python",
   "name": "python",
   "nbconvert_exporter": "python",
   "pygments_lexer": "ipython3",
   "version": "3.6.6rc1"
  }
 },
 "nbformat": 4,
 "nbformat_minor": 2
}
