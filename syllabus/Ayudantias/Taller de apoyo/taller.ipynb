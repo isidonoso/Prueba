{
 "cells": [
  {
   "cell_type": "markdown",
   "metadata": {
    "slideshow": {
     "slide_type": "slide"
    }
   },
   "source": [
    "# Taller: Recordando Python y tips\n",
    "##### Michael Hund, Pablo Olea, Juan Schuwirth y Christian Eilers"
   ]
  },
  {
   "cell_type": "markdown",
   "metadata": {
    "slideshow": {
     "slide_type": "slide"
    }
   },
   "source": [
    "### Tema 0: Paso a paso"
   ]
  },
  {
   "cell_type": "markdown",
   "metadata": {
    "slideshow": {
     "slide_type": "fragment"
    }
   },
   "source": [
    "1. ¿Cómo abrir un archivo .py con el terminal?"
   ]
  },
  {
   "cell_type": "markdown",
   "metadata": {
    "slideshow": {
     "slide_type": "fragment"
    }
   },
   "source": [
    "2. ¿ Cómo serán los archivos en mis actividades?"
   ]
  },
  {
   "cell_type": "markdown",
   "metadata": {
    "slideshow": {
     "slide_type": "slide"
    }
   },
   "source": [
    "### Tema  1: Funciones"
   ]
  },
  {
   "cell_type": "markdown",
   "metadata": {
    "slideshow": {
     "slide_type": "subslide"
    }
   },
   "source": [
    "### Ejemplo 1: Identificando partes de una función simple"
   ]
  },
  {
   "cell_type": "code",
   "execution_count": 1,
   "metadata": {
    "slideshow": {
     "slide_type": "fragment"
    }
   },
   "outputs": [],
   "source": [
    "def saludar_a_persona(nombre):\n",
    "    saludo = \"Te estoy saludando a tí \" + nombre + \"! Buenas tardes!\"\n",
    "    print(saludo)"
   ]
  },
  {
   "cell_type": "markdown",
   "metadata": {
    "slideshow": {
     "slide_type": "fragment"
    }
   },
   "source": [
    "- ¿Que es *saludar_a_persona*?"
   ]
  },
  {
   "cell_type": "markdown",
   "metadata": {
    "slideshow": {
     "slide_type": "fragment"
    }
   },
   "source": [
    "- ¿Que es *nombre*?"
   ]
  },
  {
   "cell_type": "markdown",
   "metadata": {
    "slideshow": {
     "slide_type": "fragment"
    }
   },
   "source": [
    "- ¿Que es *saludo*?"
   ]
  },
  {
   "cell_type": "markdown",
   "metadata": {
    "slideshow": {
     "slide_type": "subslide"
    }
   },
   "source": [
    "### ¿Que está haciendo esta celda?"
   ]
  },
  {
   "cell_type": "code",
   "execution_count": 2,
   "metadata": {
    "slideshow": {
     "slide_type": "fragment"
    }
   },
   "outputs": [
    {
     "name": "stdout",
     "output_type": "stream",
     "text": [
      "Te estoy saludando a tí Carlos! Buenas tardes!\n"
     ]
    }
   ],
   "source": [
    "saludar_a_persona(\"Carlos\")"
   ]
  },
  {
   "cell_type": "markdown",
   "metadata": {
    "slideshow": {
     "slide_type": "subslide"
    }
   },
   "source": [
    "### Ejemplo 2: Funciones que retornan resultados"
   ]
  },
  {
   "cell_type": "code",
   "execution_count": 3,
   "metadata": {
    "slideshow": {
     "slide_type": "fragment"
    }
   },
   "outputs": [
    {
     "name": "stdout",
     "output_type": "stream",
     "text": [
      "Te estoy saludando a tí Pablo! Buenas tardes!\n"
     ]
    }
   ],
   "source": [
    "def saludar_a_persona(nombre):\n",
    "    saludo = \"Te estoy saludando a tí \" + nombre + \"! Buenas tardes!\"\n",
    "    return saludo\n",
    "variable_resultado = saludar_a_persona(\"Pablo\")\n",
    "print(variable_resultado)"
   ]
  },
  {
   "cell_type": "markdown",
   "metadata": {
    "slideshow": {
     "slide_type": "fragment"
    }
   },
   "source": [
    "- ¿Que ocurre si ejecutamos el código?"
   ]
  },
  {
   "cell_type": "markdown",
   "metadata": {
    "slideshow": {
     "slide_type": "fragment"
    }
   },
   "source": [
    "- ¿Que ocurre si imprimimos la variable?"
   ]
  },
  {
   "cell_type": "markdown",
   "metadata": {
    "slideshow": {
     "slide_type": "subslide"
    }
   },
   "source": [
    "### Ejemplo 3: Variables locales de una función"
   ]
  },
  {
   "cell_type": "code",
   "execution_count": 5,
   "metadata": {
    "scrolled": false,
    "slideshow": {
     "slide_type": "fragment"
    }
   },
   "outputs": [
    {
     "ename": "NameError",
     "evalue": "name 'nombre' is not defined",
     "output_type": "error",
     "traceback": [
      "\u001b[1;31m---------------------------------------------------------------------------\u001b[0m",
      "\u001b[1;31mNameError\u001b[0m                                 Traceback (most recent call last)",
      "\u001b[1;32m<ipython-input-5-c89e7d97b4ee>\u001b[0m in \u001b[0;36m<module>\u001b[1;34m()\u001b[0m\n\u001b[0;32m      2\u001b[0m     \u001b[0msaludo\u001b[0m \u001b[1;33m=\u001b[0m \u001b[1;34m\"Te estoy saludando a tí \"\u001b[0m \u001b[1;33m+\u001b[0m \u001b[0mnombre\u001b[0m \u001b[1;33m+\u001b[0m \u001b[1;34m\"! Buenas tardes!\"\u001b[0m\u001b[1;33m\u001b[0m\u001b[0m\n\u001b[0;32m      3\u001b[0m \u001b[0msaludar_a_persona\u001b[0m\u001b[1;33m(\u001b[0m\u001b[1;34m\"Pablo\"\u001b[0m\u001b[1;33m)\u001b[0m\u001b[1;33m\u001b[0m\u001b[0m\n\u001b[1;32m----> 4\u001b[1;33m \u001b[0mprint\u001b[0m\u001b[1;33m(\u001b[0m\u001b[0mnombre\u001b[0m\u001b[1;33m)\u001b[0m\u001b[1;33m\u001b[0m\u001b[0m\n\u001b[0m",
      "\u001b[1;31mNameError\u001b[0m: name 'nombre' is not defined"
     ]
    }
   ],
   "source": [
    "def saludar_a_persona(nombre):\n",
    "    saludo = \"Te estoy saludando a tí \" + nombre + \"! Buenas tardes!\"    \n",
    "saludar_a_persona(\"Pablo\")\n",
    "print(nombre)"
   ]
  },
  {
   "cell_type": "markdown",
   "metadata": {
    "slideshow": {
     "slide_type": "fragment"
    }
   },
   "source": [
    "- ¿Que ocurre si ejecutamos el código?"
   ]
  },
  {
   "cell_type": "markdown",
   "metadata": {
    "slideshow": {
     "slide_type": "fragment"
    }
   },
   "source": [
    "- ¿Y si en vez de *saludo* imprimimos *nombre*?"
   ]
  },
  {
   "cell_type": "markdown",
   "metadata": {
    "slideshow": {
     "slide_type": "subslide"
    }
   },
   "source": [
    "### Ejemplo 4: Variables globales en funciones"
   ]
  },
  {
   "cell_type": "code",
   "execution_count": 6,
   "metadata": {
    "slideshow": {
     "slide_type": "fragment"
    }
   },
   "outputs": [],
   "source": [
    "def saludar_a_persona():\n",
    "    saludo = \"Te estoy saludando a tí \" + nombre + \"! Buenas tardes!\"\n",
    "    return saludo"
   ]
  },
  {
   "cell_type": "markdown",
   "metadata": {
    "slideshow": {
     "slide_type": "fragment"
    }
   },
   "source": [
    "- ¿Que ocurre en este caso?"
   ]
  },
  {
   "cell_type": "code",
   "execution_count": 7,
   "metadata": {
    "slideshow": {
     "slide_type": "fragment"
    }
   },
   "outputs": [
    {
     "name": "stdout",
     "output_type": "stream",
     "text": [
      "Te estoy saludando a tí Caro! Buenas tardes!\n"
     ]
    }
   ],
   "source": [
    "nombre = \"Caro\"\n",
    "saludo_a_persona = saludar_a_persona()\n",
    "print(saludo_a_persona)"
   ]
  },
  {
   "cell_type": "markdown",
   "metadata": {
    "slideshow": {
     "slide_type": "subslide"
    }
   },
   "source": [
    "### ¿Que pasa si cambiamos el orden de ejecución?"
   ]
  },
  {
   "cell_type": "code",
   "execution_count": 8,
   "metadata": {
    "slideshow": {
     "slide_type": "fragment"
    }
   },
   "outputs": [
    {
     "ename": "NameError",
     "evalue": "name 'otro_nombre' is not defined",
     "output_type": "error",
     "traceback": [
      "\u001b[1;31m---------------------------------------------------------------------------\u001b[0m",
      "\u001b[1;31mNameError\u001b[0m                                 Traceback (most recent call last)",
      "\u001b[1;32m<ipython-input-8-0cb02a4394f7>\u001b[0m in \u001b[0;36m<module>\u001b[1;34m()\u001b[0m\n\u001b[0;32m      3\u001b[0m     \u001b[1;32mreturn\u001b[0m \u001b[0msaludo\u001b[0m\u001b[1;33m\u001b[0m\u001b[0m\n\u001b[0;32m      4\u001b[0m \u001b[1;33m\u001b[0m\u001b[0m\n\u001b[1;32m----> 5\u001b[1;33m \u001b[0msaludo_a_persona\u001b[0m \u001b[1;33m=\u001b[0m \u001b[0msaludar_a_persona\u001b[0m\u001b[1;33m(\u001b[0m\u001b[1;33m)\u001b[0m\u001b[1;33m\u001b[0m\u001b[0m\n\u001b[0m\u001b[0;32m      6\u001b[0m \u001b[0motro_nombre\u001b[0m \u001b[1;33m=\u001b[0m \u001b[1;34m\"Caro\"\u001b[0m\u001b[1;33m\u001b[0m\u001b[0m\n\u001b[0;32m      7\u001b[0m \u001b[0mprint\u001b[0m\u001b[1;33m(\u001b[0m\u001b[0msaludo_a_persona\u001b[0m\u001b[1;33m)\u001b[0m\u001b[1;33m\u001b[0m\u001b[0m\n",
      "\u001b[1;32m<ipython-input-8-0cb02a4394f7>\u001b[0m in \u001b[0;36msaludar_a_persona\u001b[1;34m()\u001b[0m\n\u001b[0;32m      1\u001b[0m \u001b[1;32mdef\u001b[0m \u001b[0msaludar_a_persona\u001b[0m\u001b[1;33m(\u001b[0m\u001b[1;33m)\u001b[0m\u001b[1;33m:\u001b[0m\u001b[1;33m\u001b[0m\u001b[0m\n\u001b[1;32m----> 2\u001b[1;33m     \u001b[0msaludo\u001b[0m \u001b[1;33m=\u001b[0m \u001b[1;34m\"Te estoy saludando a tí \"\u001b[0m \u001b[1;33m+\u001b[0m \u001b[0motro_nombre\u001b[0m \u001b[1;33m+\u001b[0m \u001b[1;34m\"! Buenas tardes!\"\u001b[0m\u001b[1;33m\u001b[0m\u001b[0m\n\u001b[0m\u001b[0;32m      3\u001b[0m     \u001b[1;32mreturn\u001b[0m \u001b[0msaludo\u001b[0m\u001b[1;33m\u001b[0m\u001b[0m\n\u001b[0;32m      4\u001b[0m \u001b[1;33m\u001b[0m\u001b[0m\n\u001b[0;32m      5\u001b[0m \u001b[0msaludo_a_persona\u001b[0m \u001b[1;33m=\u001b[0m \u001b[0msaludar_a_persona\u001b[0m\u001b[1;33m(\u001b[0m\u001b[1;33m)\u001b[0m\u001b[1;33m\u001b[0m\u001b[0m\n",
      "\u001b[1;31mNameError\u001b[0m: name 'otro_nombre' is not defined"
     ]
    }
   ],
   "source": [
    "def saludar_a_persona():\n",
    "    saludo = \"Te estoy saludando a tí \" + otro_nombre + \"! Buenas tardes!\"\n",
    "    return saludo\n",
    "\n",
    "saludo_a_persona = saludar_a_persona()\n",
    "otro_nombre = \"Caro\"\n",
    "print(saludo_a_persona)"
   ]
  },
  {
   "cell_type": "markdown",
   "metadata": {
    "slideshow": {
     "slide_type": "subslide"
    }
   },
   "source": [
    "### Ejemplo 5: Usos de funciones"
   ]
  },
  {
   "cell_type": "code",
   "execution_count": 9,
   "metadata": {
    "slideshow": {
     "slide_type": "fragment"
    }
   },
   "outputs": [],
   "source": [
    "def saludar_a_persona(nombre):\n",
    "    saludo = \"Te estoy saludando a tí \" + nombre + \"! Buenas tardes!\"\n",
    "    return saludo"
   ]
  },
  {
   "cell_type": "code",
   "execution_count": 10,
   "metadata": {
    "slideshow": {
     "slide_type": "fragment"
    }
   },
   "outputs": [
    {
     "name": "stdout",
     "output_type": "stream",
     "text": [
      "Te estoy saludando a tí Pablo! Buenas tardes!\n",
      "Soy Michael ,un gusto en conocerte!\n"
     ]
    }
   ],
   "source": [
    "def presentarme_a_persona(mi_nombre, su_nombre):\n",
    "    saludo = saludar_a_persona(su_nombre)\n",
    "    presentacion = \"Soy \" + mi_nombre + \" ,un gusto en conocerte!\"\n",
    "    return saludo + \"\\n\" + presentacion\n",
    "texto_final = presentarme_a_persona(\"Michael\", \"Pablo\")\n",
    "print(texto_final)"
   ]
  },
  {
   "cell_type": "markdown",
   "metadata": {
    "slideshow": {
     "slide_type": "slide"
    }
   },
   "source": [
    "### Tema  2: Lectura de archivos"
   ]
  },
  {
   "cell_type": "markdown",
   "metadata": {
    "slideshow": {
     "slide_type": "slide"
    }
   },
   "source": [
    "### Ejercicio: Recordando la ~~tenebrosa~~ Actividad AC01"
   ]
  },
  {
   "cell_type": "markdown",
   "metadata": {
    "slideshow": {
     "slide_type": "fragment"
    }
   },
   "source": [
    "**cargar_emociones**(*ruta_archivo_emociones*): Esta funcion recibe la ruta al archivo que contiene las emociones de los Cims del sistema: *emociones.txt*. Esta funcion debe cargar el contenido del archivo guardando la informacion de cada línea en una estructura de datos adecuada, de forma que las emociones de cada Cim se puedan asociar una ́unica vez a ese Cim, de acuerdo a su identificador.Recuerda que las emociones pueden venir repetidas. Esta funcion debe retornar la estructura creada."
   ]
  },
  {
   "cell_type": "code",
   "execution_count": 13,
   "metadata": {
    "slideshow": {
     "slide_type": "subslide"
    }
   },
   "outputs": [
    {
     "name": "stdout",
     "output_type": "stream",
     "text": [
      "defaultdict(<class 'set'>, {'0': {'enfadado', 'seguro', 'inspirado', 'coqueto', 'contento', 'triste', 'aburrido', 'centrado'}, '1': {'seguro', 'enfadado', 'inspirado', 'atontado', 'coqueto', 'incómodo', 'contento', 'aburrido', 'avergonzado', 'tenso'}, '2': {'enfadado', 'coqueto', 'contento', 'dormido', 'triste', 'vacilón', 'avergonzado', 'tenso', 'vigorizado'}, '3': {'atontado', 'inspirado', 'coqueto', 'normal', 'contento', 'vacilón'}, '4': {'enfadado', 'atontado', 'inspirado', 'dormido', 'vacilón', 'aburrido'}, '5': {'atontado', 'enfadado', 'inspirado', 'coqueto', 'dormido', 'triste', 'vacilón', 'centrado', 'aburrido', 'vigorizado'}, '6': {'seguro', 'atontado', 'inspirado', 'incómodo', 'dormido', 'triste', 'aburrido', 'vigorizado'}, '7': {'incómodo', 'enfadado', 'triste', 'centrado', 'vigorizado'}, '8': {'incómodo', 'inspirado', 'coqueto', 'contento', 'dormido', 'triste', 'vacilón'}, '9': {'enfadado', 'vacilón', 'triste', 'aburrido'}, '10': {'atontado', 'enfadado', 'inspirado', 'incómodo', 'contento', 'dormido', 'triste', 'aburrido', 'vigorizado'}, '11': {'incómodo', 'seguro', 'enfadado', 'inspirado', 'normal', 'contento', 'dormido', 'triste', 'centrado'}, '12': {'seguro', 'coqueto', 'normal', 'vacilón', 'triste', 'centrado', 'aburrido', 'tenso', 'vigorizado'}, '13': {'incómodo', 'enfadado', 'coqueto', 'triste', 'aburrido', 'avergonzado', 'tenso'}, '14': {'seguro', 'enfadado', 'inspirado', 'contento', 'dormido', 'vacilón'}, '15': {'atontado', 'incómodo', 'inspirado', 'coqueto', 'seguro', 'vacilón', 'vigorizado'}, '16': {'atontado', 'enfadado', 'inspirado', 'incómodo', 'seguro', 'normal', 'dormido', 'centrado', 'avergonzado', 'tenso', 'vigorizado'}, '17': {'atontado', 'inspirado', 'triste', 'aburrido', 'avergonzado'}, '18': {'enfadado', 'normal', 'contento', 'vacilón', 'avergonzado', 'tenso', 'centrado'}, '19': {'enfadado', 'atontado', 'inspirado', 'seguro', 'incómodo', 'normal', 'dormido', 'vacilón', 'aburrido', 'tenso'}, '20': {'coqueto', 'normal', 'vacilón', 'aburrido', 'avergonzado', 'tenso'}, '21': {'enfadado', 'inspirado', 'normal', 'contento', 'dormido', 'triste', 'vacilón', 'avergonzado', 'centrado'}, '22': {'atontado', 'enfadado', 'incómodo', 'coqueto', 'contento', 'dormido', 'triste', 'avergonzado', 'tenso', 'centrado'}, '23': {'incómodo', 'inspirado', 'normal', 'contento', 'triste', 'aburrido', 'tenso', 'vigorizado'}, '24': {'incómodo', 'seguro', 'atontado', 'normal', 'dormido', 'triste', 'vacilón', 'aburrido', 'avergonzado', 'centrado'}, '25': {'incómodo', 'seguro', 'coqueto', 'contento', 'vacilón', 'triste', 'centrado', 'aburrido', 'avergonzado', 'vigorizado'}, '26': {'inspirado', 'coqueto', 'triste', 'aburrido', 'vigorizado'}, '27': {'seguro', 'atontado', 'normal', 'contento', 'dormido', 'triste', 'aburrido', 'centrado'}, '28': {'incómodo', 'atontado', 'inspirado', 'contento', 'avergonzado'}, '29': {'enfadado', 'atontado', 'normal', 'dormido', 'triste', 'aburrido'}, '30': {'incómodo', 'seguro', 'atontado', 'dormido', 'vacilón', 'avergonzado'}, '31': {'seguro', 'enfadado', 'coqueto', 'dormido', 'triste', 'aburrido', 'avergonzado', 'tenso', 'centrado'}, '32': {'atontado', 'incómodo', 'inspirado', 'seguro', 'contento', 'dormido', 'centrado', 'vigorizado'}, '33': {'seguro', 'enfadado', 'incómodo', 'inspirado', 'contento', 'triste', 'tenso', 'vigorizado'}, '34': {'normal', 'vigorizado', 'contento', 'triste', 'aburrido', 'avergonzado', 'tenso', 'centrado'}, '35': {'seguro', 'enfadado', 'contento', 'dormido', 'aburrido', 'centrado'}, '36': {'normal', 'contento', 'vigorizado', 'avergonzado'}, '37': {'incómodo', 'atontado', 'inspirado', 'coqueto', 'seguro', 'dormido', 'triste', 'vigorizado'}, '38': {'enfadado', 'atontado', 'inspirado', 'coqueto', 'seguro', 'normal', 'contento', 'aburrido', 'tenso'}, '39': {'seguro', 'incómodo', 'inspirado', 'atontado', 'centrado'}, '40': {'seguro', 'enfadado', 'coqueto', 'dormido', 'vacilón', 'triste', 'aburrido', 'avergonzado', 'centrado'}, '41': {'atontado', 'incómodo', 'seguro', 'coqueto', 'normal', 'contento', 'dormido', 'vacilón', 'aburrido', 'tenso'}, '42': {'incómodo', 'seguro', 'atontado', 'coqueto', 'normal', 'contento', 'dormido', 'triste', 'tenso', 'centrado'}, '43': {'seguro', 'incómodo', 'enfadado', 'normal', 'contento', 'dormido', 'vacilón', 'centrado', 'vigorizado'}, '44': {'enfadado', 'contento', 'dormido', 'triste', 'aburrido'}, '45': {'seguro', 'enfadado', 'atontado', 'dormido', 'vacilón', 'aburrido', 'avergonzado', 'centrado'}, '46': {'atontado', 'incómodo', 'inspirado', 'coqueto', 'normal', 'contento', 'dormido', 'triste', 'aburrido', 'centrado'}, '47': {'incómodo', 'seguro', 'enfadado', 'coqueto', 'normal', 'aburrido', 'vigorizado'}, '48': {'tenso', 'coqueto', 'dormido', 'centrado'}, '49': {'incómodo', 'normal', 'dormido', 'centrado', 'avergonzado', 'tenso', 'vigorizado'}, '50': {'seguro', 'incómodo', 'inspirado', 'atontado', 'enfadado', 'contento', 'dormido', 'triste', 'vacilón'}, '51': {'seguro', 'enfadado', 'incómodo', 'coqueto', 'inspirado', 'normal', 'dormido', 'avergonzado', 'tenso', 'vigorizado'}, '52': {'seguro', 'enfadado', 'coqueto', 'dormido', 'triste', 'vacilón', 'tenso', 'vigorizado'}, '53': {'seguro', 'coqueto', 'dormido', 'vacilón', 'centrado', 'vigorizado'}, '54': {'seguro', 'incómodo', 'enfadado', 'coqueto', 'atontado', 'dormido', 'aburrido', 'vigorizado'}, '55': {'seguro', 'atontado', 'inspirado', 'normal', 'vigorizado', 'contento', 'triste', 'aburrido', 'tenso', 'centrado'}, '56': {'seguro', 'enfadado', 'inspirado', 'incómodo', 'normal', 'dormido', 'vacilón', 'tenso', 'vigorizado'}, '57': {'incómodo', 'coqueto', 'contento', 'avergonzado', 'vigorizado'}, '58': {'seguro', 'enfadado', 'coqueto', 'dormido', 'triste', 'aburrido', 'tenso'}, '59': {'enfadado', 'atontado', 'seguro', 'coqueto', 'dormido', 'aburrido'}, '60': {'seguro', 'enfadado', 'inspirado', 'coqueto', 'tenso'}, '61': {'triste', 'centrado', 'coqueto', 'tenso'}, '62': {'enfadado', 'atontado', 'inspirado', 'coqueto', 'normal', 'vigorizado', 'contento', 'triste', 'vacilón', 'aburrido', 'centrado'}, '63': {'seguro', 'atontado', 'inspirado', 'coqueto', 'vigorizado', 'dormido', 'vacilón', 'avergonzado', 'tenso', 'centrado'}, '64': {'incómodo', 'atontado', 'contento', 'triste', 'tenso', 'centrado'}, '65': {'enfadado', 'atontado', 'normal', 'dormido', 'vacilón', 'triste'}, '66': {'enfadado', 'atontado', 'inspirado', 'incómodo', 'normal', 'triste'}, '67': {'incómodo', 'enfadado', 'normal', 'vigorizado', 'vacilón', 'triste', 'tenso', 'centrado'}, '68': {'enfadado', 'incómodo', 'atontado', 'coqueto', 'centrado', 'aburrido', 'avergonzado', 'tenso', 'vigorizado'}, '69': {'inspirado', 'coqueto', 'dormido'}, '70': {'incómodo', 'atontado', 'coqueto', 'normal', 'contento', 'dormido', 'avergonzado', 'tenso', 'centrado'}, '71': {'incómodo', 'seguro', 'inspirado', 'coqueto', 'normal', 'vacilón', 'aburrido', 'tenso'}, '72': {'atontado', 'inspirado', 'coqueto', 'normal', 'contento', 'dormido', 'triste', 'tenso', 'centrado'}, '73': {'enfadado', 'seguro', 'incómodo', 'inspirado', 'coqueto', 'contento', 'vacilón', 'avergonzado', 'vigorizado'}, '74': {'seguro', 'incómodo', 'atontado', 'coqueto', 'tenso'}, '75': {'seguro', 'enfadado', 'inspirado', 'normal', 'contento', 'triste', 'vacilón', 'tenso'}, '76': {'seguro', 'incómodo', 'atontado', 'inspirado', 'coqueto', 'normal', 'contento', 'centrado', 'aburrido', 'tenso', 'vigorizado'}, '77': {'atontado', 'enfadado', 'inspirado', 'incómodo', 'vigorizado', 'centrado'}, '78': {'incómodo', 'atontado', 'inspirado', 'contento', 'vacilón', 'avergonzado', 'vigorizado'}, '79': {'enfadado', 'inspirado', 'normal', 'contento', 'dormido', 'vigorizado'}, '80': {'seguro', 'incómodo', 'inspirado', 'contento', 'vacilón', 'centrado', 'aburrido', 'avergonzado', 'tenso', 'vigorizado'}, '81': {'atontado', 'seguro', 'normal', 'dormido', 'vacilón', 'aburrido', 'avergonzado'}, '82': {'seguro', 'enfadado', 'incómodo', 'coqueto', 'atontado', 'normal', 'triste', 'vacilón', 'avergonzado', 'tenso', 'vigorizado'}, '83': {'incómodo', 'normal', 'dormido', 'triste', 'aburrido', 'avergonzado'}, '84': {'tenso', 'coqueto', 'triste', 'aburrido'}, '85': {'incómodo', 'enfadado', 'atontado', 'coqueto', 'seguro', 'contento', 'vacilón', 'triste', 'centrado'}, '86': {'enfadado', 'atontado', 'inspirado', 'coqueto', 'incómodo', 'dormido', 'tenso'}, '87': {'enfadado', 'incómodo', 'atontado', 'inspirado', 'contento', 'triste', 'vacilón', 'aburrido', 'avergonzado'}, '88': {'seguro', 'atontado', 'inspirado', 'coqueto', 'enfadado', 'dormido', 'triste', 'vacilón', 'aburrido', 'avergonzado', 'tenso', 'centrado'}, '89': {'enfadado', 'inspirado', 'contento', 'dormido', 'tenso', 'centrado'}, '90': {'inspirado', 'coqueto', 'contento', 'vacilón', 'avergonzado'}, '91': {'seguro', 'enfadado', 'coqueto', 'contento', 'centrado'}, '92': {'inspirado', 'normal', 'contento', 'dormido', 'vigorizado'}, '93': {'seguro', 'incómodo', 'inspirado', 'atontado', 'normal', 'vacilón', 'triste', 'avergonzado'}, '94': {'incómodo', 'inspirado', 'contento', 'dormido', 'avergonzado', 'centrado'}, '95': {'seguro', 'coqueto', 'triste', 'aburrido', 'avergonzado', 'tenso'}, '96': {'atontado', 'incómodo', 'seguro', 'coqueto', 'inspirado', 'vacilón', 'tenso', 'centrado'}, '97': {'atontado', 'enfadado', 'coqueto', 'contento', 'vacilón', 'aburrido', 'avergonzado', 'tenso'}, '98': {'seguro', 'normal', 'triste', 'vacilón', 'aburrido'}, '99': {'seguro', 'enfadado', 'atontado', 'coqueto', 'vacilón', 'avergonzado', 'centrado'}})\n"
     ]
    }
   ],
   "source": [
    "# Esta función carga las emociones en un diccionario de la forma id_cim : set de emociones\n",
    "from collections import defaultdict\n",
    "def cargar_emociones(ruta_archivo_emociones):\n",
    "    emociones = defaultdict(set)\n",
    "    with open(ruta_archivo_emociones, encoding=\"utf-8\") as mi_archivo:\n",
    "        for linea in mi_archivo:\n",
    "            id_cim, emocion = linea.strip(\"\\n\").split(\",\")\n",
    "            #emociones[id_cim].add(emocion)\n",
    "            set_correspondiente = emociones[id_cim]\n",
    "            set_correspondiente.add(emocion)\n",
    "            emociones[id_cim] = set_correspondiente\n",
    "            \n",
    "    return emociones\n",
    "var = cargar_emociones(\"emociones.txt\")\n",
    "print(var)"
   ]
  },
  {
   "cell_type": "markdown",
   "metadata": {
    "slideshow": {
     "slide_type": "fragment"
    }
   },
   "source": [
    "- ¿Cuales eran los modos de `open`?"
   ]
  },
  {
   "cell_type": "markdown",
   "metadata": {
    "slideshow": {
     "slide_type": "fragment"
    }
   },
   "source": [
    "- ¿Por qué ocupar `with` y `encoding`?"
   ]
  },
  {
   "cell_type": "markdown",
   "metadata": {
    "slideshow": {
     "slide_type": "fragment"
    }
   },
   "source": [
    "- ¿Como ayudan `strip` y `split` a leer un archivo?"
   ]
  },
  {
   "cell_type": "markdown",
   "metadata": {
    "slideshow": {
     "slide_type": "fragment"
    }
   },
   "source": [
    "- ¿Que significa *desempaquetar* una lista?"
   ]
  },
  {
   "cell_type": "markdown",
   "metadata": {
    "slideshow": {
     "slide_type": "slide"
    }
   },
   "source": [
    "### Tema  3: Tips y buenas practicas"
   ]
  },
  {
   "cell_type": "markdown",
   "metadata": {
    "slideshow": {
     "slide_type": "subslide"
    }
   },
   "source": [
    "### Tips"
   ]
  },
  {
   "cell_type": "code",
   "execution_count": null,
   "metadata": {
    "slideshow": {
     "slide_type": "fragment"
    }
   },
   "outputs": [],
   "source": [
    "# Supuesto archivo llamado modulo.py\n",
    "def presentacion(nombre):\n",
    "    return \"Hola me llamo \" + nombre\n",
    "\n",
    "if __name__ == \"__main__\":\n",
    "    for i in range(10):\n",
    "        print(\"UwU\")"
   ]
  },
  {
   "cell_type": "markdown",
   "metadata": {
    "slideshow": {
     "slide_type": "fragment"
    }
   },
   "source": [
    "- Uso de `if __name__ == \"__main__\":`"
   ]
  },
  {
   "cell_type": "code",
   "execution_count": null,
   "metadata": {
    "slideshow": {
     "slide_type": "subslide"
    }
   },
   "outputs": [],
   "source": [
    "# Supusto archivo llamado main.py\n",
    "import modulo\n",
    "from modulo import presentacion\n",
    "from modulo import presentacion as mi_funcion\n",
    "\n",
    "# Si hubieran mas funciones se puede utilizar: \n",
    "from modulo import a, b, c, etc "
   ]
  },
  {
   "cell_type": "markdown",
   "metadata": {
    "slideshow": {
     "slide_type": "fragment"
    }
   },
   "source": [
    "- Imports eficientes"
   ]
  },
  {
   "cell_type": "markdown",
   "metadata": {
    "slideshow": {
     "slide_type": "subslide"
    }
   },
   "source": [
    "### Buenas Practicas"
   ]
  },
  {
   "cell_type": "code",
   "execution_count": null,
   "metadata": {
    "slideshow": {
     "slide_type": "fragment"
    }
   },
   "outputs": [],
   "source": [
    "# ¿Qué buenas practicas hay?\n",
    "def funcionbrigida(parametro_brigido):\n",
    "    variable_brigida = 2 #  Aqui habia un algoritmo brigido que hacia esto ...\n",
    "    return variable_resultado"
   ]
  },
  {
   "cell_type": "markdown",
   "metadata": {
    "slideshow": {
     "slide_type": "fragment"
    }
   },
   "source": [
    "- Variables descriptivas"
   ]
  },
  {
   "cell_type": "markdown",
   "metadata": {
    "slideshow": {
     "slide_type": "fragment"
    }
   },
   "source": [
    "- CamelCase y snake_case"
   ]
  },
  {
   "cell_type": "markdown",
   "metadata": {
    "slideshow": {
     "slide_type": "fragment"
    }
   },
   "source": [
    "- Comentarios y *docstrings*"
   ]
  },
  {
   "cell_type": "markdown",
   "metadata": {
    "slideshow": {
     "slide_type": "slide"
    }
   },
   "source": [
    "### Muchas gracias, exito en sus actividades!"
   ]
  },
  {
   "cell_type": "markdown",
   "metadata": {
    "slideshow": {
     "slide_type": "fragment"
    }
   },
   "source": [
    "[Link Feedback](https://docs.google.com/forms/d/e/1FAIpQLSegdf6lcaGN7eNRLWkxAQwmVZmIjovTTfjLqDsOG458_h7EhQ/formrestricted), por favor respondanlo :D!"
   ]
  }
 ],
 "metadata": {
  "celltoolbar": "Slideshow",
  "kernelspec": {
   "display_name": "Python 3",
   "language": "python",
   "name": "python3"
  },
  "language_info": {
   "codemirror_mode": {
    "name": "ipython",
    "version": 3
   },
   "file_extension": ".py",
   "mimetype": "text/x-python",
   "name": "python",
   "nbconvert_exporter": "python",
   "pygments_lexer": "ipython3",
   "version": "3.6.6"
  }
 },
 "nbformat": 4,
 "nbformat_minor": 2
}
